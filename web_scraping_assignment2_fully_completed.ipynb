{
 "cells": [
  {
   "cell_type": "code",
   "execution_count": 1,
   "id": "cd0e8b1b",
   "metadata": {},
   "outputs": [],
   "source": [
    "import selenium\n",
    "import pandas as pd\n",
    "import numpy as np\n",
    "import warnings\n",
    "warnings.filterwarnings('ignore')"
   ]
  },
  {
   "cell_type": "code",
   "execution_count": 2,
   "id": "2e1f8be0",
   "metadata": {},
   "outputs": [],
   "source": [
    "from selenium import webdriver \n",
    "import time"
   ]
  },
  {
   "cell_type": "code",
   "execution_count": 3,
   "id": "ed9d8200",
   "metadata": {},
   "outputs": [],
   "source": [
    "driver=webdriver.Chrome(r\"C:\\Web Driver\\chromedriver.exe\")"
   ]
  },
  {
   "cell_type": "code",
   "execution_count": 4,
   "id": "c9e99cae",
   "metadata": {},
   "outputs": [],
   "source": [
    "time.sleep(2)"
   ]
  },
  {
   "cell_type": "code",
   "execution_count": 5,
   "id": "f8419eb1",
   "metadata": {},
   "outputs": [],
   "source": [
    "# Ans 1). To scrape data for “Data Analyst” Job position in “Bangalore” location."
   ]
  },
  {
   "cell_type": "code",
   "execution_count": 6,
   "id": "c2788063",
   "metadata": {},
   "outputs": [],
   "source": [
    "driver.get(\"https://www.naukri.com/\")"
   ]
  },
  {
   "cell_type": "code",
   "execution_count": 7,
   "id": "690f6fa5",
   "metadata": {},
   "outputs": [],
   "source": [
    "search_desig = driver.find_element_by_class_name('suggestor-input')"
   ]
  },
  {
   "cell_type": "code",
   "execution_count": 8,
   "id": "989256d9",
   "metadata": {},
   "outputs": [],
   "source": [
    "search_desig.send_keys('Data Analyst')"
   ]
  },
  {
   "cell_type": "code",
   "execution_count": 9,
   "id": "3a77a452",
   "metadata": {},
   "outputs": [],
   "source": [
    "search_loc = driver.find_element_by_xpath(\"/html/body/div/div[2]/div[3]/div/div/div[5]/div/div/div/input\")"
   ]
  },
  {
   "cell_type": "code",
   "execution_count": 10,
   "id": "df306171",
   "metadata": {},
   "outputs": [],
   "source": [
    "search_loc.send_keys(\"Bangalore\")"
   ]
  },
  {
   "cell_type": "code",
   "execution_count": 11,
   "id": "70a4b72e",
   "metadata": {},
   "outputs": [],
   "source": [
    "search_button=driver.find_element_by_class_name(\"qsbSubmit\")"
   ]
  },
  {
   "cell_type": "code",
   "execution_count": 12,
   "id": "bdbcc01c",
   "metadata": {},
   "outputs": [],
   "source": [
    "search_button.click()"
   ]
  },
  {
   "cell_type": "code",
   "execution_count": 13,
   "id": "59b6a97d",
   "metadata": {},
   "outputs": [],
   "source": [
    "job_title=[]\n",
    "job_loc=[]\n",
    "comp_name=[]\n",
    "exp=[]\n",
    "title = driver.find_elements_by_xpath(\"//a[@class = 'title fw500 ellipsis']\")\n",
    "title=title[0:10]"
   ]
  },
  {
   "cell_type": "code",
   "execution_count": 14,
   "id": "7430eb55",
   "metadata": {},
   "outputs": [
    {
     "data": {
      "text/plain": [
       "['Business Analyst/Data analyst - Payments Domain',\n",
       " 'Senior Data Analyst - KPO',\n",
       " 'Data Engineering Analyst',\n",
       " 'Data Analyst',\n",
       " 'Market Data Analyst',\n",
       " 'Business Analyst/ Data Analyst',\n",
       " 'Business Data Analyst',\n",
       " 'Data Analyst - Business & Digital',\n",
       " 'Senior Data Analyst',\n",
       " 'EY GDS Data Analyst-Finland based project']"
      ]
     },
     "execution_count": 14,
     "metadata": {},
     "output_type": "execute_result"
    }
   ],
   "source": [
    "job_title=[]\n",
    "for i in title:\n",
    "    job_title.append(i.text)\n",
    "job_title        "
   ]
  },
  {
   "cell_type": "code",
   "execution_count": 15,
   "id": "8adc6f89",
   "metadata": {},
   "outputs": [
    {
     "data": {
      "text/plain": [
       "[<selenium.webdriver.remote.webelement.WebElement (session=\"a3eadba6ed915f76ec11b9367d7d406b\", element=\"5655bd2c-bb0d-4ac9-9ce5-9a8529e1e517\")>,\n",
       " <selenium.webdriver.remote.webelement.WebElement (session=\"a3eadba6ed915f76ec11b9367d7d406b\", element=\"a6022c90-d57e-42e4-b472-eaeeabc8df72\")>,\n",
       " <selenium.webdriver.remote.webelement.WebElement (session=\"a3eadba6ed915f76ec11b9367d7d406b\", element=\"f4ee7f5a-c20c-45ed-9f70-3a705e7fc5d5\")>,\n",
       " <selenium.webdriver.remote.webelement.WebElement (session=\"a3eadba6ed915f76ec11b9367d7d406b\", element=\"8f5167c2-dfd1-4bf8-985f-4f6638e452e4\")>,\n",
       " <selenium.webdriver.remote.webelement.WebElement (session=\"a3eadba6ed915f76ec11b9367d7d406b\", element=\"1b4a07f8-e3cb-4ffb-8b4a-b53e4531e461\")>,\n",
       " <selenium.webdriver.remote.webelement.WebElement (session=\"a3eadba6ed915f76ec11b9367d7d406b\", element=\"0e93c7a6-3756-42a3-a926-4133cc920ce8\")>,\n",
       " <selenium.webdriver.remote.webelement.WebElement (session=\"a3eadba6ed915f76ec11b9367d7d406b\", element=\"75631675-2c2c-4f38-80af-ce0ccb615ad2\")>,\n",
       " <selenium.webdriver.remote.webelement.WebElement (session=\"a3eadba6ed915f76ec11b9367d7d406b\", element=\"dfd45cdd-ec72-4f56-8042-21e647e38e94\")>,\n",
       " <selenium.webdriver.remote.webelement.WebElement (session=\"a3eadba6ed915f76ec11b9367d7d406b\", element=\"c3cfe38f-67f4-4321-ad81-22ded38ff8e7\")>,\n",
       " <selenium.webdriver.remote.webelement.WebElement (session=\"a3eadba6ed915f76ec11b9367d7d406b\", element=\"677ab994-e110-4a16-aae8-f5f254d9aa21\")>]"
      ]
     },
     "execution_count": 15,
     "metadata": {},
     "output_type": "execute_result"
    }
   ],
   "source": [
    "loc=driver.find_elements_by_xpath(\"//li[@class='fleft grey-text br2 placeHolderLi location']/span\")\n",
    "loc=loc[0:10]\n",
    "loc"
   ]
  },
  {
   "cell_type": "code",
   "execution_count": 16,
   "id": "6502fa74",
   "metadata": {},
   "outputs": [
    {
     "data": {
      "text/plain": [
       "['Hyderabad/Secunderabad, Pune, Chennai, Bangalore/Bengaluru',\n",
       " 'Gurgaon/Gurugram, Bangalore/Bengaluru, Gurgaon/Gurugram/Bangalore',\n",
       " 'Bangalore/Bengaluru',\n",
       " 'Bangalore/Bengaluru(Kundalahalli +2)',\n",
       " 'Bangalore/Bengaluru',\n",
       " 'Mumbai, Hyderabad/Secunderabad, Pune, Chennai, Bangalore/Bengaluru',\n",
       " 'Bangalore/Bengaluru',\n",
       " 'Bangalore/Bengaluru',\n",
       " 'Bangalore/Bengaluru',\n",
       " 'Bangalore/Bengaluru']"
      ]
     },
     "execution_count": 16,
     "metadata": {},
     "output_type": "execute_result"
    }
   ],
   "source": [
    "job_loc=[]\n",
    "for i in loc:\n",
    "    job_loc.append(i.text)\n",
    "job_loc"
   ]
  },
  {
   "cell_type": "code",
   "execution_count": 17,
   "id": "bdc10cda",
   "metadata": {},
   "outputs": [
    {
     "data": {
      "text/plain": [
       "[<selenium.webdriver.remote.webelement.WebElement (session=\"a3eadba6ed915f76ec11b9367d7d406b\", element=\"3dc413db-3954-4d82-858c-4a461594be10\")>,\n",
       " <selenium.webdriver.remote.webelement.WebElement (session=\"a3eadba6ed915f76ec11b9367d7d406b\", element=\"dac28b2f-d2f0-4fb9-844e-c47c11503276\")>,\n",
       " <selenium.webdriver.remote.webelement.WebElement (session=\"a3eadba6ed915f76ec11b9367d7d406b\", element=\"40492230-5339-499d-93e5-216d55c1bace\")>,\n",
       " <selenium.webdriver.remote.webelement.WebElement (session=\"a3eadba6ed915f76ec11b9367d7d406b\", element=\"dd3920ce-3324-464c-b8d8-8a09ba57e286\")>,\n",
       " <selenium.webdriver.remote.webelement.WebElement (session=\"a3eadba6ed915f76ec11b9367d7d406b\", element=\"36651afc-edd0-4855-8a44-8afb4bcb6dac\")>,\n",
       " <selenium.webdriver.remote.webelement.WebElement (session=\"a3eadba6ed915f76ec11b9367d7d406b\", element=\"afd227b9-f48a-470f-8e94-3da5f8196ecd\")>,\n",
       " <selenium.webdriver.remote.webelement.WebElement (session=\"a3eadba6ed915f76ec11b9367d7d406b\", element=\"84191088-b3ad-42bd-9048-3072f8c99b25\")>,\n",
       " <selenium.webdriver.remote.webelement.WebElement (session=\"a3eadba6ed915f76ec11b9367d7d406b\", element=\"2455a37a-38ee-4533-b9d4-d898dff3c637\")>,\n",
       " <selenium.webdriver.remote.webelement.WebElement (session=\"a3eadba6ed915f76ec11b9367d7d406b\", element=\"8c27b41a-9740-4aa4-875b-c3675e0534b4\")>,\n",
       " <selenium.webdriver.remote.webelement.WebElement (session=\"a3eadba6ed915f76ec11b9367d7d406b\", element=\"dc611207-c34c-4e1f-95e8-61b3bb8c1f3e\")>]"
      ]
     },
     "execution_count": 17,
     "metadata": {},
     "output_type": "execute_result"
    }
   ],
   "source": [
    "exp_tags = driver.find_elements_by_xpath(\"//li[@class='fleft grey-text br2 placeHolderLi experience']/span\")\n",
    "exp_tags=exp_tags[0:10]\n",
    "exp_tags"
   ]
  },
  {
   "cell_type": "markdown",
   "id": "f1fbcbec",
   "metadata": {},
   "source": []
  },
  {
   "cell_type": "code",
   "execution_count": 18,
   "id": "b02cd19a",
   "metadata": {},
   "outputs": [
    {
     "data": {
      "text/plain": [
       "['4-8 Yrs',\n",
       " '7-12 Yrs',\n",
       " '0-3 Yrs',\n",
       " '0-2 Yrs',\n",
       " '1-2 Yrs',\n",
       " '5-10 Yrs',\n",
       " '2-5 Yrs',\n",
       " '4-9 Yrs',\n",
       " '5-10 Yrs',\n",
       " '0-1 Yrs']"
      ]
     },
     "execution_count": 18,
     "metadata": {},
     "output_type": "execute_result"
    }
   ],
   "source": [
    "for i in exp_tags:\n",
    "    exp.append(i.text)\n",
    "exp"
   ]
  },
  {
   "cell_type": "code",
   "execution_count": 19,
   "id": "c299abd8",
   "metadata": {},
   "outputs": [
    {
     "data": {
      "text/plain": [
       "[<selenium.webdriver.remote.webelement.WebElement (session=\"a3eadba6ed915f76ec11b9367d7d406b\", element=\"a2c157f6-d352-4b7c-a366-4cca06f520bc\")>,\n",
       " <selenium.webdriver.remote.webelement.WebElement (session=\"a3eadba6ed915f76ec11b9367d7d406b\", element=\"a5e000f4-225f-48f3-aa82-743b92f135ae\")>,\n",
       " <selenium.webdriver.remote.webelement.WebElement (session=\"a3eadba6ed915f76ec11b9367d7d406b\", element=\"7ffbfcda-e9e2-42e9-a989-d17d6ba760ad\")>,\n",
       " <selenium.webdriver.remote.webelement.WebElement (session=\"a3eadba6ed915f76ec11b9367d7d406b\", element=\"f6612629-7f2e-4684-b7e6-670c3a432d66\")>,\n",
       " <selenium.webdriver.remote.webelement.WebElement (session=\"a3eadba6ed915f76ec11b9367d7d406b\", element=\"b701b125-9c6a-4688-9fa7-80da45b92f26\")>,\n",
       " <selenium.webdriver.remote.webelement.WebElement (session=\"a3eadba6ed915f76ec11b9367d7d406b\", element=\"c0220db1-fdca-43ec-b8a6-1f9e6241094e\")>,\n",
       " <selenium.webdriver.remote.webelement.WebElement (session=\"a3eadba6ed915f76ec11b9367d7d406b\", element=\"f9e556ab-0f26-4fb6-93ec-9cf390688785\")>,\n",
       " <selenium.webdriver.remote.webelement.WebElement (session=\"a3eadba6ed915f76ec11b9367d7d406b\", element=\"400e4d0b-aa5b-47f4-8b7f-2ae2fe8b0f17\")>,\n",
       " <selenium.webdriver.remote.webelement.WebElement (session=\"a3eadba6ed915f76ec11b9367d7d406b\", element=\"5794ad2c-5fe1-4639-8759-b429c31c4175\")>,\n",
       " <selenium.webdriver.remote.webelement.WebElement (session=\"a3eadba6ed915f76ec11b9367d7d406b\", element=\"c49e03cd-f792-4e00-af9b-aa7c55c5380e\")>]"
      ]
     },
     "execution_count": 19,
     "metadata": {},
     "output_type": "execute_result"
    }
   ],
   "source": [
    "name=driver.find_elements_by_xpath(\"//div[@class='mt-7 companyInfo subheading lh16']/a[1]\")\n",
    "name = name[0:10]\n",
    "name"
   ]
  },
  {
   "cell_type": "code",
   "execution_count": 20,
   "id": "9b52273a",
   "metadata": {},
   "outputs": [
    {
     "data": {
      "text/plain": [
       "['CGI',\n",
       " 'Huquo Consulting Pvt. Ltd',\n",
       " 'Dell Technologies',\n",
       " 'Traverze Consultancy Solutions Pvt, Ltd.',\n",
       " 'ICF',\n",
       " 'cliqhr.com',\n",
       " 'NXP Semiconductors',\n",
       " 'MilliporeSigma',\n",
       " 'Encora',\n",
       " 'EY']"
      ]
     },
     "execution_count": 20,
     "metadata": {},
     "output_type": "execute_result"
    }
   ],
   "source": [
    "comp_name=[]\n",
    "for i in name:\n",
    "    comp_name.append(i.text)\n",
    "comp_name"
   ]
  },
  {
   "cell_type": "code",
   "execution_count": 21,
   "id": "3bab8835",
   "metadata": {},
   "outputs": [
    {
     "data": {
      "text/html": [
       "<div>\n",
       "<style scoped>\n",
       "    .dataframe tbody tr th:only-of-type {\n",
       "        vertical-align: middle;\n",
       "    }\n",
       "\n",
       "    .dataframe tbody tr th {\n",
       "        vertical-align: top;\n",
       "    }\n",
       "\n",
       "    .dataframe thead th {\n",
       "        text-align: right;\n",
       "    }\n",
       "</style>\n",
       "<table border=\"1\" class=\"dataframe\">\n",
       "  <thead>\n",
       "    <tr style=\"text-align: right;\">\n",
       "      <th></th>\n",
       "      <th>Job-Title</th>\n",
       "      <th>Job-Location</th>\n",
       "      <th>Company_Name</th>\n",
       "      <th>Experience_reqd</th>\n",
       "    </tr>\n",
       "  </thead>\n",
       "  <tbody>\n",
       "    <tr>\n",
       "      <th>0</th>\n",
       "      <td>Business Analyst/Data analyst - Payments Domain</td>\n",
       "      <td>Hyderabad/Secunderabad, Pune, Chennai, Bangalo...</td>\n",
       "      <td>CGI</td>\n",
       "      <td>4-8 Yrs</td>\n",
       "    </tr>\n",
       "    <tr>\n",
       "      <th>1</th>\n",
       "      <td>Senior Data Analyst - KPO</td>\n",
       "      <td>Gurgaon/Gurugram, Bangalore/Bengaluru, Gurgaon...</td>\n",
       "      <td>Huquo Consulting Pvt. Ltd</td>\n",
       "      <td>7-12 Yrs</td>\n",
       "    </tr>\n",
       "    <tr>\n",
       "      <th>2</th>\n",
       "      <td>Data Engineering Analyst</td>\n",
       "      <td>Bangalore/Bengaluru</td>\n",
       "      <td>Dell Technologies</td>\n",
       "      <td>0-3 Yrs</td>\n",
       "    </tr>\n",
       "    <tr>\n",
       "      <th>3</th>\n",
       "      <td>Data Analyst</td>\n",
       "      <td>Bangalore/Bengaluru(Kundalahalli +2)</td>\n",
       "      <td>Traverze Consultancy Solutions Pvt, Ltd.</td>\n",
       "      <td>0-2 Yrs</td>\n",
       "    </tr>\n",
       "    <tr>\n",
       "      <th>4</th>\n",
       "      <td>Market Data Analyst</td>\n",
       "      <td>Bangalore/Bengaluru</td>\n",
       "      <td>ICF</td>\n",
       "      <td>1-2 Yrs</td>\n",
       "    </tr>\n",
       "    <tr>\n",
       "      <th>5</th>\n",
       "      <td>Business Analyst/ Data Analyst</td>\n",
       "      <td>Mumbai, Hyderabad/Secunderabad, Pune, Chennai,...</td>\n",
       "      <td>cliqhr.com</td>\n",
       "      <td>5-10 Yrs</td>\n",
       "    </tr>\n",
       "    <tr>\n",
       "      <th>6</th>\n",
       "      <td>Business Data Analyst</td>\n",
       "      <td>Bangalore/Bengaluru</td>\n",
       "      <td>NXP Semiconductors</td>\n",
       "      <td>2-5 Yrs</td>\n",
       "    </tr>\n",
       "    <tr>\n",
       "      <th>7</th>\n",
       "      <td>Data Analyst - Business &amp; Digital</td>\n",
       "      <td>Bangalore/Bengaluru</td>\n",
       "      <td>MilliporeSigma</td>\n",
       "      <td>4-9 Yrs</td>\n",
       "    </tr>\n",
       "    <tr>\n",
       "      <th>8</th>\n",
       "      <td>Senior Data Analyst</td>\n",
       "      <td>Bangalore/Bengaluru</td>\n",
       "      <td>Encora</td>\n",
       "      <td>5-10 Yrs</td>\n",
       "    </tr>\n",
       "    <tr>\n",
       "      <th>9</th>\n",
       "      <td>EY GDS Data Analyst-Finland based project</td>\n",
       "      <td>Bangalore/Bengaluru</td>\n",
       "      <td>EY</td>\n",
       "      <td>0-1 Yrs</td>\n",
       "    </tr>\n",
       "  </tbody>\n",
       "</table>\n",
       "</div>"
      ],
      "text/plain": [
       "                                         Job-Title  \\\n",
       "0  Business Analyst/Data analyst - Payments Domain   \n",
       "1                        Senior Data Analyst - KPO   \n",
       "2                         Data Engineering Analyst   \n",
       "3                                     Data Analyst   \n",
       "4                              Market Data Analyst   \n",
       "5                   Business Analyst/ Data Analyst   \n",
       "6                            Business Data Analyst   \n",
       "7                Data Analyst - Business & Digital   \n",
       "8                              Senior Data Analyst   \n",
       "9        EY GDS Data Analyst-Finland based project   \n",
       "\n",
       "                                        Job-Location  \\\n",
       "0  Hyderabad/Secunderabad, Pune, Chennai, Bangalo...   \n",
       "1  Gurgaon/Gurugram, Bangalore/Bengaluru, Gurgaon...   \n",
       "2                                Bangalore/Bengaluru   \n",
       "3               Bangalore/Bengaluru(Kundalahalli +2)   \n",
       "4                                Bangalore/Bengaluru   \n",
       "5  Mumbai, Hyderabad/Secunderabad, Pune, Chennai,...   \n",
       "6                                Bangalore/Bengaluru   \n",
       "7                                Bangalore/Bengaluru   \n",
       "8                                Bangalore/Bengaluru   \n",
       "9                                Bangalore/Bengaluru   \n",
       "\n",
       "                               Company_Name Experience_reqd  \n",
       "0                                       CGI         4-8 Yrs  \n",
       "1                 Huquo Consulting Pvt. Ltd        7-12 Yrs  \n",
       "2                         Dell Technologies         0-3 Yrs  \n",
       "3  Traverze Consultancy Solutions Pvt, Ltd.         0-2 Yrs  \n",
       "4                                       ICF         1-2 Yrs  \n",
       "5                                cliqhr.com        5-10 Yrs  \n",
       "6                        NXP Semiconductors         2-5 Yrs  \n",
       "7                            MilliporeSigma         4-9 Yrs  \n",
       "8                                    Encora        5-10 Yrs  \n",
       "9                                        EY         0-1 Yrs  "
      ]
     },
     "execution_count": 21,
     "metadata": {},
     "output_type": "execute_result"
    }
   ],
   "source": [
    "df1= pd.DataFrame({'Job-Title':job_title,'Job-Location':job_loc,'Company_Name':comp_name,'Experience_reqd':exp})\n",
    "df1"
   ]
  },
  {
   "cell_type": "code",
   "execution_count": 22,
   "id": "74c18a9f",
   "metadata": {},
   "outputs": [],
   "source": [
    "driver.close()"
   ]
  },
  {
   "cell_type": "code",
   "execution_count": 23,
   "id": "fca46959",
   "metadata": {},
   "outputs": [],
   "source": [
    "time.sleep(5)"
   ]
  },
  {
   "cell_type": "code",
   "execution_count": 24,
   "id": "eb85826b",
   "metadata": {},
   "outputs": [],
   "source": [
    "# Answer 1 completed."
   ]
  },
  {
   "cell_type": "code",
   "execution_count": 25,
   "id": "de1ed069",
   "metadata": {},
   "outputs": [],
   "source": [
    "# Ans2). To scrape data for “Data Scientist” Job position in “Bangalore” location."
   ]
  },
  {
   "cell_type": "code",
   "execution_count": 26,
   "id": "3cd873b5",
   "metadata": {},
   "outputs": [],
   "source": [
    "driver=webdriver.Chrome(r\"C:\\Web Driver\\chromedriver.exe\")"
   ]
  },
  {
   "cell_type": "code",
   "execution_count": 27,
   "id": "63f7d4f2",
   "metadata": {},
   "outputs": [],
   "source": [
    "driver.get(r\"https://www.naukri.com/\")"
   ]
  },
  {
   "cell_type": "code",
   "execution_count": 28,
   "id": "ce2d7e61",
   "metadata": {},
   "outputs": [],
   "source": [
    "search_desig2 = driver.find_element_by_class_name('suggestor-input')"
   ]
  },
  {
   "cell_type": "code",
   "execution_count": 29,
   "id": "020de238",
   "metadata": {},
   "outputs": [],
   "source": [
    "search_desig2.send_keys('Data Scientist')"
   ]
  },
  {
   "cell_type": "code",
   "execution_count": 30,
   "id": "370ba933",
   "metadata": {},
   "outputs": [],
   "source": [
    "search_loc2 = driver.find_element_by_xpath(\"/html/body/div/div[2]/div[3]/div/div/div[5]/div/div/div/input\")"
   ]
  },
  {
   "cell_type": "code",
   "execution_count": 31,
   "id": "1e58a190",
   "metadata": {},
   "outputs": [],
   "source": [
    "search_loc2.send_keys(\"Bangalore\")"
   ]
  },
  {
   "cell_type": "code",
   "execution_count": 32,
   "id": "437c0d6f",
   "metadata": {},
   "outputs": [],
   "source": [
    "search_button2=driver.find_element_by_class_name(\"qsbSubmit\")"
   ]
  },
  {
   "cell_type": "code",
   "execution_count": 33,
   "id": "ccd97e02",
   "metadata": {
    "scrolled": true
   },
   "outputs": [],
   "source": [
    "search_button2.click()"
   ]
  },
  {
   "cell_type": "code",
   "execution_count": 34,
   "id": "e7f42bc5",
   "metadata": {},
   "outputs": [],
   "source": [
    "job_title2=[]\n",
    "job_loc2=[]\n",
    "comp_name2=[]"
   ]
  },
  {
   "cell_type": "code",
   "execution_count": 43,
   "id": "20b008f5",
   "metadata": {},
   "outputs": [],
   "source": [
    "title=driver.find_elements_by_xpath(\"//a[@class='title fw500 ellipsis']\")\n",
    "title=title[0:10]"
   ]
  },
  {
   "cell_type": "code",
   "execution_count": 44,
   "id": "5bbd8b5a",
   "metadata": {},
   "outputs": [
    {
     "data": {
      "text/plain": [
       "['Research and Development -AI/ML -(PhD )',\n",
       " 'AI Technologist Vacancy',\n",
       " 'Senior Data Science Engineer',\n",
       " 'Senior Data Scientist',\n",
       " 'Data Science - Engineering Manager',\n",
       " 'ACN - Applied Intelligence - Data Scientist - 09',\n",
       " 'Junior Data Scientist',\n",
       " 'Data Scientist',\n",
       " 'Senior Data Scientist',\n",
       " 'Data Scientist - Noida/Bangalore']"
      ]
     },
     "execution_count": 44,
     "metadata": {},
     "output_type": "execute_result"
    }
   ],
   "source": [
    "for i in title:\n",
    "    job_title2.append(i.text)\n",
    "job_title2"
   ]
  },
  {
   "cell_type": "code",
   "execution_count": 45,
   "id": "ac866244",
   "metadata": {},
   "outputs": [],
   "source": [
    "loc2=driver.find_elements_by_xpath(\"//li[@class='fleft grey-text br2 placeHolderLi location']/span\")\n",
    "loc2=loc2[0:10]"
   ]
  },
  {
   "cell_type": "code",
   "execution_count": 46,
   "id": "e5cfaaea",
   "metadata": {},
   "outputs": [
    {
     "data": {
      "text/plain": [
       "['Noida, Hyderabad/Secunderabad, Pune, Gurgaon/Gurugram, Chennai, Bangalore/Bengaluru, Delhi / NCR',\n",
       " 'Kolkata, Hyderabad/Secunderabad, Pune, Ahmedabad, Chennai, Bangalore/Bengaluru, Delhi / NCR, Mumbai (All Areas)',\n",
       " 'Gurgaon/Gurugram, Bangalore/Bengaluru, Mumbai (All Areas)',\n",
       " 'Mumbai, Bangalore/Bengaluru',\n",
       " 'Noida, Mumbai, Bangalore/Bengaluru',\n",
       " 'Bangalore/Bengaluru',\n",
       " 'Bangalore/Bengaluru',\n",
       " 'Bangalore/Bengaluru',\n",
       " 'Bangalore/Bengaluru',\n",
       " 'Noida, Bangalore/Bengaluru']"
      ]
     },
     "execution_count": 46,
     "metadata": {},
     "output_type": "execute_result"
    }
   ],
   "source": [
    "job_loc2=[]\n",
    "for i in loc2:\n",
    "    job_loc2.append(i.text)\n",
    "job_loc2"
   ]
  },
  {
   "cell_type": "code",
   "execution_count": 47,
   "id": "0a5f296a",
   "metadata": {},
   "outputs": [],
   "source": [
    "name2 = driver.find_elements_by_xpath(\"//div[@class='mt-7 companyInfo subheading lh16']/a[1]\")\n",
    "name2=name2[0:10]"
   ]
  },
  {
   "cell_type": "code",
   "execution_count": 40,
   "id": "ec9d0936",
   "metadata": {},
   "outputs": [
    {
     "data": {
      "text/plain": [
       "['EXL',\n",
       " 'Wipro',\n",
       " 'Fractal Analytics',\n",
       " 'Baker Hughes',\n",
       " 'Paytm',\n",
       " 'Accenture',\n",
       " 'Accenture',\n",
       " 'Applied Materials',\n",
       " 'VISA',\n",
       " 'EXL']"
      ]
     },
     "execution_count": 40,
     "metadata": {},
     "output_type": "execute_result"
    }
   ],
   "source": [
    "for i in name2:\n",
    "    comp_name2.append(i.text)\n",
    "comp_name2"
   ]
  },
  {
   "cell_type": "code",
   "execution_count": 48,
   "id": "a79cfc45",
   "metadata": {},
   "outputs": [
    {
     "data": {
      "text/html": [
       "<div>\n",
       "<style scoped>\n",
       "    .dataframe tbody tr th:only-of-type {\n",
       "        vertical-align: middle;\n",
       "    }\n",
       "\n",
       "    .dataframe tbody tr th {\n",
       "        vertical-align: top;\n",
       "    }\n",
       "\n",
       "    .dataframe thead th {\n",
       "        text-align: right;\n",
       "    }\n",
       "</style>\n",
       "<table border=\"1\" class=\"dataframe\">\n",
       "  <thead>\n",
       "    <tr style=\"text-align: right;\">\n",
       "      <th></th>\n",
       "      <th>Job-Title</th>\n",
       "      <th>Job-Location</th>\n",
       "      <th>Company_Name</th>\n",
       "    </tr>\n",
       "  </thead>\n",
       "  <tbody>\n",
       "    <tr>\n",
       "      <th>0</th>\n",
       "      <td>Research and Development -AI/ML -(PhD )</td>\n",
       "      <td>Noida, Hyderabad/Secunderabad, Pune, Gurgaon/G...</td>\n",
       "      <td>EXL</td>\n",
       "    </tr>\n",
       "    <tr>\n",
       "      <th>1</th>\n",
       "      <td>AI Technologist Vacancy</td>\n",
       "      <td>Kolkata, Hyderabad/Secunderabad, Pune, Ahmedab...</td>\n",
       "      <td>Wipro</td>\n",
       "    </tr>\n",
       "    <tr>\n",
       "      <th>2</th>\n",
       "      <td>Senior Data Science Engineer</td>\n",
       "      <td>Gurgaon/Gurugram, Bangalore/Bengaluru, Mumbai ...</td>\n",
       "      <td>Fractal Analytics</td>\n",
       "    </tr>\n",
       "    <tr>\n",
       "      <th>3</th>\n",
       "      <td>Senior Data Scientist</td>\n",
       "      <td>Mumbai, Bangalore/Bengaluru</td>\n",
       "      <td>Baker Hughes</td>\n",
       "    </tr>\n",
       "    <tr>\n",
       "      <th>4</th>\n",
       "      <td>Data Science - Engineering Manager</td>\n",
       "      <td>Noida, Mumbai, Bangalore/Bengaluru</td>\n",
       "      <td>Paytm</td>\n",
       "    </tr>\n",
       "    <tr>\n",
       "      <th>5</th>\n",
       "      <td>ACN - Applied Intelligence - Data Scientist - 09</td>\n",
       "      <td>Bangalore/Bengaluru</td>\n",
       "      <td>Accenture</td>\n",
       "    </tr>\n",
       "    <tr>\n",
       "      <th>6</th>\n",
       "      <td>Junior Data Scientist</td>\n",
       "      <td>Bangalore/Bengaluru</td>\n",
       "      <td>Accenture</td>\n",
       "    </tr>\n",
       "    <tr>\n",
       "      <th>7</th>\n",
       "      <td>Data Scientist</td>\n",
       "      <td>Bangalore/Bengaluru</td>\n",
       "      <td>Applied Materials</td>\n",
       "    </tr>\n",
       "    <tr>\n",
       "      <th>8</th>\n",
       "      <td>Senior Data Scientist</td>\n",
       "      <td>Bangalore/Bengaluru</td>\n",
       "      <td>VISA</td>\n",
       "    </tr>\n",
       "    <tr>\n",
       "      <th>9</th>\n",
       "      <td>Data Scientist - Noida/Bangalore</td>\n",
       "      <td>Noida, Bangalore/Bengaluru</td>\n",
       "      <td>EXL</td>\n",
       "    </tr>\n",
       "  </tbody>\n",
       "</table>\n",
       "</div>"
      ],
      "text/plain": [
       "                                          Job-Title  \\\n",
       "0           Research and Development -AI/ML -(PhD )   \n",
       "1                           AI Technologist Vacancy   \n",
       "2                      Senior Data Science Engineer   \n",
       "3                             Senior Data Scientist   \n",
       "4                Data Science - Engineering Manager   \n",
       "5  ACN - Applied Intelligence - Data Scientist - 09   \n",
       "6                             Junior Data Scientist   \n",
       "7                                    Data Scientist   \n",
       "8                             Senior Data Scientist   \n",
       "9                  Data Scientist - Noida/Bangalore   \n",
       "\n",
       "                                        Job-Location       Company_Name  \n",
       "0  Noida, Hyderabad/Secunderabad, Pune, Gurgaon/G...                EXL  \n",
       "1  Kolkata, Hyderabad/Secunderabad, Pune, Ahmedab...              Wipro  \n",
       "2  Gurgaon/Gurugram, Bangalore/Bengaluru, Mumbai ...  Fractal Analytics  \n",
       "3                        Mumbai, Bangalore/Bengaluru       Baker Hughes  \n",
       "4                 Noida, Mumbai, Bangalore/Bengaluru              Paytm  \n",
       "5                                Bangalore/Bengaluru          Accenture  \n",
       "6                                Bangalore/Bengaluru          Accenture  \n",
       "7                                Bangalore/Bengaluru  Applied Materials  \n",
       "8                                Bangalore/Bengaluru               VISA  \n",
       "9                         Noida, Bangalore/Bengaluru                EXL  "
      ]
     },
     "execution_count": 48,
     "metadata": {},
     "output_type": "execute_result"
    }
   ],
   "source": [
    "df2= pd.DataFrame({'Job-Title':job_title2,'Job-Location':job_loc2,'Company_Name':comp_name2})\n",
    "df2"
   ]
  },
  {
   "cell_type": "code",
   "execution_count": 49,
   "id": "48742fbb",
   "metadata": {},
   "outputs": [],
   "source": [
    "time.sleep(5)"
   ]
  },
  {
   "cell_type": "code",
   "execution_count": 50,
   "id": "8fa09689",
   "metadata": {},
   "outputs": [],
   "source": [
    "# Answer 2 completed."
   ]
  },
  {
   "cell_type": "code",
   "execution_count": 51,
   "id": "f026c1a7",
   "metadata": {},
   "outputs": [],
   "source": [
    "# Answer 3. To scrape data for “Data Scientist” designation for first 10 job results.The location filter to be used is “Delhi/NCR”. The salary filter to be used is “3-6” lakhs"
   ]
  },
  {
   "cell_type": "code",
   "execution_count": 52,
   "id": "9680e8b6",
   "metadata": {},
   "outputs": [],
   "source": [
    "driver.get(r\"https://www.naukri.com/\")"
   ]
  },
  {
   "cell_type": "code",
   "execution_count": 53,
   "id": "5b1d3595",
   "metadata": {},
   "outputs": [],
   "source": [
    "search_desig3 = driver.find_element_by_class_name('suggestor-input')\n",
    "search_desig3.send_keys(\"Data Scientist\")"
   ]
  },
  {
   "cell_type": "code",
   "execution_count": 54,
   "id": "8910aaa5",
   "metadata": {},
   "outputs": [],
   "source": [
    "search_button3=driver.find_element_by_class_name(\"qsbSubmit\")"
   ]
  },
  {
   "cell_type": "code",
   "execution_count": 55,
   "id": "afdea377",
   "metadata": {},
   "outputs": [],
   "source": [
    "search_button3.click()"
   ]
  },
  {
   "cell_type": "code",
   "execution_count": 56,
   "id": "906fcda9",
   "metadata": {},
   "outputs": [],
   "source": [
    "loc3=driver.find_element_by_xpath(\"/html/body/div[1]/div[3]/div[2]/section[1]/div[2]/div[5]/div[2]/div[3]/label/p/span[1]\")\n",
    "loc3.click()"
   ]
  },
  {
   "cell_type": "code",
   "execution_count": 57,
   "id": "922b5178",
   "metadata": {},
   "outputs": [],
   "source": [
    "sal3=driver.find_element_by_xpath(\"/html/body/div[1]/div[3]/div[2]/section[1]/div[2]/div[1]/div[2]/div[2]/label/i\")\n",
    "sal3.click()"
   ]
  },
  {
   "cell_type": "code",
   "execution_count": 58,
   "id": "ec4eacae",
   "metadata": {},
   "outputs": [],
   "source": [
    "job_title3=[]\n",
    "title3=driver.find_elements_by_xpath(\"//a[@class='title fw500 ellipsis']\")\n",
    "title3=title3[0:10]"
   ]
  },
  {
   "cell_type": "code",
   "execution_count": 59,
   "id": "5e5aea2b",
   "metadata": {},
   "outputs": [
    {
     "data": {
      "text/plain": [
       "['Virtual Drive For Java Developer @Conduent Exp :4+yrs',\n",
       " 'C2H with Top MNC For Java developer',\n",
       " 'Research and Development -AI/ML -(PhD )',\n",
       " 'Staff Software Development Engineer (Backend)- International & Growth',\n",
       " 'Backend Developer (Java/ C#/ C++/ Go lang/ ROR)',\n",
       " 'Immediate joiner: Camunda with Java | 6-8 Yrs | Multiple locations',\n",
       " 'MERN Stack Developer - Node.js/React.js',\n",
       " 'AI Technologist Vacancy',\n",
       " 'Java - Microservices Developer',\n",
       " 'Node Js Backend Developer']"
      ]
     },
     "execution_count": 59,
     "metadata": {},
     "output_type": "execute_result"
    }
   ],
   "source": [
    "for i in title3:\n",
    "    job_title3.append(i.text)\n",
    "job_title3"
   ]
  },
  {
   "cell_type": "code",
   "execution_count": 60,
   "id": "11c52725",
   "metadata": {},
   "outputs": [],
   "source": [
    "loc3 = driver.find_elements_by_xpath(\"//li[@class='fleft grey-text br2 placeHolderLi location']/span\")\n",
    "loc3=loc3[0:10]"
   ]
  },
  {
   "cell_type": "code",
   "execution_count": 61,
   "id": "bb761253",
   "metadata": {},
   "outputs": [
    {
     "data": {
      "text/plain": [
       "['Kochi/Cochin, Kolkata, Hyderabad/Secunderabad, Pune, Ahmedabad, Chennai, Bangalore/Bengaluru, Delhi / NCR, Mumbai (All Areas)',\n",
       " 'Hyderabad/Secunderabad, Pune, Chennai, Bangalore/Bengaluru, Delhi / NCR, Mumbai (All Areas)',\n",
       " 'Noida, Hyderabad/Secunderabad, Pune, Gurgaon/Gurugram, Chennai, Bangalore/Bengaluru, Delhi / NCR',\n",
       " 'Mumbai, Hyderabad/Secunderabad, Gurgaon/Gurugram, Bangalore/Bengaluru',\n",
       " 'Hyderabad/Secunderabad, Gurgaon/Gurugram, Bangalore/Bengaluru, Mumbai (All Areas)',\n",
       " 'Kochi/Cochin, Kolkata, Hyderabad/Secunderabad, Pune, Chennai, Bangalore/Bengaluru, Delhi / NCR, Trivandrum/Thiruvananthapuram, Mumbai (All Areas)',\n",
       " 'Kolkata, Mumbai, Hyderabad/Secunderabad, Pune, Chennai, Bangalore/Bengaluru, Delhi / NCR',\n",
       " 'Kolkata, Hyderabad/Secunderabad, Pune, Ahmedabad, Chennai, Bangalore/Bengaluru, Delhi / NCR, Mumbai (All Areas)',\n",
       " 'Noida, Hyderabad/Secunderabad, Pune, Chennai, Bangalore/Bengaluru, Mumbai (All Areas)',\n",
       " 'Kolkata, Indore, Hyderabad/Secunderabad, Pune, Chennai, Bangalore/Bengaluru, Delhi / NCR, Mumbai (All Areas), Pan India']"
      ]
     },
     "execution_count": 61,
     "metadata": {},
     "output_type": "execute_result"
    }
   ],
   "source": [
    "job_loc3=[]\n",
    "for i in loc3:\n",
    "    job_loc3.append(i.text)\n",
    "job_loc3"
   ]
  },
  {
   "cell_type": "code",
   "execution_count": 62,
   "id": "9d84d5ce",
   "metadata": {},
   "outputs": [],
   "source": [
    "name3=driver.find_elements_by_xpath(\"//div[@class='mt-7 companyInfo subheading lh16']/a[1]\")\n",
    "name3=name3[0:10]"
   ]
  },
  {
   "cell_type": "code",
   "execution_count": 63,
   "id": "a932a939",
   "metadata": {},
   "outputs": [
    {
     "data": {
      "text/plain": [
       "['Conduent',\n",
       " 'Teamlease Servcies limited',\n",
       " 'EXL',\n",
       " 'The Walt Disney',\n",
       " 'BYJUS',\n",
       " 'EY',\n",
       " 'Patch Infotech Private Limited',\n",
       " 'Wipro',\n",
       " 'Birlasoft',\n",
       " 'TATA CONSULTANCY SERVICES (TCS)']"
      ]
     },
     "execution_count": 63,
     "metadata": {},
     "output_type": "execute_result"
    }
   ],
   "source": [
    "comp_name3= []\n",
    "for i in name3:\n",
    "    comp_name3.append(i.text)\n",
    "comp_name3"
   ]
  },
  {
   "cell_type": "code",
   "execution_count": 64,
   "id": "8ff19d50",
   "metadata": {},
   "outputs": [],
   "source": [
    "exp_tags3=driver.find_elements_by_xpath(\"//li[@class='fleft grey-text br2 placeHolderLi experience']/span\")\n",
    "exp_tags3=exp_tags3[0:10]"
   ]
  },
  {
   "cell_type": "code",
   "execution_count": 65,
   "id": "d01154ce",
   "metadata": {},
   "outputs": [
    {
     "data": {
      "text/plain": [
       "['4-6 Yrs',\n",
       " '3-8 Yrs',\n",
       " '4-8 Yrs',\n",
       " '8-10 Yrs',\n",
       " '5-10 Yrs',\n",
       " '6-8 Yrs',\n",
       " '1-6 Yrs',\n",
       " '6-11 Yrs',\n",
       " '3-8 Yrs',\n",
       " '6-11 Yrs']"
      ]
     },
     "execution_count": 65,
     "metadata": {},
     "output_type": "execute_result"
    }
   ],
   "source": [
    "exp3=[]\n",
    "for i in exp_tags3:\n",
    "    exp3.append(i.text)\n",
    "exp3"
   ]
  },
  {
   "cell_type": "code",
   "execution_count": 66,
   "id": "b667eaef",
   "metadata": {},
   "outputs": [
    {
     "data": {
      "text/html": [
       "<div>\n",
       "<style scoped>\n",
       "    .dataframe tbody tr th:only-of-type {\n",
       "        vertical-align: middle;\n",
       "    }\n",
       "\n",
       "    .dataframe tbody tr th {\n",
       "        vertical-align: top;\n",
       "    }\n",
       "\n",
       "    .dataframe thead th {\n",
       "        text-align: right;\n",
       "    }\n",
       "</style>\n",
       "<table border=\"1\" class=\"dataframe\">\n",
       "  <thead>\n",
       "    <tr style=\"text-align: right;\">\n",
       "      <th></th>\n",
       "      <th>Job-Title</th>\n",
       "      <th>Job-Location</th>\n",
       "      <th>Company_Name</th>\n",
       "      <th>Experience_reqd</th>\n",
       "    </tr>\n",
       "  </thead>\n",
       "  <tbody>\n",
       "    <tr>\n",
       "      <th>0</th>\n",
       "      <td>Virtual Drive For Java Developer @Conduent Exp...</td>\n",
       "      <td>Kochi/Cochin, Kolkata, Hyderabad/Secunderabad,...</td>\n",
       "      <td>Conduent</td>\n",
       "      <td>4-6 Yrs</td>\n",
       "    </tr>\n",
       "    <tr>\n",
       "      <th>1</th>\n",
       "      <td>C2H with Top MNC For Java developer</td>\n",
       "      <td>Hyderabad/Secunderabad, Pune, Chennai, Bangalo...</td>\n",
       "      <td>Teamlease Servcies limited</td>\n",
       "      <td>3-8 Yrs</td>\n",
       "    </tr>\n",
       "    <tr>\n",
       "      <th>2</th>\n",
       "      <td>Research and Development -AI/ML -(PhD )</td>\n",
       "      <td>Noida, Hyderabad/Secunderabad, Pune, Gurgaon/G...</td>\n",
       "      <td>EXL</td>\n",
       "      <td>4-8 Yrs</td>\n",
       "    </tr>\n",
       "    <tr>\n",
       "      <th>3</th>\n",
       "      <td>Staff Software Development Engineer (Backend)-...</td>\n",
       "      <td>Mumbai, Hyderabad/Secunderabad, Gurgaon/Gurugr...</td>\n",
       "      <td>The Walt Disney</td>\n",
       "      <td>8-10 Yrs</td>\n",
       "    </tr>\n",
       "    <tr>\n",
       "      <th>4</th>\n",
       "      <td>Backend Developer (Java/ C#/ C++/ Go lang/ ROR)</td>\n",
       "      <td>Hyderabad/Secunderabad, Gurgaon/Gurugram, Bang...</td>\n",
       "      <td>BYJUS</td>\n",
       "      <td>5-10 Yrs</td>\n",
       "    </tr>\n",
       "    <tr>\n",
       "      <th>5</th>\n",
       "      <td>Immediate joiner: Camunda with Java | 6-8 Yrs ...</td>\n",
       "      <td>Kochi/Cochin, Kolkata, Hyderabad/Secunderabad,...</td>\n",
       "      <td>EY</td>\n",
       "      <td>6-8 Yrs</td>\n",
       "    </tr>\n",
       "    <tr>\n",
       "      <th>6</th>\n",
       "      <td>MERN Stack Developer - Node.js/React.js</td>\n",
       "      <td>Kolkata, Mumbai, Hyderabad/Secunderabad, Pune,...</td>\n",
       "      <td>Patch Infotech Private Limited</td>\n",
       "      <td>1-6 Yrs</td>\n",
       "    </tr>\n",
       "    <tr>\n",
       "      <th>7</th>\n",
       "      <td>AI Technologist Vacancy</td>\n",
       "      <td>Kolkata, Hyderabad/Secunderabad, Pune, Ahmedab...</td>\n",
       "      <td>Wipro</td>\n",
       "      <td>6-11 Yrs</td>\n",
       "    </tr>\n",
       "    <tr>\n",
       "      <th>8</th>\n",
       "      <td>Java - Microservices Developer</td>\n",
       "      <td>Noida, Hyderabad/Secunderabad, Pune, Chennai, ...</td>\n",
       "      <td>Birlasoft</td>\n",
       "      <td>3-8 Yrs</td>\n",
       "    </tr>\n",
       "    <tr>\n",
       "      <th>9</th>\n",
       "      <td>Node Js Backend Developer</td>\n",
       "      <td>Kolkata, Indore, Hyderabad/Secunderabad, Pune,...</td>\n",
       "      <td>TATA CONSULTANCY SERVICES (TCS)</td>\n",
       "      <td>6-11 Yrs</td>\n",
       "    </tr>\n",
       "  </tbody>\n",
       "</table>\n",
       "</div>"
      ],
      "text/plain": [
       "                                           Job-Title  \\\n",
       "0  Virtual Drive For Java Developer @Conduent Exp...   \n",
       "1                C2H with Top MNC For Java developer   \n",
       "2            Research and Development -AI/ML -(PhD )   \n",
       "3  Staff Software Development Engineer (Backend)-...   \n",
       "4    Backend Developer (Java/ C#/ C++/ Go lang/ ROR)   \n",
       "5  Immediate joiner: Camunda with Java | 6-8 Yrs ...   \n",
       "6            MERN Stack Developer - Node.js/React.js   \n",
       "7                            AI Technologist Vacancy   \n",
       "8                     Java - Microservices Developer   \n",
       "9                          Node Js Backend Developer   \n",
       "\n",
       "                                        Job-Location  \\\n",
       "0  Kochi/Cochin, Kolkata, Hyderabad/Secunderabad,...   \n",
       "1  Hyderabad/Secunderabad, Pune, Chennai, Bangalo...   \n",
       "2  Noida, Hyderabad/Secunderabad, Pune, Gurgaon/G...   \n",
       "3  Mumbai, Hyderabad/Secunderabad, Gurgaon/Gurugr...   \n",
       "4  Hyderabad/Secunderabad, Gurgaon/Gurugram, Bang...   \n",
       "5  Kochi/Cochin, Kolkata, Hyderabad/Secunderabad,...   \n",
       "6  Kolkata, Mumbai, Hyderabad/Secunderabad, Pune,...   \n",
       "7  Kolkata, Hyderabad/Secunderabad, Pune, Ahmedab...   \n",
       "8  Noida, Hyderabad/Secunderabad, Pune, Chennai, ...   \n",
       "9  Kolkata, Indore, Hyderabad/Secunderabad, Pune,...   \n",
       "\n",
       "                      Company_Name Experience_reqd  \n",
       "0                         Conduent         4-6 Yrs  \n",
       "1       Teamlease Servcies limited         3-8 Yrs  \n",
       "2                              EXL         4-8 Yrs  \n",
       "3                  The Walt Disney        8-10 Yrs  \n",
       "4                            BYJUS        5-10 Yrs  \n",
       "5                               EY         6-8 Yrs  \n",
       "6   Patch Infotech Private Limited         1-6 Yrs  \n",
       "7                            Wipro        6-11 Yrs  \n",
       "8                        Birlasoft         3-8 Yrs  \n",
       "9  TATA CONSULTANCY SERVICES (TCS)        6-11 Yrs  "
      ]
     },
     "execution_count": 66,
     "metadata": {},
     "output_type": "execute_result"
    }
   ],
   "source": [
    "df3= pd.DataFrame({'Job-Title':job_title3,'Job-Location':job_loc3,'Company_Name':comp_name3,'Experience_reqd':exp3})\n",
    "df3"
   ]
  },
  {
   "cell_type": "code",
   "execution_count": 67,
   "id": "2207e609",
   "metadata": {},
   "outputs": [],
   "source": [
    "driver.close()\n",
    "time.sleep(5)"
   ]
  },
  {
   "cell_type": "code",
   "execution_count": 68,
   "id": "15336062",
   "metadata": {},
   "outputs": [],
   "source": [
    "# Answer 3. completed"
   ]
  },
  {
   "cell_type": "code",
   "execution_count": 69,
   "id": "4d33695a",
   "metadata": {},
   "outputs": [],
   "source": [
    "# Answer4). To scrape data of first 100 sunglasses listings on flipkart.com."
   ]
  },
  {
   "cell_type": "code",
   "execution_count": 70,
   "id": "bcc869cd",
   "metadata": {},
   "outputs": [],
   "source": [
    "driver=webdriver.Chrome(r\"C:\\Web Driver\\chromedriver.exe\")"
   ]
  },
  {
   "cell_type": "code",
   "execution_count": 71,
   "id": "7fa08edc",
   "metadata": {},
   "outputs": [],
   "source": [
    "driver.get(r\"https://www.flipkart.com/\")"
   ]
  },
  {
   "cell_type": "code",
   "execution_count": 72,
   "id": "90dba086",
   "metadata": {},
   "outputs": [],
   "source": [
    "close_button=driver.find_element_by_xpath(\"/html/body/div[2]/div/div/button\")\n",
    "close_button.click()"
   ]
  },
  {
   "cell_type": "code",
   "execution_count": 73,
   "id": "291f5ae4",
   "metadata": {},
   "outputs": [],
   "source": [
    "search = driver.find_element_by_xpath(\"/html/body/div[1]/div/div[1]/div[1]/div[2]/div[2]/form/div/div/input\")\n",
    "search.send_keys(\"sunglasses\")"
   ]
  },
  {
   "cell_type": "code",
   "execution_count": 74,
   "id": "a833458e",
   "metadata": {},
   "outputs": [],
   "source": [
    "search_button=driver.find_element_by_class_name(\"L0Z3Pu\")\n",
    "search_button.click()"
   ]
  },
  {
   "cell_type": "code",
   "execution_count": 75,
   "id": "32cb6f6e",
   "metadata": {},
   "outputs": [],
   "source": [
    "brand_name=[]\n",
    "prod_desc=[]\n",
    "price=[]\n",
    "discount=[]"
   ]
  },
  {
   "cell_type": "code",
   "execution_count": 76,
   "id": "a698b287",
   "metadata": {},
   "outputs": [],
   "source": [
    "for a in range(0,3):\n",
    "    name=driver.find_elements_by_xpath(\"//div[@class='_2WkVRV']\")\n",
    "    for i in name:\n",
    "        brand_name.append(i.text)\n",
    "    prod=driver.find_elements_by_xpath(\"//a[@class='IRpwTa']\")\n",
    "    for j in prod:\n",
    "        prod_desc.append(j.text)\n",
    "    pri=driver.find_elements_by_xpath(\"//div[@class='_25b18c']/div[1]\")\n",
    "    count=0\n",
    "    for k in pri:\n",
    "        if count<40:\n",
    "            price.append(k.text)\n",
    "            count+=1\n",
    "    disc=driver.find_elements_by_xpath(\"//div[@class='_25b18c']/div[3]\")\n",
    "    count1=0\n",
    "    for l in disc:\n",
    "        if count1<40:\n",
    "            discount.append(l.text)\n",
    "            count1+=1\n",
    "    next_button = driver.find_element_by_xpath(\"//a[@class='_1LKTO3']/span\")\n",
    "    next_button.click()\n",
    "    time.sleep(5)\n",
    "brand_name=brand_name[0:100]\n",
    "prod_desc=prod_desc[0:100]\n",
    "price=price[0:100]\n",
    "discount=discount[0:100]"
   ]
  },
  {
   "cell_type": "code",
   "execution_count": 77,
   "id": "8d1fb347",
   "metadata": {},
   "outputs": [
    {
     "data": {
      "text/html": [
       "<div>\n",
       "<style scoped>\n",
       "    .dataframe tbody tr th:only-of-type {\n",
       "        vertical-align: middle;\n",
       "    }\n",
       "\n",
       "    .dataframe tbody tr th {\n",
       "        vertical-align: top;\n",
       "    }\n",
       "\n",
       "    .dataframe thead th {\n",
       "        text-align: right;\n",
       "    }\n",
       "</style>\n",
       "<table border=\"1\" class=\"dataframe\">\n",
       "  <thead>\n",
       "    <tr style=\"text-align: right;\">\n",
       "      <th></th>\n",
       "      <th>Brand Name</th>\n",
       "      <th>Production Description</th>\n",
       "      <th>Price</th>\n",
       "      <th>Discount</th>\n",
       "    </tr>\n",
       "  </thead>\n",
       "  <tbody>\n",
       "    <tr>\n",
       "      <th>0</th>\n",
       "      <td>VINCENT CHASE</td>\n",
       "      <td>UV Protection Rectangular Sunglasses (52)</td>\n",
       "      <td>₹649</td>\n",
       "      <td>67% off</td>\n",
       "    </tr>\n",
       "    <tr>\n",
       "      <th>1</th>\n",
       "      <td>VINCENT CHASE</td>\n",
       "      <td>by Lenskart UV Protection Wayfarer Sunglasses ...</td>\n",
       "      <td>₹749</td>\n",
       "      <td>62% off</td>\n",
       "    </tr>\n",
       "    <tr>\n",
       "      <th>2</th>\n",
       "      <td>Elligator</td>\n",
       "      <td>UV Protection Round Sunglasses (54)</td>\n",
       "      <td>₹295</td>\n",
       "      <td>88% off</td>\n",
       "    </tr>\n",
       "    <tr>\n",
       "      <th>3</th>\n",
       "      <td>New Specs</td>\n",
       "      <td>UV Protection Rectangular Sunglasses (Free Size)</td>\n",
       "      <td>₹264</td>\n",
       "      <td>89% off</td>\n",
       "    </tr>\n",
       "    <tr>\n",
       "      <th>4</th>\n",
       "      <td>SUNBEE</td>\n",
       "      <td>UV Protection, Polarized Wayfarer Sunglasses (...</td>\n",
       "      <td>₹283</td>\n",
       "      <td>78% off</td>\n",
       "    </tr>\n",
       "    <tr>\n",
       "      <th>...</th>\n",
       "      <td>...</td>\n",
       "      <td>...</td>\n",
       "      <td>...</td>\n",
       "      <td>...</td>\n",
       "    </tr>\n",
       "    <tr>\n",
       "      <th>95</th>\n",
       "      <td>ROYAL SON</td>\n",
       "      <td>Polarized, UV Protection Retro Square Sunglass...</td>\n",
       "      <td>₹854</td>\n",
       "      <td>57% off</td>\n",
       "    </tr>\n",
       "    <tr>\n",
       "      <th>96</th>\n",
       "      <td>PIRASO</td>\n",
       "      <td>UV Protection Wayfarer Sunglasses (32)</td>\n",
       "      <td>₹202</td>\n",
       "      <td>87% off</td>\n",
       "    </tr>\n",
       "    <tr>\n",
       "      <th>97</th>\n",
       "      <td>Lee Topper</td>\n",
       "      <td>UV Protection Cat-eye Sunglasses (Free Size)</td>\n",
       "      <td>₹245</td>\n",
       "      <td>81% off</td>\n",
       "    </tr>\n",
       "    <tr>\n",
       "      <th>98</th>\n",
       "      <td>SHAAH COLLECTIONS</td>\n",
       "      <td>UV Protection, Polarized, Mirrored Rectangular...</td>\n",
       "      <td>₹195</td>\n",
       "      <td>88% off</td>\n",
       "    </tr>\n",
       "    <tr>\n",
       "      <th>99</th>\n",
       "      <td>VINCENT CHASE</td>\n",
       "      <td>by Lenskart UV Protection Wayfarer Sunglasses ...</td>\n",
       "      <td>₹749</td>\n",
       "      <td>62% off</td>\n",
       "    </tr>\n",
       "  </tbody>\n",
       "</table>\n",
       "<p>100 rows × 4 columns</p>\n",
       "</div>"
      ],
      "text/plain": [
       "           Brand Name                             Production Description  \\\n",
       "0       VINCENT CHASE          UV Protection Rectangular Sunglasses (52)   \n",
       "1       VINCENT CHASE  by Lenskart UV Protection Wayfarer Sunglasses ...   \n",
       "2           Elligator                UV Protection Round Sunglasses (54)   \n",
       "3           New Specs   UV Protection Rectangular Sunglasses (Free Size)   \n",
       "4              SUNBEE  UV Protection, Polarized Wayfarer Sunglasses (...   \n",
       "..                ...                                                ...   \n",
       "95          ROYAL SON  Polarized, UV Protection Retro Square Sunglass...   \n",
       "96             PIRASO             UV Protection Wayfarer Sunglasses (32)   \n",
       "97         Lee Topper       UV Protection Cat-eye Sunglasses (Free Size)   \n",
       "98  SHAAH COLLECTIONS  UV Protection, Polarized, Mirrored Rectangular...   \n",
       "99      VINCENT CHASE  by Lenskart UV Protection Wayfarer Sunglasses ...   \n",
       "\n",
       "   Price Discount  \n",
       "0   ₹649  67% off  \n",
       "1   ₹749  62% off  \n",
       "2   ₹295  88% off  \n",
       "3   ₹264  89% off  \n",
       "4   ₹283  78% off  \n",
       "..   ...      ...  \n",
       "95  ₹854  57% off  \n",
       "96  ₹202  87% off  \n",
       "97  ₹245  81% off  \n",
       "98  ₹195  88% off  \n",
       "99  ₹749  62% off  \n",
       "\n",
       "[100 rows x 4 columns]"
      ]
     },
     "execution_count": 77,
     "metadata": {},
     "output_type": "execute_result"
    }
   ],
   "source": [
    "df4= pd.DataFrame({'Brand Name':brand_name,'Production Description':prod_desc,'Price':price,'Discount':discount})\n",
    "df4"
   ]
  },
  {
   "cell_type": "code",
   "execution_count": 78,
   "id": "24e96f54",
   "metadata": {},
   "outputs": [],
   "source": [
    "time.sleep(5)\n"
   ]
  },
  {
   "cell_type": "code",
   "execution_count": 79,
   "id": "00d3c26e",
   "metadata": {},
   "outputs": [],
   "source": [
    "# Answer 4. Completed."
   ]
  },
  {
   "cell_type": "code",
   "execution_count": 80,
   "id": "0936bd8d",
   "metadata": {},
   "outputs": [],
   "source": [
    "# Answer 6). Scrape data for first 100 sneakers you find  when you visit flipkart.com and search for “sneakers” in the search field."
   ]
  },
  {
   "cell_type": "code",
   "execution_count": 81,
   "id": "a074beca",
   "metadata": {},
   "outputs": [],
   "source": [
    "driver.get(\"https://www.flipkart.com/\")"
   ]
  },
  {
   "cell_type": "code",
   "execution_count": 82,
   "id": "0616e13c",
   "metadata": {},
   "outputs": [],
   "source": [
    "search = driver.find_element_by_xpath(\"/html/body/div[1]/div/div[1]/div[1]/div[2]/div[2]/form/div/div/input\")\n",
    "search.send_keys(\"sneakers\")"
   ]
  },
  {
   "cell_type": "code",
   "execution_count": 83,
   "id": "19efd34b",
   "metadata": {},
   "outputs": [],
   "source": [
    "search_button=driver.find_element_by_class_name(\"L0Z3Pu\")\n",
    "search_button.click()"
   ]
  },
  {
   "cell_type": "code",
   "execution_count": 84,
   "id": "8d60adee",
   "metadata": {},
   "outputs": [],
   "source": [
    "brand_name=[]\n",
    "prod_desc=[]\n",
    "price=[]"
   ]
  },
  {
   "cell_type": "code",
   "execution_count": 85,
   "id": "dc8f639e",
   "metadata": {},
   "outputs": [],
   "source": [
    "for a in range(0,3):\n",
    "    name=driver.find_elements_by_xpath(\"//div[@class='_2WkVRV']\")\n",
    "    for i in name:\n",
    "        brand_name.append(i.text)\n",
    "    prod=driver.find_elements_by_xpath(\"//a[@class='IRpwTa']\")\n",
    "    for j in prod:\n",
    "        prod_desc.append(j.text)\n",
    "    pri=driver.find_elements_by_xpath(\"//div[@class='_25b18c']/div[1]\")\n",
    "    count=0\n",
    "    for k in pri:\n",
    "        if count<40:\n",
    "            price.append(k.text)\n",
    "            count+=1\n",
    "    next_button = driver.find_element_by_xpath(\"//a[@class='_1LKTO3']/span\")\n",
    "    next_button.click()\n",
    "    time.sleep(5)\n",
    "brand_name=brand_name[0:100]\n",
    "prod_desc=prod_desc[0:100]\n",
    "price=price[0:100]"
   ]
  },
  {
   "cell_type": "code",
   "execution_count": 86,
   "id": "5711c2ba",
   "metadata": {},
   "outputs": [
    {
     "data": {
      "text/html": [
       "<div>\n",
       "<style scoped>\n",
       "    .dataframe tbody tr th:only-of-type {\n",
       "        vertical-align: middle;\n",
       "    }\n",
       "\n",
       "    .dataframe tbody tr th {\n",
       "        vertical-align: top;\n",
       "    }\n",
       "\n",
       "    .dataframe thead th {\n",
       "        text-align: right;\n",
       "    }\n",
       "</style>\n",
       "<table border=\"1\" class=\"dataframe\">\n",
       "  <thead>\n",
       "    <tr style=\"text-align: right;\">\n",
       "      <th></th>\n",
       "      <th>Sneakers Brand Name</th>\n",
       "      <th>Production Description</th>\n",
       "      <th>Price</th>\n",
       "    </tr>\n",
       "  </thead>\n",
       "  <tbody>\n",
       "    <tr>\n",
       "      <th>0</th>\n",
       "      <td>sixXplus</td>\n",
       "      <td>Sneakers For Men</td>\n",
       "      <td>₹521</td>\n",
       "    </tr>\n",
       "    <tr>\n",
       "      <th>1</th>\n",
       "      <td>Bacan</td>\n",
       "      <td>Modern Trendy Sneakers Shoes Sneakers For Men</td>\n",
       "      <td>₹474</td>\n",
       "    </tr>\n",
       "    <tr>\n",
       "      <th>2</th>\n",
       "      <td>BRUTON</td>\n",
       "      <td>Sneakers For Men</td>\n",
       "      <td>₹269</td>\n",
       "    </tr>\n",
       "    <tr>\n",
       "      <th>3</th>\n",
       "      <td>Magnolia</td>\n",
       "      <td>Stylish Comfortable Lightweight, Breathable Ca...</td>\n",
       "      <td>₹374</td>\n",
       "    </tr>\n",
       "    <tr>\n",
       "      <th>4</th>\n",
       "      <td>URBANBOX</td>\n",
       "      <td>Sneakers For Men</td>\n",
       "      <td>₹198</td>\n",
       "    </tr>\n",
       "    <tr>\n",
       "      <th>...</th>\n",
       "      <td>...</td>\n",
       "      <td>...</td>\n",
       "      <td>...</td>\n",
       "    </tr>\n",
       "    <tr>\n",
       "      <th>95</th>\n",
       "      <td>HRX by Hrithik Roshan</td>\n",
       "      <td>Men's Casual Comfortable Soft Partywear Shoes ...</td>\n",
       "      <td>₹2,339</td>\n",
       "    </tr>\n",
       "    <tr>\n",
       "      <th>96</th>\n",
       "      <td>BRUTON</td>\n",
       "      <td>Kwik FIT casual sneaker shoes and partywear sh...</td>\n",
       "      <td>₹499</td>\n",
       "    </tr>\n",
       "    <tr>\n",
       "      <th>97</th>\n",
       "      <td>BIRDE</td>\n",
       "      <td>shoe Sneakers For Men</td>\n",
       "      <td>₹299</td>\n",
       "    </tr>\n",
       "    <tr>\n",
       "      <th>98</th>\n",
       "      <td>Airland</td>\n",
       "      <td>Sports Running Shoes Sneakers For Men</td>\n",
       "      <td>₹210</td>\n",
       "    </tr>\n",
       "    <tr>\n",
       "      <th>99</th>\n",
       "      <td>BRUTON</td>\n",
       "      <td>Men Combo Pack of 2 Sports Shoes &amp; Casual Snea...</td>\n",
       "      <td>₹399</td>\n",
       "    </tr>\n",
       "  </tbody>\n",
       "</table>\n",
       "<p>100 rows × 3 columns</p>\n",
       "</div>"
      ],
      "text/plain": [
       "      Sneakers Brand Name                             Production Description  \\\n",
       "0                sixXplus                                   Sneakers For Men   \n",
       "1                   Bacan      Modern Trendy Sneakers Shoes Sneakers For Men   \n",
       "2                  BRUTON                                   Sneakers For Men   \n",
       "3                Magnolia  Stylish Comfortable Lightweight, Breathable Ca...   \n",
       "4                URBANBOX                                   Sneakers For Men   \n",
       "..                    ...                                                ...   \n",
       "95  HRX by Hrithik Roshan  Men's Casual Comfortable Soft Partywear Shoes ...   \n",
       "96                 BRUTON  Kwik FIT casual sneaker shoes and partywear sh...   \n",
       "97                  BIRDE                              shoe Sneakers For Men   \n",
       "98                Airland              Sports Running Shoes Sneakers For Men   \n",
       "99                 BRUTON  Men Combo Pack of 2 Sports Shoes & Casual Snea...   \n",
       "\n",
       "     Price  \n",
       "0     ₹521  \n",
       "1     ₹474  \n",
       "2     ₹269  \n",
       "3     ₹374  \n",
       "4     ₹198  \n",
       "..     ...  \n",
       "95  ₹2,339  \n",
       "96    ₹499  \n",
       "97    ₹299  \n",
       "98    ₹210  \n",
       "99    ₹399  \n",
       "\n",
       "[100 rows x 3 columns]"
      ]
     },
     "execution_count": 86,
     "metadata": {},
     "output_type": "execute_result"
    }
   ],
   "source": [
    "df6= pd.DataFrame({'Sneakers Brand Name':brand_name,'Production Description':prod_desc,'Price':price})\n",
    "df6"
   ]
  },
  {
   "cell_type": "code",
   "execution_count": 87,
   "id": "1f089516",
   "metadata": {},
   "outputs": [],
   "source": [
    "time.sleep(5)"
   ]
  },
  {
   "cell_type": "code",
   "execution_count": 88,
   "id": "8e83e253",
   "metadata": {},
   "outputs": [],
   "source": [
    "# Answer 6.Completed."
   ]
  },
  {
   "cell_type": "code",
   "execution_count": 89,
   "id": "a3459d0a",
   "metadata": {},
   "outputs": [],
   "source": [
    "# Answer 7). Scrape First 100 shoes data."
   ]
  },
  {
   "cell_type": "code",
   "execution_count": 97,
   "id": "4ae37c1d",
   "metadata": {
    "scrolled": true
   },
   "outputs": [],
   "source": [
    "driver.get(\"https://www.myntra.com/shoes\")"
   ]
  },
  {
   "cell_type": "code",
   "execution_count": 98,
   "id": "ccb1a324",
   "metadata": {},
   "outputs": [],
   "source": [
    "price_option=driver.find_element_by_xpath(\"/html/body/div[2]/div/div[1]/main/div[3]/div[1]/section/div/div[5]/ul/li[1]/label/div\")\n",
    "price_option.click()"
   ]
  },
  {
   "cell_type": "code",
   "execution_count": 99,
   "id": "94b37ad0",
   "metadata": {},
   "outputs": [],
   "source": [
    "color_option=driver.find_element_by_xpath(\"/html/body/div[2]/div/div[1]/main/div[3]/div[1]/section/div/div[6]/ul/li[1]/label/div\")\n",
    "color_option.click()"
   ]
  },
  {
   "cell_type": "code",
   "execution_count": 100,
   "id": "3bc6c1fd",
   "metadata": {},
   "outputs": [],
   "source": [
    "brand_name7=[]\n",
    "prod_desc7=[]\n",
    "price7=[]"
   ]
  },
  {
   "cell_type": "code",
   "execution_count": 101,
   "id": "195eb5e4",
   "metadata": {},
   "outputs": [
    {
     "name": "stdout",
     "output_type": "stream",
     "text": [
      "100 100 100\n"
     ]
    }
   ],
   "source": [
    "for a in range(2):\n",
    "    brand7=driver.find_elements_by_xpath(\"//h3[@class='product-brand']\")\n",
    "    for i in brand7:\n",
    "        brand_name7.append(i.text)\n",
    "    desc7 = driver.find_elements_by_xpath(\"//h4[@class='product-product']\")\n",
    "    for j in desc7:\n",
    "        prod_desc7.append(j.text)\n",
    "    pri7=driver.find_elements_by_xpath(\"//div[@class='product-price']/span[1]\")\n",
    "    for k in pri7:\n",
    "        price7.append(k.text[0:8])\n",
    "    next_button=driver.find_element_by_xpath(\"//li[@class='pagination-next']/a\")\n",
    "    next_button.click()\n",
    "    time.sleep(5)\n",
    "print(len(brand_name7),len(prod_desc7),len(price7))"
   ]
  },
  {
   "cell_type": "code",
   "execution_count": 102,
   "id": "64bdd7a3",
   "metadata": {},
   "outputs": [],
   "source": [
    "#as somewhere strike out price is included in price, so span[1] is used here..also,k.text includes price and strike out price included in it. so, its data is sliced and first 7 digits which show exact price are used here."
   ]
  },
  {
   "cell_type": "code",
   "execution_count": 103,
   "id": "26f9fb6b",
   "metadata": {},
   "outputs": [
    {
     "data": {
      "text/html": [
       "<div>\n",
       "<style scoped>\n",
       "    .dataframe tbody tr th:only-of-type {\n",
       "        vertical-align: middle;\n",
       "    }\n",
       "\n",
       "    .dataframe tbody tr th {\n",
       "        vertical-align: top;\n",
       "    }\n",
       "\n",
       "    .dataframe thead th {\n",
       "        text-align: right;\n",
       "    }\n",
       "</style>\n",
       "<table border=\"1\" class=\"dataframe\">\n",
       "  <thead>\n",
       "    <tr style=\"text-align: right;\">\n",
       "      <th></th>\n",
       "      <th>Shoes Brand Name</th>\n",
       "      <th>Product Description</th>\n",
       "      <th>Price</th>\n",
       "    </tr>\n",
       "  </thead>\n",
       "  <tbody>\n",
       "    <tr>\n",
       "      <th>0</th>\n",
       "      <td>Red Tape</td>\n",
       "      <td>Men Walking Shoes</td>\n",
       "      <td>Rs. 1349</td>\n",
       "    </tr>\n",
       "    <tr>\n",
       "      <th>1</th>\n",
       "      <td>ADIDAS</td>\n",
       "      <td>Men Herlz Running Shoes</td>\n",
       "      <td>Rs. 1799</td>\n",
       "    </tr>\n",
       "    <tr>\n",
       "      <th>2</th>\n",
       "      <td>Red Tape</td>\n",
       "      <td>Men Running Shoes</td>\n",
       "      <td>Rs. 1374</td>\n",
       "    </tr>\n",
       "    <tr>\n",
       "      <th>3</th>\n",
       "      <td>Eego Italy</td>\n",
       "      <td>Men Trekking Shoes</td>\n",
       "      <td>Rs. 987R</td>\n",
       "    </tr>\n",
       "    <tr>\n",
       "      <th>4</th>\n",
       "      <td>PUMA Motorsport</td>\n",
       "      <td>Unisex Solid Sneakers</td>\n",
       "      <td>Rs. 4124</td>\n",
       "    </tr>\n",
       "    <tr>\n",
       "      <th>...</th>\n",
       "      <td>...</td>\n",
       "      <td>...</td>\n",
       "      <td>...</td>\n",
       "    </tr>\n",
       "    <tr>\n",
       "      <th>95</th>\n",
       "      <td>Nike</td>\n",
       "      <td>Women React Escape Running</td>\n",
       "      <td>Rs. 8621</td>\n",
       "    </tr>\n",
       "    <tr>\n",
       "      <th>96</th>\n",
       "      <td>ADIDAS</td>\n",
       "      <td>Women Vertago Running Shoes</td>\n",
       "      <td>Rs. 2999</td>\n",
       "    </tr>\n",
       "    <tr>\n",
       "      <th>97</th>\n",
       "      <td>House of Pataudi</td>\n",
       "      <td>Men Formal Horsebit Loafers</td>\n",
       "      <td>Rs. 3009</td>\n",
       "    </tr>\n",
       "    <tr>\n",
       "      <th>98</th>\n",
       "      <td>ELIXIR MAN</td>\n",
       "      <td>Men Sneakers</td>\n",
       "      <td>Rs. 579R</td>\n",
       "    </tr>\n",
       "    <tr>\n",
       "      <th>99</th>\n",
       "      <td>Skechers</td>\n",
       "      <td>Men GO RUN FAST Running Shoes</td>\n",
       "      <td>Rs. 3749</td>\n",
       "    </tr>\n",
       "  </tbody>\n",
       "</table>\n",
       "<p>100 rows × 3 columns</p>\n",
       "</div>"
      ],
      "text/plain": [
       "    Shoes Brand Name            Product Description     Price\n",
       "0           Red Tape              Men Walking Shoes  Rs. 1349\n",
       "1             ADIDAS        Men Herlz Running Shoes  Rs. 1799\n",
       "2           Red Tape              Men Running Shoes  Rs. 1374\n",
       "3         Eego Italy             Men Trekking Shoes  Rs. 987R\n",
       "4    PUMA Motorsport          Unisex Solid Sneakers  Rs. 4124\n",
       "..               ...                            ...       ...\n",
       "95              Nike     Women React Escape Running  Rs. 8621\n",
       "96            ADIDAS    Women Vertago Running Shoes  Rs. 2999\n",
       "97  House of Pataudi    Men Formal Horsebit Loafers  Rs. 3009\n",
       "98        ELIXIR MAN                   Men Sneakers  Rs. 579R\n",
       "99          Skechers  Men GO RUN FAST Running Shoes  Rs. 3749\n",
       "\n",
       "[100 rows x 3 columns]"
      ]
     },
     "execution_count": 103,
     "metadata": {},
     "output_type": "execute_result"
    }
   ],
   "source": [
    "df7=pd.DataFrame({'Shoes Brand Name':brand_name7,'Product Description':prod_desc7,'Price':price7})\n",
    "df7"
   ]
  },
  {
   "cell_type": "code",
   "execution_count": 104,
   "id": "6ca187a0",
   "metadata": {},
   "outputs": [],
   "source": [
    "driver.close()\n",
    "time.sleep(5)"
   ]
  },
  {
   "cell_type": "code",
   "execution_count": 105,
   "id": "b9850c3d",
   "metadata": {},
   "outputs": [],
   "source": [
    "# Answer 7).Completed."
   ]
  },
  {
   "cell_type": "code",
   "execution_count": 106,
   "id": "95fd419d",
   "metadata": {},
   "outputs": [],
   "source": [
    "# Answer 9).To scrape data for first 10 job results for Data Scientist Designation in Noida \n",
    "#location."
   ]
  },
  {
   "cell_type": "code",
   "execution_count": 107,
   "id": "77aea5a3",
   "metadata": {},
   "outputs": [],
   "source": [
    "driver=webdriver.Chrome(r\"C:\\Web Driver\\chromedriver.exe\")"
   ]
  },
  {
   "cell_type": "code",
   "execution_count": 108,
   "id": "f44cdce4",
   "metadata": {},
   "outputs": [],
   "source": [
    "driver.get(\" https://www.ambitionbox.com/\")"
   ]
  },
  {
   "cell_type": "code",
   "execution_count": 109,
   "id": "e3655e90",
   "metadata": {},
   "outputs": [],
   "source": [
    "jobs_option=driver.find_element_by_xpath(\"/html/body/div[1]/nav/nav/a[6]\")\n",
    "jobs_option.click()"
   ]
  },
  {
   "cell_type": "code",
   "execution_count": 110,
   "id": "d4a6e3a0",
   "metadata": {},
   "outputs": [],
   "source": [
    "enter_option=driver.find_element_by_xpath(\"/html/body/div/div/div/div[2]/div[1]/div[1]/div/div/div/div/span/input\")\n",
    "enter_option.send_keys(\"Data Scientist\")"
   ]
  },
  {
   "cell_type": "code",
   "execution_count": 111,
   "id": "acf96346",
   "metadata": {},
   "outputs": [],
   "source": [
    "search_button=driver.find_element_by_xpath(\"/html/body/div/div/div/div[2]/div[1]/div[1]/div/div/div/button\")\n",
    "search_button.click()"
   ]
  },
  {
   "cell_type": "code",
   "execution_count": 112,
   "id": "1dc87500",
   "metadata": {},
   "outputs": [],
   "source": [
    "loc_filter=driver.find_element_by_xpath(\"/html/body/div/div/div/div[2]/div[1]/div[2]/div[1]/div/div/div/div[2]/div[1]/i\")\n",
    "loc_filter.click ()"
   ]
  },
  {
   "cell_type": "code",
   "execution_count": 113,
   "id": "90c42a9d",
   "metadata": {},
   "outputs": [],
   "source": [
    "loc_input=driver.find_element_by_xpath(\"/html/body/div/div/div/div[2]/div[1]/div[2]/div[1]/div/div/div/div[2]/div[2]/div/div[2]/input\")\n",
    "loc_input.send_keys(\"Noida\")"
   ]
  },
  {
   "cell_type": "code",
   "execution_count": 114,
   "id": "ad04a661",
   "metadata": {},
   "outputs": [],
   "source": [
    "driver.find_element_by_xpath(\"/html/body/div/div/div/div[2]/div[1]/div[2]/div[1]/div/div/div/div[2]/div[2]/div/div[3]/div[1]/div[1]/div/label\").click()"
   ]
  },
  {
   "cell_type": "code",
   "execution_count": 115,
   "id": "4a77a92e",
   "metadata": {},
   "outputs": [],
   "source": [
    "comp_name9=[]\n",
    "days9=[]\n",
    "rating9=[]"
   ]
  },
  {
   "cell_type": "code",
   "execution_count": 116,
   "id": "58f8a5f9",
   "metadata": {},
   "outputs": [],
   "source": [
    "name=driver.find_elements_by_xpath(\"//div[@class='company-info']/p\")\n",
    "for i in name:\n",
    "    comp_name9.append(i.text)\n",
    "days_tags=driver.find_elements_by_xpath(\"//div[@class='other-info']/span[1]\")\n",
    "for j in days_tags:\n",
    "    days9.append(j.text)\n",
    "rating_tags=driver.find_elements_by_xpath(\"//div[@class='rating-wrapper']/a[1]\")\n",
    "for k in rating_tags:\n",
    "    rating9.append(k.text)\n",
    "comp_name9=comp_name9[1:11]\n"
   ]
  },
  {
   "cell_type": "code",
   "execution_count": 117,
   "id": "818b331c",
   "metadata": {},
   "outputs": [],
   "source": [
    "rating9=rating9[1:11]"
   ]
  },
  {
   "cell_type": "code",
   "execution_count": 118,
   "id": "ebef696a",
   "metadata": {},
   "outputs": [
    {
     "data": {
      "text/html": [
       "<div>\n",
       "<style scoped>\n",
       "    .dataframe tbody tr th:only-of-type {\n",
       "        vertical-align: middle;\n",
       "    }\n",
       "\n",
       "    .dataframe tbody tr th {\n",
       "        vertical-align: top;\n",
       "    }\n",
       "\n",
       "    .dataframe thead th {\n",
       "        text-align: right;\n",
       "    }\n",
       "</style>\n",
       "<table border=\"1\" class=\"dataframe\">\n",
       "  <thead>\n",
       "    <tr style=\"text-align: right;\">\n",
       "      <th></th>\n",
       "      <th>Company Name</th>\n",
       "      <th>No. of Days ago job posted</th>\n",
       "      <th>Rating of Company</th>\n",
       "    </tr>\n",
       "  </thead>\n",
       "  <tbody>\n",
       "    <tr>\n",
       "      <th>0</th>\n",
       "      <td>GENPACT India Private Limited</td>\n",
       "      <td>15d ago</td>\n",
       "      <td>4.0</td>\n",
       "    </tr>\n",
       "    <tr>\n",
       "      <th>1</th>\n",
       "      <td>Optum Global Solutions (India) Private Limited</td>\n",
       "      <td>23d ago</td>\n",
       "      <td>4.1</td>\n",
       "    </tr>\n",
       "    <tr>\n",
       "      <th>2</th>\n",
       "      <td>GENPACT India Private Limited</td>\n",
       "      <td>22d ago</td>\n",
       "      <td>4.0</td>\n",
       "    </tr>\n",
       "    <tr>\n",
       "      <th>3</th>\n",
       "      <td>Hcl Technologies Limited</td>\n",
       "      <td>25d ago</td>\n",
       "      <td>3.9</td>\n",
       "    </tr>\n",
       "    <tr>\n",
       "      <th>4</th>\n",
       "      <td>Paytm</td>\n",
       "      <td>18d ago</td>\n",
       "      <td>3.7</td>\n",
       "    </tr>\n",
       "    <tr>\n",
       "      <th>5</th>\n",
       "      <td>Om Software Internet Solutions Private Limited</td>\n",
       "      <td>26d ago</td>\n",
       "      <td>4.5</td>\n",
       "    </tr>\n",
       "    <tr>\n",
       "      <th>6</th>\n",
       "      <td>Paytm</td>\n",
       "      <td>1mon ago</td>\n",
       "      <td>3.7</td>\n",
       "    </tr>\n",
       "    <tr>\n",
       "      <th>7</th>\n",
       "      <td>MOTHERSONSUMI INFOTECH &amp; DESIGNS LIMITED</td>\n",
       "      <td>23d ago</td>\n",
       "      <td>3.3</td>\n",
       "    </tr>\n",
       "    <tr>\n",
       "      <th>8</th>\n",
       "      <td>Careerera</td>\n",
       "      <td>5d ago</td>\n",
       "      <td>4.6</td>\n",
       "    </tr>\n",
       "    <tr>\n",
       "      <th>9</th>\n",
       "      <td>Ashkom Media India Private Limited</td>\n",
       "      <td>22d ago</td>\n",
       "      <td>3.5</td>\n",
       "    </tr>\n",
       "  </tbody>\n",
       "</table>\n",
       "</div>"
      ],
      "text/plain": [
       "                                     Company Name No. of Days ago job posted  \\\n",
       "0                   GENPACT India Private Limited                    15d ago   \n",
       "1  Optum Global Solutions (India) Private Limited                    23d ago   \n",
       "2                   GENPACT India Private Limited                    22d ago   \n",
       "3                        Hcl Technologies Limited                    25d ago   \n",
       "4                                           Paytm                    18d ago   \n",
       "5  Om Software Internet Solutions Private Limited                    26d ago   \n",
       "6                                           Paytm                   1mon ago   \n",
       "7        MOTHERSONSUMI INFOTECH & DESIGNS LIMITED                    23d ago   \n",
       "8                                       Careerera                     5d ago   \n",
       "9              Ashkom Media India Private Limited                    22d ago   \n",
       "\n",
       "  Rating of Company  \n",
       "0               4.0  \n",
       "1               4.1  \n",
       "2               4.0  \n",
       "3               3.9  \n",
       "4               3.7  \n",
       "5               4.5  \n",
       "6               3.7  \n",
       "7               3.3  \n",
       "8               4.6  \n",
       "9               3.5  "
      ]
     },
     "execution_count": 118,
     "metadata": {},
     "output_type": "execute_result"
    }
   ],
   "source": [
    "df9=pd.DataFrame({'Company Name':comp_name9,'No. of Days ago job posted':days9,'Rating of Company':rating9})\n",
    "df9"
   ]
  },
  {
   "cell_type": "code",
   "execution_count": 119,
   "id": "fac46e0f",
   "metadata": {},
   "outputs": [],
   "source": [
    "time.sleep(5)"
   ]
  },
  {
   "cell_type": "code",
   "execution_count": 120,
   "id": "b1eb8d52",
   "metadata": {},
   "outputs": [],
   "source": [
    "# Answer 9). Completed."
   ]
  },
  {
   "cell_type": "code",
   "execution_count": 121,
   "id": "fa21b4ab",
   "metadata": {},
   "outputs": [],
   "source": [
    "# Answer 10). To scrape the salary data for Data Scientist designation."
   ]
  },
  {
   "cell_type": "code",
   "execution_count": 122,
   "id": "8eb4784c",
   "metadata": {},
   "outputs": [],
   "source": [
    "driver.get(\" https://www.ambitionbox.com/\")"
   ]
  },
  {
   "cell_type": "code",
   "execution_count": 123,
   "id": "9d13e263",
   "metadata": {},
   "outputs": [],
   "source": [
    "driver.find_element_by_xpath(\"/html/body/div[1]/nav/nav/a[4]\").click()"
   ]
  },
  {
   "cell_type": "code",
   "execution_count": 124,
   "id": "740777b5",
   "metadata": {},
   "outputs": [],
   "source": [
    "search_option=driver.find_element_by_xpath(\"/html/body/div/div/div/main/section[1]/div[2]/div[1]/span/input\")\n",
    "search_option.send_keys(\"Data Scientist\")\n",
    "search_option.click()"
   ]
  },
  {
   "cell_type": "code",
   "execution_count": 125,
   "id": "8407adda",
   "metadata": {},
   "outputs": [],
   "source": [
    "comp_name10=[]\n",
    "tot_sal10=[]\n",
    "avg_sal10=[]\n",
    "min_sal10=[]\n",
    "max_sal10=[]\n",
    "exp10=[]"
   ]
  },
  {
   "cell_type": "code",
   "execution_count": 126,
   "id": "20ff0c34",
   "metadata": {},
   "outputs": [],
   "source": [
    "name10=driver.find_elements_by_xpath(\"//div[@class='company-info-wrapper']/div\")\n",
    "for i in name10:\n",
    "    comp_name10.append(i.text.split('\\n')[0])\n",
    "    tot_sal10.append(i.text.split('\\n')[1])\n",
    "min10=driver.find_elements_by_xpath(\"//div[@class='salary-values']/div[1]\")\n",
    "for k in min10:\n",
    "    min_sal10.append(k.text)\n",
    "max10=driver.find_elements_by_xpath(\"//div[@class='salary-values']/div[2]\")\n",
    "for l in max10:\n",
    "    max_sal10.append(l.text)\n",
    "avg10=driver.find_elements_by_xpath(\"//p[@class='averageCtc']\")\n",
    "for m in avg10:\n",
    "    avg_sal10.append(m.text)\n",
    "exp_tags10=driver.find_elements_by_xpath(\"//div[@class='salaries sbold-list-header']\")\n",
    "for n in exp_tags10:\n",
    "    exp10.append(n.text.split('\\n')[2])"
   ]
  },
  {
   "cell_type": "code",
   "execution_count": 127,
   "id": "3bf502ea",
   "metadata": {},
   "outputs": [
    {
     "data": {
      "text/html": [
       "<div>\n",
       "<style scoped>\n",
       "    .dataframe tbody tr th:only-of-type {\n",
       "        vertical-align: middle;\n",
       "    }\n",
       "\n",
       "    .dataframe tbody tr th {\n",
       "        vertical-align: top;\n",
       "    }\n",
       "\n",
       "    .dataframe thead th {\n",
       "        text-align: right;\n",
       "    }\n",
       "</style>\n",
       "<table border=\"1\" class=\"dataframe\">\n",
       "  <thead>\n",
       "    <tr style=\"text-align: right;\">\n",
       "      <th></th>\n",
       "      <th>Company Name</th>\n",
       "      <th>Total salaries record</th>\n",
       "      <th>Minimum Salary Offered</th>\n",
       "      <th>Maximum Salary Offered</th>\n",
       "      <th>Average Salary Offered</th>\n",
       "      <th>Experience Required</th>\n",
       "    </tr>\n",
       "  </thead>\n",
       "  <tbody>\n",
       "    <tr>\n",
       "      <th>0</th>\n",
       "      <td>Google</td>\n",
       "      <td>based on 35 salaries</td>\n",
       "      <td>₹ 11.0L</td>\n",
       "      <td>₹ 65.0L</td>\n",
       "      <td>₹ 31.3L</td>\n",
       "      <td>1-3 yrs exp</td>\n",
       "    </tr>\n",
       "    <tr>\n",
       "      <th>1</th>\n",
       "      <td>Microsoft Corporation</td>\n",
       "      <td>based on 274 salaries</td>\n",
       "      <td>₹ 13.0L</td>\n",
       "      <td>₹ 50.0L</td>\n",
       "      <td>₹ 24.0L</td>\n",
       "      <td>1-4 yrs exp</td>\n",
       "    </tr>\n",
       "    <tr>\n",
       "      <th>2</th>\n",
       "      <td>Goldman Sachs</td>\n",
       "      <td>based on 18 salaries</td>\n",
       "      <td>₹ 12.0L</td>\n",
       "      <td>₹ 34.0L</td>\n",
       "      <td>₹ 23.0L</td>\n",
       "      <td>2 yrs exp</td>\n",
       "    </tr>\n",
       "    <tr>\n",
       "      <th>3</th>\n",
       "      <td>Tekion</td>\n",
       "      <td>based on 35 salaries</td>\n",
       "      <td>₹ 12.0L</td>\n",
       "      <td>₹ 33.0L</td>\n",
       "      <td>₹ 21.2L</td>\n",
       "      <td>2-4 yrs exp</td>\n",
       "    </tr>\n",
       "    <tr>\n",
       "      <th>4</th>\n",
       "      <td>Amazon</td>\n",
       "      <td>based on 122 salaries</td>\n",
       "      <td>₹ 8.0L</td>\n",
       "      <td>₹ 45.0L</td>\n",
       "      <td>₹ 21.0L</td>\n",
       "      <td>1-4 yrs exp</td>\n",
       "    </tr>\n",
       "    <tr>\n",
       "      <th>5</th>\n",
       "      <td>Servicenow Software Development India</td>\n",
       "      <td>based on 60 salaries</td>\n",
       "      <td>₹ 13.0L</td>\n",
       "      <td>₹ 28.0L</td>\n",
       "      <td>₹ 20.5L</td>\n",
       "      <td>2-4 yrs exp</td>\n",
       "    </tr>\n",
       "    <tr>\n",
       "      <th>6</th>\n",
       "      <td>Flipkart</td>\n",
       "      <td>based on 64 salaries</td>\n",
       "      <td>₹ 7.5L</td>\n",
       "      <td>₹ 31.0L</td>\n",
       "      <td>₹ 20.4L</td>\n",
       "      <td>1-4 yrs exp</td>\n",
       "    </tr>\n",
       "    <tr>\n",
       "      <th>7</th>\n",
       "      <td>Walmart</td>\n",
       "      <td>based on 87 salaries</td>\n",
       "      <td>₹ 11.4L</td>\n",
       "      <td>₹ 32.5L</td>\n",
       "      <td>₹ 20.0L</td>\n",
       "      <td>1-4 yrs exp</td>\n",
       "    </tr>\n",
       "    <tr>\n",
       "      <th>8</th>\n",
       "      <td>PayPal</td>\n",
       "      <td>based on 29 salaries</td>\n",
       "      <td>₹ 11.0L</td>\n",
       "      <td>₹ 31.0L</td>\n",
       "      <td>₹ 19.9L</td>\n",
       "      <td>1-2 yrs exp</td>\n",
       "    </tr>\n",
       "    <tr>\n",
       "      <th>9</th>\n",
       "      <td>Myntra</td>\n",
       "      <td>based on 10 salaries</td>\n",
       "      <td>₹ 14.0L</td>\n",
       "      <td>₹ 27.0L</td>\n",
       "      <td>₹ 19.5L</td>\n",
       "      <td>1 yr exp</td>\n",
       "    </tr>\n",
       "  </tbody>\n",
       "</table>\n",
       "</div>"
      ],
      "text/plain": [
       "                            Company Name  Total salaries record  \\\n",
       "0                                 Google   based on 35 salaries   \n",
       "1                  Microsoft Corporation  based on 274 salaries   \n",
       "2                          Goldman Sachs   based on 18 salaries   \n",
       "3                                 Tekion   based on 35 salaries   \n",
       "4                                 Amazon  based on 122 salaries   \n",
       "5  Servicenow Software Development India   based on 60 salaries   \n",
       "6                               Flipkart   based on 64 salaries   \n",
       "7                                Walmart   based on 87 salaries   \n",
       "8                                 PayPal   based on 29 salaries   \n",
       "9                                 Myntra   based on 10 salaries   \n",
       "\n",
       "  Minimum Salary Offered Maximum Salary Offered Average Salary Offered  \\\n",
       "0                ₹ 11.0L                ₹ 65.0L                ₹ 31.3L   \n",
       "1                ₹ 13.0L                ₹ 50.0L                ₹ 24.0L   \n",
       "2                ₹ 12.0L                ₹ 34.0L                ₹ 23.0L   \n",
       "3                ₹ 12.0L                ₹ 33.0L                ₹ 21.2L   \n",
       "4                 ₹ 8.0L                ₹ 45.0L                ₹ 21.0L   \n",
       "5                ₹ 13.0L                ₹ 28.0L                ₹ 20.5L   \n",
       "6                 ₹ 7.5L                ₹ 31.0L                ₹ 20.4L   \n",
       "7                ₹ 11.4L                ₹ 32.5L                ₹ 20.0L   \n",
       "8                ₹ 11.0L                ₹ 31.0L                ₹ 19.9L   \n",
       "9                ₹ 14.0L                ₹ 27.0L                ₹ 19.5L   \n",
       "\n",
       "  Experience Required  \n",
       "0         1-3 yrs exp  \n",
       "1         1-4 yrs exp  \n",
       "2           2 yrs exp  \n",
       "3         2-4 yrs exp  \n",
       "4         1-4 yrs exp  \n",
       "5         2-4 yrs exp  \n",
       "6         1-4 yrs exp  \n",
       "7         1-4 yrs exp  \n",
       "8         1-2 yrs exp  \n",
       "9            1 yr exp  "
      ]
     },
     "execution_count": 127,
     "metadata": {},
     "output_type": "execute_result"
    }
   ],
   "source": [
    "df10=pd.DataFrame({'Company Name':comp_name10,'Total salaries record':tot_sal10,'Minimum Salary Offered':min_sal10,'Maximum Salary Offered':max_sal10,'Average Salary Offered':avg_sal10,'Experience Required':exp10})\n",
    "df10"
   ]
  },
  {
   "cell_type": "code",
   "execution_count": 128,
   "id": "0b3e3b39",
   "metadata": {},
   "outputs": [],
   "source": [
    "time.sleep(5)\n",
    "driver.close()"
   ]
  },
  {
   "cell_type": "code",
   "execution_count": 129,
   "id": "607938f1",
   "metadata": {},
   "outputs": [],
   "source": [
    "# Answer 10. Completed."
   ]
  },
  {
   "cell_type": "code",
   "execution_count": 130,
   "id": "f43eb7ac",
   "metadata": {},
   "outputs": [],
   "source": [
    "# Answer 5).Scrape 100 reviews data from flipkart.com for iphone11 phone."
   ]
  },
  {
   "cell_type": "code",
   "execution_count": 131,
   "id": "3d021216",
   "metadata": {},
   "outputs": [],
   "source": [
    "driver=webdriver.Chrome(r\"C:\\Web Driver\\chromedriver.exe\")"
   ]
  },
  {
   "cell_type": "code",
   "execution_count": 132,
   "id": "17a3893b",
   "metadata": {},
   "outputs": [],
   "source": [
    "driver.get(\"https://www.flipkart.com/\")"
   ]
  },
  {
   "cell_type": "code",
   "execution_count": 133,
   "id": "31502ba6",
   "metadata": {},
   "outputs": [],
   "source": [
    "search = driver.find_element_by_xpath(\"/html/body/div[1]/div/div[1]/div[1]/div[2]/div[2]/form/div/div/input\")\n",
    "search.send_keys(\"iphone 11\")"
   ]
  },
  {
   "cell_type": "code",
   "execution_count": 134,
   "id": "2a3d4376",
   "metadata": {},
   "outputs": [],
   "source": [
    "close_button=driver.find_element_by_xpath(\"/html/body/div[2]/div/div/button\")\n",
    "close_button.click()"
   ]
  },
  {
   "cell_type": "code",
   "execution_count": 135,
   "id": "4e29f171",
   "metadata": {},
   "outputs": [],
   "source": [
    "search_button=driver.find_element_by_xpath(\"/html/body/div/div/div[1]/div[1]/div[2]/div[2]/form/div/button\")\n",
    "search_button.click()"
   ]
  },
  {
   "cell_type": "code",
   "execution_count": 136,
   "id": "d1230a1c",
   "metadata": {},
   "outputs": [],
   "source": [
    "from selenium.common.exceptions import NoSuchElementException, StaleElementReferenceException\n",
    "from selenium import webdriver\n",
    "from selenium.webdriver.support.ui import WebDriverWait\n",
    "from selenium.webdriver.support import expected_conditions as EC\n",
    "from selenium.webdriver.common.by import By\n",
    "try:\n",
    "    driver.find_element_by_xpath(\"/html/body/div/div/div[3]/div[1]/div[2]/div[2]/div/div/div/a/div[2]/div[1]/div[2]/span[2]/span/span[1]\").click()\n",
    "except NoSuchElementException as e:\n",
    "    time.sleep(10)\n",
    "    driver.find_element_by_xpath(\"/html/body/div/div/div[3]/div[1]/div[2]/div[2]/div/div/div/a/div[2]/div[1]/div[2]/span[2]/span/span[1]\").click()"
   ]
  },
  {
   "cell_type": "code",
   "execution_count": 137,
   "id": "ea93390a",
   "metadata": {},
   "outputs": [],
   "source": [
    "driver.get('https://www.flipkart.com/apple-iphone-11-black-64-gb/p/itm4e5041ba101fd?pid=MOBFWQ6BXGJCEYNY&lid=LSTMOBFWQ6BXGJCEYNYZE3ENS&marketplace=FLIPKART&q=iphone+11&store=tyy%2F4io&srno=s_1_1&otracker=search&otracker1=search&fm=organic&iid=d07f8d8d-c1c8-4961-9f4f-dc35ce1d5239.MOBFWQ6BXGJCEYNY.SEARCH&ppt=hp&ppn=homepage&ssid=seg6jc74yo0000001656133639920&qH=f6cdfdaa9f3c23f3')"
   ]
  },
  {
   "cell_type": "code",
   "execution_count": 138,
   "id": "effe86f9",
   "metadata": {},
   "outputs": [],
   "source": [
    "rev=driver.find_element_by_xpath('/html/body/div[1]/div/div[3]/div[1]/div[2]/div[9]/div[6]/div/a/div/span')\n",
    "rev.click()"
   ]
  },
  {
   "cell_type": "code",
   "execution_count": 139,
   "id": "6b5089e4",
   "metadata": {},
   "outputs": [],
   "source": [
    "rating5=[]\n",
    "review5=[]\n",
    "review_all5=[]"
   ]
  },
  {
   "cell_type": "code",
   "execution_count": 140,
   "id": "5c0265e3",
   "metadata": {},
   "outputs": [],
   "source": [
    "for a in range(10):\n",
    "    rating_tags5=driver.find_elements_by_xpath(\"//div[@class='_3LWZlK _1BLPMq']\")\n",
    "    for i in rating_tags5:\n",
    "        rating5.append(i.text)\n",
    "    review_tags5=driver.find_elements_by_xpath(\"//p[@class='_2-N8zT']\")\n",
    "    for j in review_tags5:\n",
    "        review5.append(j.text)\n",
    "    review_all_tags5=driver.find_elements_by_xpath(\"//div[@class='t-ZTKy']/div[1]\")\n",
    "    for k in review_all_tags5:\n",
    "        review_all5.append(k.text)\n",
    "    delay=15\n",
    "    WebDriverWait(driver,delay).until(EC.presence_of_element_located((By.CLASS_NAME,'_1LKTO3')))\n",
    "    nex_button = driver.find_element_by_xpath(\"//a[@class='_1LKTO3']/span\")\n",
    "    nex_button.click()\n",
    "    time.sleep(10)"
   ]
  },
  {
   "cell_type": "code",
   "execution_count": 141,
   "id": "b6be2384",
   "metadata": {},
   "outputs": [
    {
     "data": {
      "text/html": [
       "<div>\n",
       "<style scoped>\n",
       "    .dataframe tbody tr th:only-of-type {\n",
       "        vertical-align: middle;\n",
       "    }\n",
       "\n",
       "    .dataframe tbody tr th {\n",
       "        vertical-align: top;\n",
       "    }\n",
       "\n",
       "    .dataframe thead th {\n",
       "        text-align: right;\n",
       "    }\n",
       "</style>\n",
       "<table border=\"1\" class=\"dataframe\">\n",
       "  <thead>\n",
       "    <tr style=\"text-align: right;\">\n",
       "      <th></th>\n",
       "      <th>rating</th>\n",
       "      <th>review</th>\n",
       "      <th>full review</th>\n",
       "    </tr>\n",
       "  </thead>\n",
       "  <tbody>\n",
       "    <tr>\n",
       "      <th>0</th>\n",
       "      <td>5</td>\n",
       "      <td>Simply awesome</td>\n",
       "      <td>Really satisfied with the Product I received.....</td>\n",
       "    </tr>\n",
       "    <tr>\n",
       "      <th>1</th>\n",
       "      <td>5</td>\n",
       "      <td>Best in the market!</td>\n",
       "      <td>Great iPhone very snappy experience as apple k...</td>\n",
       "    </tr>\n",
       "    <tr>\n",
       "      <th>2</th>\n",
       "      <td>5</td>\n",
       "      <td>Perfect product!</td>\n",
       "      <td>Amazing phone with great cameras and better ba...</td>\n",
       "    </tr>\n",
       "    <tr>\n",
       "      <th>3</th>\n",
       "      <td>5</td>\n",
       "      <td>Highly recommended</td>\n",
       "      <td>What a camera .....just awesome ..you can feel...</td>\n",
       "    </tr>\n",
       "    <tr>\n",
       "      <th>4</th>\n",
       "      <td>5</td>\n",
       "      <td>Worth every penny</td>\n",
       "      <td>Previously I was using one plus 3t it was a gr...</td>\n",
       "    </tr>\n",
       "    <tr>\n",
       "      <th>...</th>\n",
       "      <td>...</td>\n",
       "      <td>...</td>\n",
       "      <td>...</td>\n",
       "    </tr>\n",
       "    <tr>\n",
       "      <th>95</th>\n",
       "      <td>5</td>\n",
       "      <td>Perfect product!</td>\n",
       "      <td>Iphone is just awesome.. battery backup is ver...</td>\n",
       "    </tr>\n",
       "    <tr>\n",
       "      <th>96</th>\n",
       "      <td>5</td>\n",
       "      <td>Worth every penny</td>\n",
       "      <td>Best budget Iphone till date ❤️ go for it guys...</td>\n",
       "    </tr>\n",
       "    <tr>\n",
       "      <th>97</th>\n",
       "      <td>5</td>\n",
       "      <td>Wonderful</td>\n",
       "      <td>This is my first ever I phone. Before this I w...</td>\n",
       "    </tr>\n",
       "    <tr>\n",
       "      <th>98</th>\n",
       "      <td>5</td>\n",
       "      <td>Simply awesome</td>\n",
       "      <td>Excellent camera, good performance, no lag. Th...</td>\n",
       "    </tr>\n",
       "    <tr>\n",
       "      <th>99</th>\n",
       "      <td>5</td>\n",
       "      <td>Terrific</td>\n",
       "      <td>Really worth of money. i just love it. It is t...</td>\n",
       "    </tr>\n",
       "  </tbody>\n",
       "</table>\n",
       "<p>100 rows × 3 columns</p>\n",
       "</div>"
      ],
      "text/plain": [
       "   rating               review  \\\n",
       "0       5       Simply awesome   \n",
       "1       5  Best in the market!   \n",
       "2       5     Perfect product!   \n",
       "3       5   Highly recommended   \n",
       "4       5    Worth every penny   \n",
       "..    ...                  ...   \n",
       "95      5     Perfect product!   \n",
       "96      5    Worth every penny   \n",
       "97      5            Wonderful   \n",
       "98      5       Simply awesome   \n",
       "99      5             Terrific   \n",
       "\n",
       "                                          full review  \n",
       "0   Really satisfied with the Product I received.....  \n",
       "1   Great iPhone very snappy experience as apple k...  \n",
       "2   Amazing phone with great cameras and better ba...  \n",
       "3   What a camera .....just awesome ..you can feel...  \n",
       "4   Previously I was using one plus 3t it was a gr...  \n",
       "..                                                ...  \n",
       "95  Iphone is just awesome.. battery backup is ver...  \n",
       "96  Best budget Iphone till date ❤️ go for it guys...  \n",
       "97  This is my first ever I phone. Before this I w...  \n",
       "98  Excellent camera, good performance, no lag. Th...  \n",
       "99  Really worth of money. i just love it. It is t...  \n",
       "\n",
       "[100 rows x 3 columns]"
      ]
     },
     "execution_count": 141,
     "metadata": {},
     "output_type": "execute_result"
    }
   ],
   "source": [
    "df5 = pd.DataFrame({'rating':rating5,'review':review5,'full review':review_all5})\n",
    "df5"
   ]
  },
  {
   "cell_type": "code",
   "execution_count": 142,
   "id": "4c234cef",
   "metadata": {},
   "outputs": [],
   "source": [
    "# Answer 5).Completed. "
   ]
  },
  {
   "cell_type": "code",
   "execution_count": 143,
   "id": "a5931de5",
   "metadata": {},
   "outputs": [],
   "source": [
    "# Answer 8). To scrape first 10 laptops data."
   ]
  },
  {
   "cell_type": "code",
   "execution_count": 144,
   "id": "f14381c1",
   "metadata": {},
   "outputs": [],
   "source": [
    "driver.get(\"https://www.amazon.in/\")"
   ]
  },
  {
   "cell_type": "code",
   "execution_count": 145,
   "id": "ea1aeb14",
   "metadata": {},
   "outputs": [],
   "source": [
    "search=driver.find_element_by_xpath(\"/html/body/div[1]/header/div/div[1]/div[2]/div/form/div[2]/div[1]/input\")\n",
    "search.send_keys(\"Laptop\")"
   ]
  },
  {
   "cell_type": "code",
   "execution_count": 146,
   "id": "bb096cbc",
   "metadata": {},
   "outputs": [],
   "source": [
    "search_button=driver.find_element_by_xpath(\"/html/body/div[1]/header/div/div[1]/div[2]/div/form/div[3]/div/span/input\")\n",
    "search_button.click()"
   ]
  },
  {
   "cell_type": "code",
   "execution_count": 150,
   "id": "75873fa7",
   "metadata": {},
   "outputs": [],
   "source": [
    "cpu_filter=driver.find_element_by_xpath(\"/html/body/div[1]/div[2]/div[1]/div[2]/div/div[3]/span/div[1]/div/div/div[6]/ul[2]/li[13]/span/a/div/label/i\")\n",
    "cpu_filter.click()"
   ]
  },
  {
   "cell_type": "code",
   "execution_count": 155,
   "id": "6a46468b",
   "metadata": {},
   "outputs": [],
   "source": [
    "title8=[]\n",
    "rating8=[]\n",
    "price8=[]"
   ]
  },
  {
   "cell_type": "code",
   "execution_count": 156,
   "id": "f845f900",
   "metadata": {},
   "outputs": [],
   "source": [
    "title_tag8=driver.find_elements_by_xpath(\"//h2[@class='a-size-mini a-spacing-none a-color-base s-line-clamp-2']\")\n",
    "for i in title_tag8:\n",
    "    title8.append(i.text)\n",
    "l=[]\n",
    "rating_tag8=driver.find_elements_by_xpath(\"//span[@class='a-icon-alt']\")\n",
    "for j in rating_tag8:\n",
    "    if j.text == '':\n",
    "        rating8.append('-')\n",
    "    else:\n",
    "        rating8.append(j.text)\n",
    "price_tag8=driver.find_elements_by_xpath(\"//span[@class='a-price-whole']\")\n",
    "for k in price_tag8:\n",
    "    price8.append(k.text)\n",
    "title8=title8[0:10]\n",
    "rating8=rating8[0:10]\n",
    "price8=price8[0:10]"
   ]
  },
  {
   "cell_type": "code",
   "execution_count": 157,
   "id": "b2538496",
   "metadata": {},
   "outputs": [
    {
     "name": "stdout",
     "output_type": "stream",
     "text": [
      "10 10 10\n"
     ]
    }
   ],
   "source": [
    "print(len(title8),len(rating8),len(price8))"
   ]
  },
  {
   "cell_type": "code",
   "execution_count": 158,
   "id": "d06ce88c",
   "metadata": {},
   "outputs": [
    {
     "data": {
      "text/html": [
       "<div>\n",
       "<style scoped>\n",
       "    .dataframe tbody tr th:only-of-type {\n",
       "        vertical-align: middle;\n",
       "    }\n",
       "\n",
       "    .dataframe tbody tr th {\n",
       "        vertical-align: top;\n",
       "    }\n",
       "\n",
       "    .dataframe thead th {\n",
       "        text-align: right;\n",
       "    }\n",
       "</style>\n",
       "<table border=\"1\" class=\"dataframe\">\n",
       "  <thead>\n",
       "    <tr style=\"text-align: right;\">\n",
       "      <th></th>\n",
       "      <th>Title of Laptoop</th>\n",
       "      <th>Rating</th>\n",
       "      <th>Price</th>\n",
       "    </tr>\n",
       "  </thead>\n",
       "  <tbody>\n",
       "    <tr>\n",
       "      <th>0</th>\n",
       "      <td>Lenovo Yoga 9 11th Gen Intel Core i7 14\" 4K Ul...</td>\n",
       "      <td>-</td>\n",
       "      <td>1,69,091</td>\n",
       "    </tr>\n",
       "    <tr>\n",
       "      <th>1</th>\n",
       "      <td>HP Pavilion 11th Gen Intel Core i7 Processor 1...</td>\n",
       "      <td>-</td>\n",
       "      <td>96,900</td>\n",
       "    </tr>\n",
       "    <tr>\n",
       "      <th>2</th>\n",
       "      <td>Hp Pavilion X360 11Th Gen Intel Core I7 14 Inc...</td>\n",
       "      <td>-</td>\n",
       "      <td>84,990</td>\n",
       "    </tr>\n",
       "    <tr>\n",
       "      <th>3</th>\n",
       "      <td>Lenovo ThinkBook 15 Intel 11th Gen Core i7 15....</td>\n",
       "      <td>-</td>\n",
       "      <td>86,990</td>\n",
       "    </tr>\n",
       "    <tr>\n",
       "      <th>4</th>\n",
       "      <td>LG Gram 16 Intel Evo 11th Gen i7 Thin &amp; Light ...</td>\n",
       "      <td>-</td>\n",
       "      <td>84,999</td>\n",
       "    </tr>\n",
       "    <tr>\n",
       "      <th>5</th>\n",
       "      <td>Samsung Galaxy Book2 Intel 12th Gen core i7 39...</td>\n",
       "      <td>-</td>\n",
       "      <td>79,990</td>\n",
       "    </tr>\n",
       "    <tr>\n",
       "      <th>6</th>\n",
       "      <td>ASUS TUF Gaming F15 (2022), 15.6-inch (39.62 c...</td>\n",
       "      <td>-</td>\n",
       "      <td>1,16,990</td>\n",
       "    </tr>\n",
       "    <tr>\n",
       "      <th>7</th>\n",
       "      <td>Lenovo IdeaPad 5 Pro 11th Gen Intel Core i7 14...</td>\n",
       "      <td>-</td>\n",
       "      <td>75,104</td>\n",
       "    </tr>\n",
       "    <tr>\n",
       "      <th>8</th>\n",
       "      <td>HP Victus 11th Gen Intel Core i7-11800H 16.1-i...</td>\n",
       "      <td>-</td>\n",
       "      <td>1,20,062</td>\n",
       "    </tr>\n",
       "    <tr>\n",
       "      <th>9</th>\n",
       "      <td>OMEN by HP-12th Gen Intel Core i7 16.1-inch(40...</td>\n",
       "      <td>-</td>\n",
       "      <td>1,13,990</td>\n",
       "    </tr>\n",
       "  </tbody>\n",
       "</table>\n",
       "</div>"
      ],
      "text/plain": [
       "                                    Title of Laptoop Rating     Price\n",
       "0  Lenovo Yoga 9 11th Gen Intel Core i7 14\" 4K Ul...      -  1,69,091\n",
       "1  HP Pavilion 11th Gen Intel Core i7 Processor 1...      -    96,900\n",
       "2  Hp Pavilion X360 11Th Gen Intel Core I7 14 Inc...      -    84,990\n",
       "3  Lenovo ThinkBook 15 Intel 11th Gen Core i7 15....      -    86,990\n",
       "4  LG Gram 16 Intel Evo 11th Gen i7 Thin & Light ...      -    84,999\n",
       "5  Samsung Galaxy Book2 Intel 12th Gen core i7 39...      -    79,990\n",
       "6  ASUS TUF Gaming F15 (2022), 15.6-inch (39.62 c...      -  1,16,990\n",
       "7  Lenovo IdeaPad 5 Pro 11th Gen Intel Core i7 14...      -    75,104\n",
       "8  HP Victus 11th Gen Intel Core i7-11800H 16.1-i...      -  1,20,062\n",
       "9  OMEN by HP-12th Gen Intel Core i7 16.1-inch(40...      -  1,13,990"
      ]
     },
     "execution_count": 158,
     "metadata": {},
     "output_type": "execute_result"
    }
   ],
   "source": [
    "df8=pd.DataFrame({'Title of Laptoop':title8,'Rating':rating8,'Price':price8})\n",
    "df8"
   ]
  },
  {
   "cell_type": "code",
   "execution_count": 159,
   "id": "14e2003c",
   "metadata": {},
   "outputs": [],
   "source": [
    "# Answer 8).Completed."
   ]
  },
  {
   "cell_type": "code",
   "execution_count": 160,
   "id": "1b2bad0e",
   "metadata": {},
   "outputs": [],
   "source": [
    "# Assignment Completed."
   ]
  },
  {
   "cell_type": "code",
   "execution_count": null,
   "id": "3e140032",
   "metadata": {},
   "outputs": [],
   "source": []
  }
 ],
 "metadata": {
  "kernelspec": {
   "display_name": "Python 3 (ipykernel)",
   "language": "python",
   "name": "python3"
  },
  "language_info": {
   "codemirror_mode": {
    "name": "ipython",
    "version": 3
   },
   "file_extension": ".py",
   "mimetype": "text/x-python",
   "name": "python",
   "nbconvert_exporter": "python",
   "pygments_lexer": "ipython3",
   "version": "3.9.7"
  }
 },
 "nbformat": 4,
 "nbformat_minor": 5
}
