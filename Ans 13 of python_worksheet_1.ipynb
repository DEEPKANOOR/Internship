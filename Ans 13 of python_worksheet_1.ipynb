{
 "cells": [
  {
   "cell_type": "code",
   "execution_count": 1,
   "id": "9005c904",
   "metadata": {},
   "outputs": [],
   "source": [
    "# to find whether a string is palindrome or not\n",
    "# palindrome means when a string is symmetrical from both ends like 'radar','level'etc."
   ]
  },
  {
   "cell_type": "code",
   "execution_count": 15,
   "id": "80456e97",
   "metadata": {},
   "outputs": [
    {
     "name": "stdout",
     "output_type": "stream",
     "text": [
      "enter the string data \tfgrhjijhrgf\n",
      "the entered string is polindrome\n"
     ]
    }
   ],
   "source": [
    "x = str(input('enter the string data \\t'))\n",
    "a = len(x)\n",
    "i=0\n",
    "while (i!=(a-1-i)):\n",
    "    if x[i]==x[a-1-i]:\n",
    "        i+=1\n",
    "        continue\n",
    "    else:\n",
    "        print('the entered string is not polindrome')\n",
    "        break\n",
    "else:\n",
    "    print('the entered string is polindrome')"
   ]
  },
  {
   "cell_type": "code",
   "execution_count": null,
   "id": "bf3f87b3",
   "metadata": {},
   "outputs": [],
   "source": []
  }
 ],
 "metadata": {
  "kernelspec": {
   "display_name": "Python 3 (ipykernel)",
   "language": "python",
   "name": "python3"
  },
  "language_info": {
   "codemirror_mode": {
    "name": "ipython",
    "version": 3
   },
   "file_extension": ".py",
   "mimetype": "text/x-python",
   "name": "python",
   "nbconvert_exporter": "python",
   "pygments_lexer": "ipython3",
   "version": "3.9.7"
  }
 },
 "nbformat": 4,
 "nbformat_minor": 5
}
