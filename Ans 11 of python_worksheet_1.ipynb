{
 "cells": [
  {
   "cell_type": "code",
   "execution_count": 1,
   "id": "30cc61db",
   "metadata": {},
   "outputs": [],
   "source": [
    "# to find the factorial of a number"
   ]
  },
  {
   "cell_type": "code",
   "execution_count": 9,
   "id": "836a72f3",
   "metadata": {},
   "outputs": [
    {
     "name": "stdout",
     "output_type": "stream",
     "text": [
      "enter ur number \t20\n",
      "factorial of the entered number is \t2432902008176640000\n"
     ]
    }
   ],
   "source": [
    "x = int(input('enter ur number \\t'))\n",
    "for i in range(1,x,1):\n",
    "    x = x*i\n",
    "    i+=1\n",
    "    continue\n",
    "print('factorial of the entered number is \\t'+ str(x))"
   ]
  },
  {
   "cell_type": "code",
   "execution_count": null,
   "id": "c2956242",
   "metadata": {},
   "outputs": [],
   "source": []
  },
  {
   "cell_type": "code",
   "execution_count": null,
   "id": "e514ba4e",
   "metadata": {},
   "outputs": [],
   "source": []
  }
 ],
 "metadata": {
  "kernelspec": {
   "display_name": "Python 3 (ipykernel)",
   "language": "python",
   "name": "python3"
  },
  "language_info": {
   "codemirror_mode": {
    "name": "ipython",
    "version": 3
   },
   "file_extension": ".py",
   "mimetype": "text/x-python",
   "name": "python",
   "nbconvert_exporter": "python",
   "pygments_lexer": "ipython3",
   "version": "3.9.7"
  }
 },
 "nbformat": 4,
 "nbformat_minor": 5
}
