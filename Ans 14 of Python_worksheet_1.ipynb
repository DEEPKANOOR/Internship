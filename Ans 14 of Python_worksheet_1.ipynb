{
 "cells": [
  {
   "cell_type": "code",
   "execution_count": 1,
   "id": "e62dee2e",
   "metadata": {},
   "outputs": [],
   "source": [
    "# to find the third side of a right angled triangle from two given sides\n",
    "# as we know, a right angled triangle has three sides: hypotenuse, base and perpendicular (altitude)\n",
    "# hyp. is lngest among them"
   ]
  },
  {
   "cell_type": "code",
   "execution_count": 2,
   "id": "22be5007",
   "metadata": {},
   "outputs": [],
   "source": [
    "import numpy as np"
   ]
  },
  {
   "cell_type": "code",
   "execution_count": 8,
   "id": "1f69401a",
   "metadata": {},
   "outputs": [
    {
     "name": "stdout",
     "output_type": "stream",
     "text": [
      "r u going to enter one hypotenuse? if yes, write 'y' and if no, plase write 'n' \t4343\n",
      "please enter a valid response y or n\n",
      "r u going to enter one hypotenuse? if yes, write 'y' and if no, plase write 'n' \tknknn\n",
      "please enter a valid response y or n\n",
      "r u going to enter one hypotenuse? if yes, write 'y' and if no, plase write 'n' \t\n",
      "please enter a valid response y or n\n",
      "r u going to enter one hypotenuse? if yes, write 'y' and if no, plase write 'n' \ty\n",
      "enter hypotenuse \t5\n",
      "enter second side \t4\n",
      "third side of right angled triangle is \t3.0\n"
     ]
    }
   ],
   "source": [
    "while True:\n",
    "    try:\n",
    "        x= str(input(\"r u going to enter one hypotenuse? if yes, write 'y' and if no, plase write 'n' \\t\"))\n",
    "        if x!= 'y':\n",
    "            if x!= 'n':\n",
    "                raise exception\n",
    "    except :\n",
    "        print('please enter a valid response y or n')\n",
    "        continue\n",
    "    else:\n",
    "        if(x == 'y'):\n",
    "            a = float(input('enter hypotenuse \\t'))\n",
    "            b = float(input('enter second side \\t'))\n",
    "            print('third side of right angled triangle is \\t' +str(np.sqrt(a*a-b*b)))\n",
    "            break\n",
    "        elif (x == 'n'):\n",
    "            aa = float(input('enter one side \\t'))\n",
    "            bb = float(input('enter second side \\t'))\n",
    "            cc = np.sqrt(np.square(aa) + np.square(bb))\n",
    "            print('hypotenuse of right angled triangle is \\t' +str(cc))\n",
    "            break\n",
    "        \n",
    "        "
   ]
  },
  {
   "cell_type": "code",
   "execution_count": null,
   "id": "c2b81d2c",
   "metadata": {},
   "outputs": [],
   "source": []
  },
  {
   "cell_type": "code",
   "execution_count": null,
   "id": "a0e0d0bd",
   "metadata": {},
   "outputs": [],
   "source": []
  },
  {
   "cell_type": "code",
   "execution_count": null,
   "id": "174ac516",
   "metadata": {},
   "outputs": [],
   "source": []
  },
  {
   "cell_type": "code",
   "execution_count": null,
   "id": "839c8d7c",
   "metadata": {},
   "outputs": [],
   "source": []
  },
  {
   "cell_type": "code",
   "execution_count": null,
   "id": "7dbb0a91",
   "metadata": {},
   "outputs": [],
   "source": []
  }
 ],
 "metadata": {
  "kernelspec": {
   "display_name": "Python 3 (ipykernel)",
   "language": "python",
   "name": "python3"
  },
  "language_info": {
   "codemirror_mode": {
    "name": "ipython",
    "version": 3
   },
   "file_extension": ".py",
   "mimetype": "text/x-python",
   "name": "python",
   "nbconvert_exporter": "python",
   "pygments_lexer": "ipython3",
   "version": "3.9.7"
  }
 },
 "nbformat": 4,
 "nbformat_minor": 5
}
