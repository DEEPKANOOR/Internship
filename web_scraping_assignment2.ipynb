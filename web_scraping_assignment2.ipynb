{
 "cells": [
  {
   "cell_type": "code",
   "execution_count": 1,
   "id": "cd0e8b1b",
   "metadata": {},
   "outputs": [],
   "source": [
    "import selenium\n",
    "import pandas as pd\n",
    "import numpy as np\n",
    "import warnings\n",
    "warnings.filterwarnings('ignore')"
   ]
  },
  {
   "cell_type": "code",
   "execution_count": 2,
   "id": "2e1f8be0",
   "metadata": {},
   "outputs": [],
   "source": [
    "from selenium import webdriver \n",
    "import time"
   ]
  },
  {
   "cell_type": "code",
   "execution_count": 3,
   "id": "ed9d8200",
   "metadata": {},
   "outputs": [],
   "source": [
    "driver=webdriver.Chrome(r\"C:\\Web Driver\\chromedriver.exe\")"
   ]
  },
  {
   "cell_type": "code",
   "execution_count": 4,
   "id": "c9e99cae",
   "metadata": {},
   "outputs": [],
   "source": [
    "time.sleep(2)"
   ]
  },
  {
   "cell_type": "code",
   "execution_count": 5,
   "id": "f8419eb1",
   "metadata": {},
   "outputs": [],
   "source": [
    "# Ans 1). To scrape data for “Data Analyst” Job position in “Bangalore” location."
   ]
  },
  {
   "cell_type": "code",
   "execution_count": 6,
   "id": "c2788063",
   "metadata": {},
   "outputs": [],
   "source": [
    "driver.get(\"https://www.naukri.com/\")"
   ]
  },
  {
   "cell_type": "code",
   "execution_count": 7,
   "id": "690f6fa5",
   "metadata": {},
   "outputs": [],
   "source": [
    "search_desig = driver.find_element_by_class_name('suggestor-input')"
   ]
  },
  {
   "cell_type": "code",
   "execution_count": 8,
   "id": "989256d9",
   "metadata": {},
   "outputs": [],
   "source": [
    "search_desig.send_keys('Data Analyst')"
   ]
  },
  {
   "cell_type": "code",
   "execution_count": 9,
   "id": "3a77a452",
   "metadata": {},
   "outputs": [],
   "source": [
    "search_loc = driver.find_element_by_xpath(\"/html/body/div/div[2]/div[3]/div/div/div[5]/div/div/div/input\")"
   ]
  },
  {
   "cell_type": "code",
   "execution_count": 10,
   "id": "df306171",
   "metadata": {},
   "outputs": [],
   "source": [
    "search_loc.send_keys(\"Bangalore\")"
   ]
  },
  {
   "cell_type": "code",
   "execution_count": 11,
   "id": "70a4b72e",
   "metadata": {},
   "outputs": [],
   "source": [
    "search_button=driver.find_element_by_class_name(\"qsbSubmit\")"
   ]
  },
  {
   "cell_type": "code",
   "execution_count": 12,
   "id": "bdbcc01c",
   "metadata": {},
   "outputs": [],
   "source": [
    "search_button.click()"
   ]
  },
  {
   "cell_type": "code",
   "execution_count": 13,
   "id": "59b6a97d",
   "metadata": {},
   "outputs": [],
   "source": [
    "job_title=[]\n",
    "job_loc=[]\n",
    "comp_name=[]\n",
    "exp=[]\n",
    "title = driver.find_elements_by_xpath(\"//a[@class = 'title fw500 ellipsis']\")\n",
    "title=title[0:10]"
   ]
  },
  {
   "cell_type": "code",
   "execution_count": 14,
   "id": "7430eb55",
   "metadata": {},
   "outputs": [
    {
     "data": {
      "text/plain": [
       "['Business Data Analyst',\n",
       " 'EY GDS Data Analyst-Finland based project',\n",
       " 'Data Analyst - Data and Analytics',\n",
       " 'Data Analyst - Data and Analytics',\n",
       " 'Data Analyst (CSD)',\n",
       " 'Data Analyst - Data Science, 3 To 5 Years',\n",
       " 'Data Analyst / Business Analyst',\n",
       " 'Data Analyst',\n",
       " 'SAS/SQL - Healthcare Data Analyst - Bangalore',\n",
       " 'Business & Data Analyst - Alteryx (London)']"
      ]
     },
     "execution_count": 14,
     "metadata": {},
     "output_type": "execute_result"
    }
   ],
   "source": [
    "job_title=[]\n",
    "for i in title:\n",
    "    job_title.append(i.text)\n",
    "job_title        "
   ]
  },
  {
   "cell_type": "code",
   "execution_count": 15,
   "id": "8adc6f89",
   "metadata": {},
   "outputs": [
    {
     "data": {
      "text/plain": [
       "[<selenium.webdriver.remote.webelement.WebElement (session=\"ac6178cede89e3274e21a3f0a4941e1b\", element=\"88e42f11-fada-4310-8612-a24e7c8e4f93\")>,\n",
       " <selenium.webdriver.remote.webelement.WebElement (session=\"ac6178cede89e3274e21a3f0a4941e1b\", element=\"8de5799a-71ef-4a98-89fe-ad796a6f28f3\")>,\n",
       " <selenium.webdriver.remote.webelement.WebElement (session=\"ac6178cede89e3274e21a3f0a4941e1b\", element=\"c13be976-4d91-4324-b606-17e18a297cd8\")>,\n",
       " <selenium.webdriver.remote.webelement.WebElement (session=\"ac6178cede89e3274e21a3f0a4941e1b\", element=\"0aa836e4-70dd-457d-a213-06514bb9ea3a\")>,\n",
       " <selenium.webdriver.remote.webelement.WebElement (session=\"ac6178cede89e3274e21a3f0a4941e1b\", element=\"f95c796f-fb79-4203-b4f3-272c14b66f21\")>,\n",
       " <selenium.webdriver.remote.webelement.WebElement (session=\"ac6178cede89e3274e21a3f0a4941e1b\", element=\"2b7fa2c4-77a4-410b-be0f-fbe7deda4b80\")>,\n",
       " <selenium.webdriver.remote.webelement.WebElement (session=\"ac6178cede89e3274e21a3f0a4941e1b\", element=\"5a6cb10d-e958-4a60-9444-b3d2b0dcdb0f\")>,\n",
       " <selenium.webdriver.remote.webelement.WebElement (session=\"ac6178cede89e3274e21a3f0a4941e1b\", element=\"9b5c009a-987b-4696-8604-b77d0fdde17e\")>,\n",
       " <selenium.webdriver.remote.webelement.WebElement (session=\"ac6178cede89e3274e21a3f0a4941e1b\", element=\"6dcf3c08-4821-4cdf-b981-6b4c2a9222c8\")>,\n",
       " <selenium.webdriver.remote.webelement.WebElement (session=\"ac6178cede89e3274e21a3f0a4941e1b\", element=\"92e5ba2c-320b-48fa-abc8-5b3b7ac2f52c\")>]"
      ]
     },
     "execution_count": 15,
     "metadata": {},
     "output_type": "execute_result"
    }
   ],
   "source": [
    "loc=driver.find_elements_by_xpath(\"//li[@class='fleft grey-text br2 placeHolderLi location']/span\")\n",
    "loc=loc[0:10]\n",
    "loc"
   ]
  },
  {
   "cell_type": "code",
   "execution_count": 16,
   "id": "6502fa74",
   "metadata": {},
   "outputs": [
    {
     "data": {
      "text/plain": [
       "['Bangalore/Bengaluru',\n",
       " 'Bangalore/Bengaluru',\n",
       " 'Bangalore/Bengaluru',\n",
       " 'Bangalore/Bengaluru',\n",
       " 'Bangalore/Bengaluru',\n",
       " 'Bangalore/Bengaluru',\n",
       " 'Bangalore/Bengaluru',\n",
       " 'Bangalore/Bengaluru',\n",
       " 'Bangalore/Bengaluru',\n",
       " 'Bangalore/Bengaluru, Delhi / NCR, Mumbai (All Areas)']"
      ]
     },
     "execution_count": 16,
     "metadata": {},
     "output_type": "execute_result"
    }
   ],
   "source": [
    "job_loc=[]\n",
    "for i in loc:\n",
    "    job_loc.append(i.text)\n",
    "job_loc"
   ]
  },
  {
   "cell_type": "code",
   "execution_count": 17,
   "id": "bdc10cda",
   "metadata": {},
   "outputs": [
    {
     "data": {
      "text/plain": [
       "[<selenium.webdriver.remote.webelement.WebElement (session=\"ac6178cede89e3274e21a3f0a4941e1b\", element=\"c1fe96ce-6bcd-4299-a4fc-6a4e1d3cfe38\")>,\n",
       " <selenium.webdriver.remote.webelement.WebElement (session=\"ac6178cede89e3274e21a3f0a4941e1b\", element=\"47fcad79-4f36-420b-8b7f-cb382a58abe3\")>,\n",
       " <selenium.webdriver.remote.webelement.WebElement (session=\"ac6178cede89e3274e21a3f0a4941e1b\", element=\"6a36708c-d89a-4f0f-a368-3e48daa22203\")>,\n",
       " <selenium.webdriver.remote.webelement.WebElement (session=\"ac6178cede89e3274e21a3f0a4941e1b\", element=\"8639d057-d7f1-4a7d-99c6-1bc0b2403b3f\")>,\n",
       " <selenium.webdriver.remote.webelement.WebElement (session=\"ac6178cede89e3274e21a3f0a4941e1b\", element=\"ceb1657d-d394-4c92-94ed-0b7fd620334d\")>,\n",
       " <selenium.webdriver.remote.webelement.WebElement (session=\"ac6178cede89e3274e21a3f0a4941e1b\", element=\"c585a00a-6959-414c-a26e-c533aa9cbf8c\")>,\n",
       " <selenium.webdriver.remote.webelement.WebElement (session=\"ac6178cede89e3274e21a3f0a4941e1b\", element=\"017883d2-a1dc-433a-b4d6-063e489abfcb\")>,\n",
       " <selenium.webdriver.remote.webelement.WebElement (session=\"ac6178cede89e3274e21a3f0a4941e1b\", element=\"a77c0135-8e2a-47d9-91bb-09a5ab8c8bd8\")>,\n",
       " <selenium.webdriver.remote.webelement.WebElement (session=\"ac6178cede89e3274e21a3f0a4941e1b\", element=\"4264e388-9d32-4f6e-80dd-6d946a4348c5\")>,\n",
       " <selenium.webdriver.remote.webelement.WebElement (session=\"ac6178cede89e3274e21a3f0a4941e1b\", element=\"2fdc52cb-585e-483c-a491-a5167b896892\")>]"
      ]
     },
     "execution_count": 17,
     "metadata": {},
     "output_type": "execute_result"
    }
   ],
   "source": [
    "exp_tags = driver.find_elements_by_xpath(\"//li[@class='fleft grey-text br2 placeHolderLi experience']/span\")\n",
    "exp_tags=exp_tags[0:10]\n",
    "exp_tags"
   ]
  },
  {
   "cell_type": "markdown",
   "id": "f1fbcbec",
   "metadata": {},
   "source": []
  },
  {
   "cell_type": "code",
   "execution_count": 18,
   "id": "b02cd19a",
   "metadata": {},
   "outputs": [
    {
     "data": {
      "text/plain": [
       "['2-5 Yrs',\n",
       " '0-1 Yrs',\n",
       " '3-6 Yrs',\n",
       " '3-6 Yrs',\n",
       " '2-6 Yrs',\n",
       " '2-6 Yrs',\n",
       " '3-8 Yrs',\n",
       " '2-4 Yrs',\n",
       " '7-10 Yrs',\n",
       " '5-10 Yrs']"
      ]
     },
     "execution_count": 18,
     "metadata": {},
     "output_type": "execute_result"
    }
   ],
   "source": [
    "for i in exp_tags:\n",
    "    exp.append(i.text)\n",
    "exp"
   ]
  },
  {
   "cell_type": "code",
   "execution_count": 19,
   "id": "c299abd8",
   "metadata": {},
   "outputs": [
    {
     "data": {
      "text/plain": [
       "[<selenium.webdriver.remote.webelement.WebElement (session=\"ac6178cede89e3274e21a3f0a4941e1b\", element=\"da344e7a-f283-4ac0-8e08-fdbad2ff9ac1\")>,\n",
       " <selenium.webdriver.remote.webelement.WebElement (session=\"ac6178cede89e3274e21a3f0a4941e1b\", element=\"f13ae395-70e9-41b3-a85c-8efb219c46eb\")>,\n",
       " <selenium.webdriver.remote.webelement.WebElement (session=\"ac6178cede89e3274e21a3f0a4941e1b\", element=\"f21233c1-faef-4f50-b1f3-32d95526e532\")>,\n",
       " <selenium.webdriver.remote.webelement.WebElement (session=\"ac6178cede89e3274e21a3f0a4941e1b\", element=\"5f001742-c1b1-41d8-98bb-1aed8aa8ab8b\")>,\n",
       " <selenium.webdriver.remote.webelement.WebElement (session=\"ac6178cede89e3274e21a3f0a4941e1b\", element=\"09c98dae-58fb-4b9a-8af0-af40cdc6c688\")>,\n",
       " <selenium.webdriver.remote.webelement.WebElement (session=\"ac6178cede89e3274e21a3f0a4941e1b\", element=\"9e760431-6558-4dc4-bc3f-1fa97f7419b9\")>,\n",
       " <selenium.webdriver.remote.webelement.WebElement (session=\"ac6178cede89e3274e21a3f0a4941e1b\", element=\"3bb58ad6-ce8a-473f-aa03-9068fa62fbdf\")>,\n",
       " <selenium.webdriver.remote.webelement.WebElement (session=\"ac6178cede89e3274e21a3f0a4941e1b\", element=\"bcd4f5f8-91b7-40ee-b509-1b38d4a04a01\")>,\n",
       " <selenium.webdriver.remote.webelement.WebElement (session=\"ac6178cede89e3274e21a3f0a4941e1b\", element=\"02d32d65-29a9-4b91-97db-1e1a6ce311e9\")>,\n",
       " <selenium.webdriver.remote.webelement.WebElement (session=\"ac6178cede89e3274e21a3f0a4941e1b\", element=\"542d764c-851e-480a-a57e-5cf7f9410e27\")>]"
      ]
     },
     "execution_count": 19,
     "metadata": {},
     "output_type": "execute_result"
    }
   ],
   "source": [
    "name=driver.find_elements_by_xpath(\"//div[@class='mt-7 companyInfo subheading lh16']/a[1]\")\n",
    "name = name[0:10]\n",
    "name"
   ]
  },
  {
   "cell_type": "code",
   "execution_count": 20,
   "id": "9b52273a",
   "metadata": {},
   "outputs": [
    {
     "data": {
      "text/plain": [
       "['NXP Semiconductors',\n",
       " 'EY',\n",
       " 'Intel',\n",
       " 'Intel',\n",
       " 'Siemens',\n",
       " 'Rise Finconnect Private Limited',\n",
       " 'METRO Cash & Carry',\n",
       " 'Cigna TTK',\n",
       " 'Genpact',\n",
       " 'Imaginative Brains LLP']"
      ]
     },
     "execution_count": 20,
     "metadata": {},
     "output_type": "execute_result"
    }
   ],
   "source": [
    "comp_name=[]\n",
    "for i in name:\n",
    "    comp_name.append(i.text)\n",
    "comp_name"
   ]
  },
  {
   "cell_type": "code",
   "execution_count": 21,
   "id": "3bab8835",
   "metadata": {},
   "outputs": [
    {
     "data": {
      "text/html": [
       "<div>\n",
       "<style scoped>\n",
       "    .dataframe tbody tr th:only-of-type {\n",
       "        vertical-align: middle;\n",
       "    }\n",
       "\n",
       "    .dataframe tbody tr th {\n",
       "        vertical-align: top;\n",
       "    }\n",
       "\n",
       "    .dataframe thead th {\n",
       "        text-align: right;\n",
       "    }\n",
       "</style>\n",
       "<table border=\"1\" class=\"dataframe\">\n",
       "  <thead>\n",
       "    <tr style=\"text-align: right;\">\n",
       "      <th></th>\n",
       "      <th>Job-Title</th>\n",
       "      <th>Job-Location</th>\n",
       "      <th>Company_Name</th>\n",
       "      <th>Experience_reqd</th>\n",
       "    </tr>\n",
       "  </thead>\n",
       "  <tbody>\n",
       "    <tr>\n",
       "      <th>0</th>\n",
       "      <td>Business Data Analyst</td>\n",
       "      <td>Bangalore/Bengaluru</td>\n",
       "      <td>NXP Semiconductors</td>\n",
       "      <td>2-5 Yrs</td>\n",
       "    </tr>\n",
       "    <tr>\n",
       "      <th>1</th>\n",
       "      <td>EY GDS Data Analyst-Finland based project</td>\n",
       "      <td>Bangalore/Bengaluru</td>\n",
       "      <td>EY</td>\n",
       "      <td>0-1 Yrs</td>\n",
       "    </tr>\n",
       "    <tr>\n",
       "      <th>2</th>\n",
       "      <td>Data Analyst - Data and Analytics</td>\n",
       "      <td>Bangalore/Bengaluru</td>\n",
       "      <td>Intel</td>\n",
       "      <td>3-6 Yrs</td>\n",
       "    </tr>\n",
       "    <tr>\n",
       "      <th>3</th>\n",
       "      <td>Data Analyst - Data and Analytics</td>\n",
       "      <td>Bangalore/Bengaluru</td>\n",
       "      <td>Intel</td>\n",
       "      <td>3-6 Yrs</td>\n",
       "    </tr>\n",
       "    <tr>\n",
       "      <th>4</th>\n",
       "      <td>Data Analyst (CSD)</td>\n",
       "      <td>Bangalore/Bengaluru</td>\n",
       "      <td>Siemens</td>\n",
       "      <td>2-6 Yrs</td>\n",
       "    </tr>\n",
       "    <tr>\n",
       "      <th>5</th>\n",
       "      <td>Data Analyst - Data Science, 3 To 5 Years</td>\n",
       "      <td>Bangalore/Bengaluru</td>\n",
       "      <td>Rise Finconnect Private Limited</td>\n",
       "      <td>2-6 Yrs</td>\n",
       "    </tr>\n",
       "    <tr>\n",
       "      <th>6</th>\n",
       "      <td>Data Analyst / Business Analyst</td>\n",
       "      <td>Bangalore/Bengaluru</td>\n",
       "      <td>METRO Cash &amp; Carry</td>\n",
       "      <td>3-8 Yrs</td>\n",
       "    </tr>\n",
       "    <tr>\n",
       "      <th>7</th>\n",
       "      <td>Data Analyst</td>\n",
       "      <td>Bangalore/Bengaluru</td>\n",
       "      <td>Cigna TTK</td>\n",
       "      <td>2-4 Yrs</td>\n",
       "    </tr>\n",
       "    <tr>\n",
       "      <th>8</th>\n",
       "      <td>SAS/SQL - Healthcare Data Analyst - Bangalore</td>\n",
       "      <td>Bangalore/Bengaluru</td>\n",
       "      <td>Genpact</td>\n",
       "      <td>7-10 Yrs</td>\n",
       "    </tr>\n",
       "    <tr>\n",
       "      <th>9</th>\n",
       "      <td>Business &amp; Data Analyst - Alteryx (London)</td>\n",
       "      <td>Bangalore/Bengaluru, Delhi / NCR, Mumbai (All ...</td>\n",
       "      <td>Imaginative Brains LLP</td>\n",
       "      <td>5-10 Yrs</td>\n",
       "    </tr>\n",
       "  </tbody>\n",
       "</table>\n",
       "</div>"
      ],
      "text/plain": [
       "                                       Job-Title  \\\n",
       "0                          Business Data Analyst   \n",
       "1      EY GDS Data Analyst-Finland based project   \n",
       "2              Data Analyst - Data and Analytics   \n",
       "3              Data Analyst - Data and Analytics   \n",
       "4                             Data Analyst (CSD)   \n",
       "5      Data Analyst - Data Science, 3 To 5 Years   \n",
       "6                Data Analyst / Business Analyst   \n",
       "7                                   Data Analyst   \n",
       "8  SAS/SQL - Healthcare Data Analyst - Bangalore   \n",
       "9     Business & Data Analyst - Alteryx (London)   \n",
       "\n",
       "                                        Job-Location  \\\n",
       "0                                Bangalore/Bengaluru   \n",
       "1                                Bangalore/Bengaluru   \n",
       "2                                Bangalore/Bengaluru   \n",
       "3                                Bangalore/Bengaluru   \n",
       "4                                Bangalore/Bengaluru   \n",
       "5                                Bangalore/Bengaluru   \n",
       "6                                Bangalore/Bengaluru   \n",
       "7                                Bangalore/Bengaluru   \n",
       "8                                Bangalore/Bengaluru   \n",
       "9  Bangalore/Bengaluru, Delhi / NCR, Mumbai (All ...   \n",
       "\n",
       "                      Company_Name Experience_reqd  \n",
       "0               NXP Semiconductors         2-5 Yrs  \n",
       "1                               EY         0-1 Yrs  \n",
       "2                            Intel         3-6 Yrs  \n",
       "3                            Intel         3-6 Yrs  \n",
       "4                          Siemens         2-6 Yrs  \n",
       "5  Rise Finconnect Private Limited         2-6 Yrs  \n",
       "6               METRO Cash & Carry         3-8 Yrs  \n",
       "7                        Cigna TTK         2-4 Yrs  \n",
       "8                          Genpact        7-10 Yrs  \n",
       "9           Imaginative Brains LLP        5-10 Yrs  "
      ]
     },
     "execution_count": 21,
     "metadata": {},
     "output_type": "execute_result"
    }
   ],
   "source": [
    "df1= pd.DataFrame({'Job-Title':job_title,'Job-Location':job_loc,'Company_Name':comp_name,'Experience_reqd':exp})\n",
    "df1"
   ]
  },
  {
   "cell_type": "code",
   "execution_count": 22,
   "id": "74c18a9f",
   "metadata": {},
   "outputs": [],
   "source": [
    "driver.close()"
   ]
  },
  {
   "cell_type": "code",
   "execution_count": 23,
   "id": "fca46959",
   "metadata": {},
   "outputs": [],
   "source": [
    "time.sleep(5)"
   ]
  },
  {
   "cell_type": "code",
   "execution_count": 24,
   "id": "eb85826b",
   "metadata": {},
   "outputs": [],
   "source": [
    "# Answer 1 completed."
   ]
  },
  {
   "cell_type": "code",
   "execution_count": 25,
   "id": "de1ed069",
   "metadata": {},
   "outputs": [],
   "source": [
    "# Ans2). To scrape data for “Data Scientist” Job position in “Bangalore” location."
   ]
  },
  {
   "cell_type": "code",
   "execution_count": 26,
   "id": "3cd873b5",
   "metadata": {},
   "outputs": [],
   "source": [
    "driver=webdriver.Chrome(r\"C:\\Web Driver\\chromedriver.exe\")"
   ]
  },
  {
   "cell_type": "code",
   "execution_count": 27,
   "id": "63f7d4f2",
   "metadata": {},
   "outputs": [],
   "source": [
    "driver.get(r\"https://www.naukri.com/\")"
   ]
  },
  {
   "cell_type": "code",
   "execution_count": 28,
   "id": "ce2d7e61",
   "metadata": {},
   "outputs": [],
   "source": [
    "search_desig2 = driver.find_element_by_class_name('suggestor-input')"
   ]
  },
  {
   "cell_type": "code",
   "execution_count": 29,
   "id": "020de238",
   "metadata": {},
   "outputs": [],
   "source": [
    "search_desig2.send_keys('Data Scientist')"
   ]
  },
  {
   "cell_type": "code",
   "execution_count": 30,
   "id": "370ba933",
   "metadata": {},
   "outputs": [],
   "source": [
    "search_loc2 = driver.find_element_by_xpath(\"/html/body/div/div[2]/div[3]/div/div/div[5]/div/div/div/input\")"
   ]
  },
  {
   "cell_type": "code",
   "execution_count": 31,
   "id": "1e58a190",
   "metadata": {},
   "outputs": [],
   "source": [
    "search_loc2.send_keys(\"Bangalore\")"
   ]
  },
  {
   "cell_type": "code",
   "execution_count": 32,
   "id": "437c0d6f",
   "metadata": {},
   "outputs": [],
   "source": [
    "search_button2=driver.find_element_by_class_name(\"qsbSubmit\")"
   ]
  },
  {
   "cell_type": "code",
   "execution_count": 33,
   "id": "ccd97e02",
   "metadata": {
    "scrolled": true
   },
   "outputs": [],
   "source": [
    "search_button2.click()"
   ]
  },
  {
   "cell_type": "code",
   "execution_count": 34,
   "id": "e7f42bc5",
   "metadata": {},
   "outputs": [],
   "source": [
    "job_title2=[]\n",
    "job_loc2=[]\n",
    "comp_name2=[]"
   ]
  },
  {
   "cell_type": "code",
   "execution_count": 35,
   "id": "20b008f5",
   "metadata": {},
   "outputs": [],
   "source": [
    "title=driver.find_elements_by_xpath(\"//a[@class='title fw500 ellipsis']\")\n",
    "title=title[0:10]"
   ]
  },
  {
   "cell_type": "code",
   "execution_count": 36,
   "id": "5bbd8b5a",
   "metadata": {},
   "outputs": [
    {
     "data": {
      "text/plain": [
       "['Senior Data Scientist',\n",
       " 'Data Science - Engineering Manager',\n",
       " 'AI Technologist Vacancy',\n",
       " 'Job Opening with Wipro For Data Scientist position',\n",
       " 'DATA Scientist with Fraud Analytics Experience',\n",
       " 'Data Scientist',\n",
       " 'Data Scientist',\n",
       " 'Data Scientist',\n",
       " 'Data Scientist',\n",
       " 'Principal - Data Scientist']"
      ]
     },
     "execution_count": 36,
     "metadata": {},
     "output_type": "execute_result"
    }
   ],
   "source": [
    "for i in title:\n",
    "    job_title2.append(i.text)\n",
    "job_title2"
   ]
  },
  {
   "cell_type": "code",
   "execution_count": 37,
   "id": "ac866244",
   "metadata": {},
   "outputs": [],
   "source": [
    "loc2=driver.find_elements_by_xpath(\"//li[@class='fleft grey-text br2 placeHolderLi location']/span\")\n",
    "loc2=loc2[0:10]"
   ]
  },
  {
   "cell_type": "code",
   "execution_count": 38,
   "id": "e5cfaaea",
   "metadata": {},
   "outputs": [
    {
     "data": {
      "text/plain": [
       "['Mumbai, Bangalore/Bengaluru',\n",
       " 'Noida, Mumbai, Bangalore/Bengaluru',\n",
       " 'Kolkata, Hyderabad/Secunderabad, Pune, Ahmedabad, Chennai, Bangalore/Bengaluru, Delhi / NCR, Mumbai (All Areas)',\n",
       " 'Kolkata, Hyderabad/Secunderabad, Chennai, Bangalore/Bengaluru, Delhi / NCR, Mumbai (All Areas)',\n",
       " 'Bangalore/Bengaluru',\n",
       " 'Bangalore/Bengaluru',\n",
       " 'Bangalore/Bengaluru',\n",
       " 'Bangalore/Bengaluru',\n",
       " 'Bangalore/Bengaluru',\n",
       " 'Bangalore/Bengaluru']"
      ]
     },
     "execution_count": 38,
     "metadata": {},
     "output_type": "execute_result"
    }
   ],
   "source": [
    "job_loc2=[]\n",
    "for i in loc2:\n",
    "    job_loc2.append(i.text)\n",
    "job_loc2"
   ]
  },
  {
   "cell_type": "code",
   "execution_count": 39,
   "id": "0a5f296a",
   "metadata": {},
   "outputs": [],
   "source": [
    "name2 = driver.find_elements_by_xpath(\"//div[@class='mt-7 companyInfo subheading lh16']/a[1]\")\n",
    "name2=name2[0:10]"
   ]
  },
  {
   "cell_type": "code",
   "execution_count": 40,
   "id": "ec9d0936",
   "metadata": {},
   "outputs": [
    {
     "data": {
      "text/plain": [
       "['Baker Hughes',\n",
       " 'Paytm',\n",
       " 'Wipro',\n",
       " 'Wipro',\n",
       " 'Concentrix Daksh Services',\n",
       " 'Applied Materials',\n",
       " 'Applied Materials',\n",
       " 'Applied Materials',\n",
       " 'Applied Materials',\n",
       " 'Schneider Electric']"
      ]
     },
     "execution_count": 40,
     "metadata": {},
     "output_type": "execute_result"
    }
   ],
   "source": [
    "for i in name2:\n",
    "    comp_name2.append(i.text)\n",
    "comp_name2"
   ]
  },
  {
   "cell_type": "code",
   "execution_count": 41,
   "id": "a79cfc45",
   "metadata": {},
   "outputs": [
    {
     "data": {
      "text/html": [
       "<div>\n",
       "<style scoped>\n",
       "    .dataframe tbody tr th:only-of-type {\n",
       "        vertical-align: middle;\n",
       "    }\n",
       "\n",
       "    .dataframe tbody tr th {\n",
       "        vertical-align: top;\n",
       "    }\n",
       "\n",
       "    .dataframe thead th {\n",
       "        text-align: right;\n",
       "    }\n",
       "</style>\n",
       "<table border=\"1\" class=\"dataframe\">\n",
       "  <thead>\n",
       "    <tr style=\"text-align: right;\">\n",
       "      <th></th>\n",
       "      <th>Job-Title</th>\n",
       "      <th>Job-Location</th>\n",
       "      <th>Company_Name</th>\n",
       "    </tr>\n",
       "  </thead>\n",
       "  <tbody>\n",
       "    <tr>\n",
       "      <th>0</th>\n",
       "      <td>Senior Data Scientist</td>\n",
       "      <td>Mumbai, Bangalore/Bengaluru</td>\n",
       "      <td>Baker Hughes</td>\n",
       "    </tr>\n",
       "    <tr>\n",
       "      <th>1</th>\n",
       "      <td>Data Science - Engineering Manager</td>\n",
       "      <td>Noida, Mumbai, Bangalore/Bengaluru</td>\n",
       "      <td>Paytm</td>\n",
       "    </tr>\n",
       "    <tr>\n",
       "      <th>2</th>\n",
       "      <td>AI Technologist Vacancy</td>\n",
       "      <td>Kolkata, Hyderabad/Secunderabad, Pune, Ahmedab...</td>\n",
       "      <td>Wipro</td>\n",
       "    </tr>\n",
       "    <tr>\n",
       "      <th>3</th>\n",
       "      <td>Job Opening with Wipro For Data Scientist posi...</td>\n",
       "      <td>Kolkata, Hyderabad/Secunderabad, Chennai, Bang...</td>\n",
       "      <td>Wipro</td>\n",
       "    </tr>\n",
       "    <tr>\n",
       "      <th>4</th>\n",
       "      <td>DATA Scientist with Fraud Analytics Experience</td>\n",
       "      <td>Bangalore/Bengaluru</td>\n",
       "      <td>Concentrix Daksh Services</td>\n",
       "    </tr>\n",
       "    <tr>\n",
       "      <th>5</th>\n",
       "      <td>Data Scientist</td>\n",
       "      <td>Bangalore/Bengaluru</td>\n",
       "      <td>Applied Materials</td>\n",
       "    </tr>\n",
       "    <tr>\n",
       "      <th>6</th>\n",
       "      <td>Data Scientist</td>\n",
       "      <td>Bangalore/Bengaluru</td>\n",
       "      <td>Applied Materials</td>\n",
       "    </tr>\n",
       "    <tr>\n",
       "      <th>7</th>\n",
       "      <td>Data Scientist</td>\n",
       "      <td>Bangalore/Bengaluru</td>\n",
       "      <td>Applied Materials</td>\n",
       "    </tr>\n",
       "    <tr>\n",
       "      <th>8</th>\n",
       "      <td>Data Scientist</td>\n",
       "      <td>Bangalore/Bengaluru</td>\n",
       "      <td>Applied Materials</td>\n",
       "    </tr>\n",
       "    <tr>\n",
       "      <th>9</th>\n",
       "      <td>Principal - Data Scientist</td>\n",
       "      <td>Bangalore/Bengaluru</td>\n",
       "      <td>Schneider Electric</td>\n",
       "    </tr>\n",
       "  </tbody>\n",
       "</table>\n",
       "</div>"
      ],
      "text/plain": [
       "                                           Job-Title  \\\n",
       "0                              Senior Data Scientist   \n",
       "1                 Data Science - Engineering Manager   \n",
       "2                            AI Technologist Vacancy   \n",
       "3  Job Opening with Wipro For Data Scientist posi...   \n",
       "4     DATA Scientist with Fraud Analytics Experience   \n",
       "5                                     Data Scientist   \n",
       "6                                     Data Scientist   \n",
       "7                                     Data Scientist   \n",
       "8                                     Data Scientist   \n",
       "9                         Principal - Data Scientist   \n",
       "\n",
       "                                        Job-Location  \\\n",
       "0                        Mumbai, Bangalore/Bengaluru   \n",
       "1                 Noida, Mumbai, Bangalore/Bengaluru   \n",
       "2  Kolkata, Hyderabad/Secunderabad, Pune, Ahmedab...   \n",
       "3  Kolkata, Hyderabad/Secunderabad, Chennai, Bang...   \n",
       "4                                Bangalore/Bengaluru   \n",
       "5                                Bangalore/Bengaluru   \n",
       "6                                Bangalore/Bengaluru   \n",
       "7                                Bangalore/Bengaluru   \n",
       "8                                Bangalore/Bengaluru   \n",
       "9                                Bangalore/Bengaluru   \n",
       "\n",
       "                Company_Name  \n",
       "0               Baker Hughes  \n",
       "1                      Paytm  \n",
       "2                      Wipro  \n",
       "3                      Wipro  \n",
       "4  Concentrix Daksh Services  \n",
       "5          Applied Materials  \n",
       "6          Applied Materials  \n",
       "7          Applied Materials  \n",
       "8          Applied Materials  \n",
       "9         Schneider Electric  "
      ]
     },
     "execution_count": 41,
     "metadata": {},
     "output_type": "execute_result"
    }
   ],
   "source": [
    "df2= pd.DataFrame({'Job-Title':job_title2,'Job-Location':job_loc2,'Company_Name':comp_name2})\n",
    "df2"
   ]
  },
  {
   "cell_type": "code",
   "execution_count": 42,
   "id": "48742fbb",
   "metadata": {},
   "outputs": [],
   "source": [
    "time.sleep(5)"
   ]
  },
  {
   "cell_type": "code",
   "execution_count": 43,
   "id": "8fa09689",
   "metadata": {},
   "outputs": [],
   "source": [
    "# Answer 2 completed."
   ]
  },
  {
   "cell_type": "code",
   "execution_count": 44,
   "id": "f026c1a7",
   "metadata": {},
   "outputs": [],
   "source": [
    "# Answer 3. To scrape data for “Data Scientist” designation for first 10 job results.The location filter to be used is “Delhi/NCR”. The salary filter to be used is “3-6” lakhs"
   ]
  },
  {
   "cell_type": "code",
   "execution_count": 45,
   "id": "9680e8b6",
   "metadata": {},
   "outputs": [],
   "source": [
    "driver.get(r\"https://www.naukri.com/\")"
   ]
  },
  {
   "cell_type": "code",
   "execution_count": 46,
   "id": "5b1d3595",
   "metadata": {},
   "outputs": [],
   "source": [
    "search_desig3 = driver.find_element_by_class_name('suggestor-input')\n",
    "search_desig3.send_keys(\"Data Scientist\")"
   ]
  },
  {
   "cell_type": "code",
   "execution_count": 47,
   "id": "8910aaa5",
   "metadata": {},
   "outputs": [],
   "source": [
    "search_button3=driver.find_element_by_class_name(\"qsbSubmit\")"
   ]
  },
  {
   "cell_type": "code",
   "execution_count": 48,
   "id": "afdea377",
   "metadata": {},
   "outputs": [],
   "source": [
    "search_button3.click()"
   ]
  },
  {
   "cell_type": "code",
   "execution_count": 51,
   "id": "906fcda9",
   "metadata": {},
   "outputs": [],
   "source": [
    "loc3=driver.find_element_by_xpath(\"/html/body/div[1]/div[3]/div[2]/section[1]/div[2]/div[5]/div[2]/div[3]/label/p/span[1]\")\n",
    "loc3.click()"
   ]
  },
  {
   "cell_type": "code",
   "execution_count": 52,
   "id": "922b5178",
   "metadata": {},
   "outputs": [],
   "source": [
    "sal3=driver.find_element_by_xpath(\"/html/body/div[1]/div[3]/div[2]/section[1]/div[2]/div[1]/div[2]/div[2]/label/i\")\n",
    "sal3.click()"
   ]
  },
  {
   "cell_type": "code",
   "execution_count": 66,
   "id": "ec4eacae",
   "metadata": {},
   "outputs": [],
   "source": [
    "job_title3=[]\n",
    "title3=driver.find_elements_by_xpath(\"//a[@class='title fw500 ellipsis']\")\n",
    "title3=title3[0:10]"
   ]
  },
  {
   "cell_type": "code",
   "execution_count": 67,
   "id": "5e5aea2b",
   "metadata": {},
   "outputs": [
    {
     "data": {
      "text/plain": [
       "['Immediate joiner: Camunda with Java | 6-8 Yrs | Multiple locations',\n",
       " 'Java - Microservices Developer',\n",
       " 'C2H with Top MNC For Java developer',\n",
       " 'Hiring For Node JS Developer',\n",
       " 'Virtual Drive For Java Developer @Conduent Exp :4+yrs',\n",
       " 'Node Js Backend Developer',\n",
       " 'Java Microservice Developer',\n",
       " 'Cognizant | Inviting Applications For SAP ABAP Consultant',\n",
       " 'Immediate opening For Java Microservices - Pan India',\n",
       " 'Data Science - Engineering Manager']"
      ]
     },
     "execution_count": 67,
     "metadata": {},
     "output_type": "execute_result"
    }
   ],
   "source": [
    "for i in title3:\n",
    "    job_title3.append(i.text)\n",
    "job_title3"
   ]
  },
  {
   "cell_type": "code",
   "execution_count": 64,
   "id": "11c52725",
   "metadata": {},
   "outputs": [],
   "source": [
    "loc3 = driver.find_elements_by_xpath(\"//li[@class='fleft grey-text br2 placeHolderLi location']/span\")\n",
    "loc3=loc3[0:10]"
   ]
  },
  {
   "cell_type": "code",
   "execution_count": 68,
   "id": "bb761253",
   "metadata": {},
   "outputs": [
    {
     "data": {
      "text/plain": [
       "['Kochi/Cochin, Kolkata, Hyderabad/Secunderabad, Pune, Chennai, Bangalore/Bengaluru, Delhi / NCR, Trivandrum/Thiruvananthapuram, Mumbai (All Areas)',\n",
       " 'Noida, Hyderabad/Secunderabad, Pune, Chennai, Bangalore/Bengaluru, Mumbai (All Areas)',\n",
       " 'Hyderabad/Secunderabad, Pune, Chennai, Bangalore/Bengaluru, Delhi / NCR, Mumbai (All Areas)',\n",
       " 'Kolkata, Mumbai, Hyderabad/Secunderabad, Pune, Ahmedabad, Chennai, Bangalore/Bengaluru, Delhi / NCR, Mumbai (All Areas)',\n",
       " 'Kochi/Cochin, Kolkata, Hyderabad/Secunderabad, Pune, Ahmedabad, Chennai, Bangalore/Bengaluru, Delhi / NCR, Mumbai (All Areas)',\n",
       " 'Kolkata, Indore, Hyderabad/Secunderabad, Pune, Chennai, Bangalore/Bengaluru, Delhi / NCR, Mumbai (All Areas), Pan India',\n",
       " 'Kolkata, Hyderabad/Secunderabad, Pune, Ahmedabad, Chennai, Bangalore/Bengaluru, Delhi / NCR, Mumbai (All Areas)',\n",
       " 'Kochi/Cochin, Kolkata, Mumbai, Hyderabad/Secunderabad, Pune, Chennai, Gurgaon/Gurugram, Coimbatore, Bangalore/Bengaluru',\n",
       " 'Hyderabad/Secunderabad, Pune, Chennai, Bangalore/Bengaluru, Delhi / NCR',\n",
       " 'Noida, Mumbai, Bangalore/Bengaluru']"
      ]
     },
     "execution_count": 68,
     "metadata": {},
     "output_type": "execute_result"
    }
   ],
   "source": [
    "job_loc3=[]\n",
    "for i in loc3:\n",
    "    job_loc3.append(i.text)\n",
    "job_loc3"
   ]
  },
  {
   "cell_type": "code",
   "execution_count": 69,
   "id": "9d84d5ce",
   "metadata": {},
   "outputs": [],
   "source": [
    "name3=driver.find_elements_by_xpath(\"//div[@class='mt-7 companyInfo subheading lh16']/a[1]\")\n",
    "name3=name3[0:10]"
   ]
  },
  {
   "cell_type": "code",
   "execution_count": 70,
   "id": "a932a939",
   "metadata": {},
   "outputs": [
    {
     "data": {
      "text/plain": [
       "['EY',\n",
       " 'Birlasoft',\n",
       " 'Teamlease Servcies limited',\n",
       " 'PwC',\n",
       " 'Conduent',\n",
       " 'TATA CONSULTANCY SERVICES (TCS)',\n",
       " 'TATA CONSULTANCY SERVICES (TCS)',\n",
       " 'Cognizant',\n",
       " 'HCL Technologies',\n",
       " 'Paytm']"
      ]
     },
     "execution_count": 70,
     "metadata": {},
     "output_type": "execute_result"
    }
   ],
   "source": [
    "comp_name3= []\n",
    "for i in name3:\n",
    "    comp_name3.append(i.text)\n",
    "comp_name3"
   ]
  },
  {
   "cell_type": "code",
   "execution_count": 71,
   "id": "8ff19d50",
   "metadata": {},
   "outputs": [],
   "source": [
    "exp_tags3=driver.find_elements_by_xpath(\"//li[@class='fleft grey-text br2 placeHolderLi experience']/span\")\n",
    "exp_tags3=exp_tags3[0:10]"
   ]
  },
  {
   "cell_type": "code",
   "execution_count": 72,
   "id": "d01154ce",
   "metadata": {},
   "outputs": [
    {
     "data": {
      "text/plain": [
       "['6-8 Yrs',\n",
       " '3-8 Yrs',\n",
       " '3-8 Yrs',\n",
       " '5-9 Yrs',\n",
       " '4-6 Yrs',\n",
       " '6-11 Yrs',\n",
       " '4-9 Yrs',\n",
       " '6-9 Yrs',\n",
       " '5-9 Yrs',\n",
       " '9-13 Yrs']"
      ]
     },
     "execution_count": 72,
     "metadata": {},
     "output_type": "execute_result"
    }
   ],
   "source": [
    "exp3=[]\n",
    "for i in exp_tags3:\n",
    "    exp3.append(i.text)\n",
    "exp3"
   ]
  },
  {
   "cell_type": "code",
   "execution_count": 73,
   "id": "b667eaef",
   "metadata": {},
   "outputs": [
    {
     "data": {
      "text/html": [
       "<div>\n",
       "<style scoped>\n",
       "    .dataframe tbody tr th:only-of-type {\n",
       "        vertical-align: middle;\n",
       "    }\n",
       "\n",
       "    .dataframe tbody tr th {\n",
       "        vertical-align: top;\n",
       "    }\n",
       "\n",
       "    .dataframe thead th {\n",
       "        text-align: right;\n",
       "    }\n",
       "</style>\n",
       "<table border=\"1\" class=\"dataframe\">\n",
       "  <thead>\n",
       "    <tr style=\"text-align: right;\">\n",
       "      <th></th>\n",
       "      <th>Job-Title</th>\n",
       "      <th>Job-Location</th>\n",
       "      <th>Company_Name</th>\n",
       "      <th>Experience_reqd</th>\n",
       "    </tr>\n",
       "  </thead>\n",
       "  <tbody>\n",
       "    <tr>\n",
       "      <th>0</th>\n",
       "      <td>Immediate joiner: Camunda with Java | 6-8 Yrs ...</td>\n",
       "      <td>Kochi/Cochin, Kolkata, Hyderabad/Secunderabad,...</td>\n",
       "      <td>EY</td>\n",
       "      <td>6-8 Yrs</td>\n",
       "    </tr>\n",
       "    <tr>\n",
       "      <th>1</th>\n",
       "      <td>Java - Microservices Developer</td>\n",
       "      <td>Noida, Hyderabad/Secunderabad, Pune, Chennai, ...</td>\n",
       "      <td>Birlasoft</td>\n",
       "      <td>3-8 Yrs</td>\n",
       "    </tr>\n",
       "    <tr>\n",
       "      <th>2</th>\n",
       "      <td>C2H with Top MNC For Java developer</td>\n",
       "      <td>Hyderabad/Secunderabad, Pune, Chennai, Bangalo...</td>\n",
       "      <td>Teamlease Servcies limited</td>\n",
       "      <td>3-8 Yrs</td>\n",
       "    </tr>\n",
       "    <tr>\n",
       "      <th>3</th>\n",
       "      <td>Hiring For Node JS Developer</td>\n",
       "      <td>Kolkata, Mumbai, Hyderabad/Secunderabad, Pune,...</td>\n",
       "      <td>PwC</td>\n",
       "      <td>5-9 Yrs</td>\n",
       "    </tr>\n",
       "    <tr>\n",
       "      <th>4</th>\n",
       "      <td>Virtual Drive For Java Developer @Conduent Exp...</td>\n",
       "      <td>Kochi/Cochin, Kolkata, Hyderabad/Secunderabad,...</td>\n",
       "      <td>Conduent</td>\n",
       "      <td>4-6 Yrs</td>\n",
       "    </tr>\n",
       "    <tr>\n",
       "      <th>5</th>\n",
       "      <td>Node Js Backend Developer</td>\n",
       "      <td>Kolkata, Indore, Hyderabad/Secunderabad, Pune,...</td>\n",
       "      <td>TATA CONSULTANCY SERVICES (TCS)</td>\n",
       "      <td>6-11 Yrs</td>\n",
       "    </tr>\n",
       "    <tr>\n",
       "      <th>6</th>\n",
       "      <td>Java Microservice Developer</td>\n",
       "      <td>Kolkata, Hyderabad/Secunderabad, Pune, Ahmedab...</td>\n",
       "      <td>TATA CONSULTANCY SERVICES (TCS)</td>\n",
       "      <td>4-9 Yrs</td>\n",
       "    </tr>\n",
       "    <tr>\n",
       "      <th>7</th>\n",
       "      <td>Cognizant | Inviting Applications For SAP ABAP...</td>\n",
       "      <td>Kochi/Cochin, Kolkata, Mumbai, Hyderabad/Secun...</td>\n",
       "      <td>Cognizant</td>\n",
       "      <td>6-9 Yrs</td>\n",
       "    </tr>\n",
       "    <tr>\n",
       "      <th>8</th>\n",
       "      <td>Immediate opening For Java Microservices - Pan...</td>\n",
       "      <td>Hyderabad/Secunderabad, Pune, Chennai, Bangalo...</td>\n",
       "      <td>HCL Technologies</td>\n",
       "      <td>5-9 Yrs</td>\n",
       "    </tr>\n",
       "    <tr>\n",
       "      <th>9</th>\n",
       "      <td>Data Science - Engineering Manager</td>\n",
       "      <td>Noida, Mumbai, Bangalore/Bengaluru</td>\n",
       "      <td>Paytm</td>\n",
       "      <td>9-13 Yrs</td>\n",
       "    </tr>\n",
       "  </tbody>\n",
       "</table>\n",
       "</div>"
      ],
      "text/plain": [
       "                                           Job-Title  \\\n",
       "0  Immediate joiner: Camunda with Java | 6-8 Yrs ...   \n",
       "1                     Java - Microservices Developer   \n",
       "2                C2H with Top MNC For Java developer   \n",
       "3                       Hiring For Node JS Developer   \n",
       "4  Virtual Drive For Java Developer @Conduent Exp...   \n",
       "5                          Node Js Backend Developer   \n",
       "6                        Java Microservice Developer   \n",
       "7  Cognizant | Inviting Applications For SAP ABAP...   \n",
       "8  Immediate opening For Java Microservices - Pan...   \n",
       "9                 Data Science - Engineering Manager   \n",
       "\n",
       "                                        Job-Location  \\\n",
       "0  Kochi/Cochin, Kolkata, Hyderabad/Secunderabad,...   \n",
       "1  Noida, Hyderabad/Secunderabad, Pune, Chennai, ...   \n",
       "2  Hyderabad/Secunderabad, Pune, Chennai, Bangalo...   \n",
       "3  Kolkata, Mumbai, Hyderabad/Secunderabad, Pune,...   \n",
       "4  Kochi/Cochin, Kolkata, Hyderabad/Secunderabad,...   \n",
       "5  Kolkata, Indore, Hyderabad/Secunderabad, Pune,...   \n",
       "6  Kolkata, Hyderabad/Secunderabad, Pune, Ahmedab...   \n",
       "7  Kochi/Cochin, Kolkata, Mumbai, Hyderabad/Secun...   \n",
       "8  Hyderabad/Secunderabad, Pune, Chennai, Bangalo...   \n",
       "9                 Noida, Mumbai, Bangalore/Bengaluru   \n",
       "\n",
       "                      Company_Name Experience_reqd  \n",
       "0                               EY         6-8 Yrs  \n",
       "1                        Birlasoft         3-8 Yrs  \n",
       "2       Teamlease Servcies limited         3-8 Yrs  \n",
       "3                              PwC         5-9 Yrs  \n",
       "4                         Conduent         4-6 Yrs  \n",
       "5  TATA CONSULTANCY SERVICES (TCS)        6-11 Yrs  \n",
       "6  TATA CONSULTANCY SERVICES (TCS)         4-9 Yrs  \n",
       "7                        Cognizant         6-9 Yrs  \n",
       "8                 HCL Technologies         5-9 Yrs  \n",
       "9                            Paytm        9-13 Yrs  "
      ]
     },
     "execution_count": 73,
     "metadata": {},
     "output_type": "execute_result"
    }
   ],
   "source": [
    "df3= pd.DataFrame({'Job-Title':job_title3,'Job-Location':job_loc3,'Company_Name':comp_name3,'Experience_reqd':exp3})\n",
    "df3"
   ]
  },
  {
   "cell_type": "code",
   "execution_count": 74,
   "id": "2207e609",
   "metadata": {},
   "outputs": [],
   "source": [
    "driver.close()\n",
    "time.sleep(5)"
   ]
  },
  {
   "cell_type": "code",
   "execution_count": 75,
   "id": "15336062",
   "metadata": {},
   "outputs": [],
   "source": [
    "# Answer 3. completed"
   ]
  },
  {
   "cell_type": "code",
   "execution_count": 76,
   "id": "4d33695a",
   "metadata": {},
   "outputs": [],
   "source": [
    "# Answer4). To scrape data of first 100 sunglasses listings on flipkart.com."
   ]
  },
  {
   "cell_type": "code",
   "execution_count": 94,
   "id": "bcc869cd",
   "metadata": {},
   "outputs": [],
   "source": [
    "driver=webdriver.Chrome(r\"C:\\Web Driver\\chromedriver.exe\")"
   ]
  },
  {
   "cell_type": "code",
   "execution_count": 95,
   "id": "7fa08edc",
   "metadata": {},
   "outputs": [],
   "source": [
    "driver.get(r\"https://www.flipkart.com/\")"
   ]
  },
  {
   "cell_type": "code",
   "execution_count": 96,
   "id": "90dba086",
   "metadata": {},
   "outputs": [],
   "source": [
    "close_button=driver.find_element_by_xpath(\"/html/body/div[2]/div/div/button\")\n",
    "close_button.click()"
   ]
  },
  {
   "cell_type": "code",
   "execution_count": 97,
   "id": "291f5ae4",
   "metadata": {},
   "outputs": [],
   "source": [
    "search = driver.find_element_by_xpath(\"/html/body/div[1]/div/div[1]/div[1]/div[2]/div[2]/form/div/div/input\")\n",
    "search.send_keys(\"sunglasses\")"
   ]
  },
  {
   "cell_type": "code",
   "execution_count": 98,
   "id": "a833458e",
   "metadata": {},
   "outputs": [],
   "source": [
    "search_button=driver.find_element_by_class_name(\"L0Z3Pu\")\n",
    "search_button.click()"
   ]
  },
  {
   "cell_type": "code",
   "execution_count": 99,
   "id": "32cb6f6e",
   "metadata": {},
   "outputs": [],
   "source": [
    "brand_name=[]\n",
    "prod_desc=[]\n",
    "price=[]\n",
    "discount=[]"
   ]
  },
  {
   "cell_type": "code",
   "execution_count": 100,
   "id": "a698b287",
   "metadata": {},
   "outputs": [],
   "source": [
    "for a in range(0,3):\n",
    "    name=driver.find_elements_by_xpath(\"//div[@class='_2WkVRV']\")\n",
    "    for i in name:\n",
    "        brand_name.append(i.text)\n",
    "    prod=driver.find_elements_by_xpath(\"//a[@class='IRpwTa']\")\n",
    "    for j in prod:\n",
    "        prod_desc.append(j.text)\n",
    "    pri=driver.find_elements_by_xpath(\"//div[@class='_25b18c']/div[1]\")\n",
    "    count=0\n",
    "    for k in pri:\n",
    "        if count<40:\n",
    "            price.append(k.text)\n",
    "            count+=1\n",
    "    disc=driver.find_elements_by_xpath(\"//div[@class='_25b18c']/div[3]\")\n",
    "    count1=0\n",
    "    for l in disc:\n",
    "        if count1<40:\n",
    "            discount.append(l.text)\n",
    "            count1+=1\n",
    "    next_button = driver.find_element_by_xpath(\"//a[@class='_1LKTO3']/span\")\n",
    "    next_button.click()\n",
    "    time.sleep(5)\n",
    "brand_name=brand_name[0:100]\n",
    "prod_desc=prod_desc[0:100]\n",
    "price=price[0:100]\n",
    "discount=discount[0:100]"
   ]
  },
  {
   "cell_type": "code",
   "execution_count": 101,
   "id": "8d1fb347",
   "metadata": {},
   "outputs": [
    {
     "data": {
      "text/html": [
       "<div>\n",
       "<style scoped>\n",
       "    .dataframe tbody tr th:only-of-type {\n",
       "        vertical-align: middle;\n",
       "    }\n",
       "\n",
       "    .dataframe tbody tr th {\n",
       "        vertical-align: top;\n",
       "    }\n",
       "\n",
       "    .dataframe thead th {\n",
       "        text-align: right;\n",
       "    }\n",
       "</style>\n",
       "<table border=\"1\" class=\"dataframe\">\n",
       "  <thead>\n",
       "    <tr style=\"text-align: right;\">\n",
       "      <th></th>\n",
       "      <th>Brand Name</th>\n",
       "      <th>Production Description</th>\n",
       "      <th>Price</th>\n",
       "      <th>Discount</th>\n",
       "    </tr>\n",
       "  </thead>\n",
       "  <tbody>\n",
       "    <tr>\n",
       "      <th>0</th>\n",
       "      <td>Arnette</td>\n",
       "      <td>Others Rectangular Sunglasses (56)</td>\n",
       "      <td>₹7,549</td>\n",
       "      <td>10% off</td>\n",
       "    </tr>\n",
       "    <tr>\n",
       "      <th>1</th>\n",
       "      <td>Arnette</td>\n",
       "      <td>Others Oval Sunglasses (53)</td>\n",
       "      <td>₹2,879</td>\n",
       "      <td>54% off</td>\n",
       "    </tr>\n",
       "    <tr>\n",
       "      <th>2</th>\n",
       "      <td>PIRASO</td>\n",
       "      <td>UV Protection Aviator Sunglasses (54)</td>\n",
       "      <td>₹224</td>\n",
       "      <td>85% off</td>\n",
       "    </tr>\n",
       "    <tr>\n",
       "      <th>3</th>\n",
       "      <td>SRPM</td>\n",
       "      <td>UV Protection Wayfarer Sunglasses (50)</td>\n",
       "      <td>₹211</td>\n",
       "      <td>83% off</td>\n",
       "    </tr>\n",
       "    <tr>\n",
       "      <th>4</th>\n",
       "      <td>Fastrack</td>\n",
       "      <td>UV Protection Wayfarer Sunglasses (Free Size)</td>\n",
       "      <td>₹799</td>\n",
       "      <td>20% off</td>\n",
       "    </tr>\n",
       "    <tr>\n",
       "      <th>...</th>\n",
       "      <td>...</td>\n",
       "      <td>...</td>\n",
       "      <td>...</td>\n",
       "      <td>...</td>\n",
       "    </tr>\n",
       "    <tr>\n",
       "      <th>95</th>\n",
       "      <td>ROZZETTA CRAFT</td>\n",
       "      <td>UV Protection, Gradient Rectangular Sunglasses...</td>\n",
       "      <td>₹449</td>\n",
       "      <td>77% off</td>\n",
       "    </tr>\n",
       "    <tr>\n",
       "      <th>96</th>\n",
       "      <td>ROZZETTA CRAFT</td>\n",
       "      <td>Polarized, Riding Glasses Sports, Wrap-around ...</td>\n",
       "      <td>₹499</td>\n",
       "      <td>75% off</td>\n",
       "    </tr>\n",
       "    <tr>\n",
       "      <th>97</th>\n",
       "      <td>ROZZETTA CRAFT</td>\n",
       "      <td>UV Protection Rectangular Sunglasses (Free Size)</td>\n",
       "      <td>₹319</td>\n",
       "      <td>78% off</td>\n",
       "    </tr>\n",
       "    <tr>\n",
       "      <th>98</th>\n",
       "      <td>New Specs</td>\n",
       "      <td>UV Protection Rectangular Sunglasses (Free Size)</td>\n",
       "      <td>₹264</td>\n",
       "      <td>89% off</td>\n",
       "    </tr>\n",
       "    <tr>\n",
       "      <th>99</th>\n",
       "      <td>LIZA ANGEL</td>\n",
       "      <td>Riding Glasses, Night Vision Spectacle Sunglas...</td>\n",
       "      <td>₹189</td>\n",
       "      <td>81% off</td>\n",
       "    </tr>\n",
       "  </tbody>\n",
       "</table>\n",
       "<p>100 rows × 4 columns</p>\n",
       "</div>"
      ],
      "text/plain": [
       "        Brand Name                             Production Description   Price  \\\n",
       "0          Arnette                 Others Rectangular Sunglasses (56)  ₹7,549   \n",
       "1          Arnette                        Others Oval Sunglasses (53)  ₹2,879   \n",
       "2           PIRASO              UV Protection Aviator Sunglasses (54)    ₹224   \n",
       "3             SRPM             UV Protection Wayfarer Sunglasses (50)    ₹211   \n",
       "4         Fastrack      UV Protection Wayfarer Sunglasses (Free Size)    ₹799   \n",
       "..             ...                                                ...     ...   \n",
       "95  ROZZETTA CRAFT  UV Protection, Gradient Rectangular Sunglasses...    ₹449   \n",
       "96  ROZZETTA CRAFT  Polarized, Riding Glasses Sports, Wrap-around ...    ₹499   \n",
       "97  ROZZETTA CRAFT   UV Protection Rectangular Sunglasses (Free Size)    ₹319   \n",
       "98       New Specs   UV Protection Rectangular Sunglasses (Free Size)    ₹264   \n",
       "99      LIZA ANGEL  Riding Glasses, Night Vision Spectacle Sunglas...    ₹189   \n",
       "\n",
       "   Discount  \n",
       "0   10% off  \n",
       "1   54% off  \n",
       "2   85% off  \n",
       "3   83% off  \n",
       "4   20% off  \n",
       "..      ...  \n",
       "95  77% off  \n",
       "96  75% off  \n",
       "97  78% off  \n",
       "98  89% off  \n",
       "99  81% off  \n",
       "\n",
       "[100 rows x 4 columns]"
      ]
     },
     "execution_count": 101,
     "metadata": {},
     "output_type": "execute_result"
    }
   ],
   "source": [
    "df4= pd.DataFrame({'Brand Name':brand_name,'Production Description':prod_desc,'Price':price,'Discount':discount})\n",
    "df4"
   ]
  },
  {
   "cell_type": "code",
   "execution_count": 102,
   "id": "24e96f54",
   "metadata": {},
   "outputs": [],
   "source": [
    "time.sleep(5)\n"
   ]
  },
  {
   "cell_type": "code",
   "execution_count": 103,
   "id": "00d3c26e",
   "metadata": {},
   "outputs": [],
   "source": [
    "# Answer 4. Completed."
   ]
  },
  {
   "cell_type": "code",
   "execution_count": 104,
   "id": "0936bd8d",
   "metadata": {},
   "outputs": [],
   "source": [
    "# Answer 6). Scrape data for first 100 sneakers you find  when you visit flipkart.com and search for “sneakers” in the search field."
   ]
  },
  {
   "cell_type": "code",
   "execution_count": 105,
   "id": "a074beca",
   "metadata": {},
   "outputs": [],
   "source": [
    "driver.get(\"https://www.flipkart.com/\")"
   ]
  },
  {
   "cell_type": "code",
   "execution_count": 107,
   "id": "0616e13c",
   "metadata": {},
   "outputs": [],
   "source": [
    "search = driver.find_element_by_xpath(\"/html/body/div[1]/div/div[1]/div[1]/div[2]/div[2]/form/div/div/input\")\n",
    "search.send_keys(\"sneakers\")"
   ]
  },
  {
   "cell_type": "code",
   "execution_count": 108,
   "id": "19efd34b",
   "metadata": {},
   "outputs": [],
   "source": [
    "search_button=driver.find_element_by_class_name(\"L0Z3Pu\")\n",
    "search_button.click()"
   ]
  },
  {
   "cell_type": "code",
   "execution_count": 109,
   "id": "8d60adee",
   "metadata": {},
   "outputs": [],
   "source": [
    "brand_name=[]\n",
    "prod_desc=[]\n",
    "price=[]"
   ]
  },
  {
   "cell_type": "code",
   "execution_count": 110,
   "id": "dc8f639e",
   "metadata": {},
   "outputs": [],
   "source": [
    "for a in range(0,3):\n",
    "    name=driver.find_elements_by_xpath(\"//div[@class='_2WkVRV']\")\n",
    "    for i in name:\n",
    "        brand_name.append(i.text)\n",
    "    prod=driver.find_elements_by_xpath(\"//a[@class='IRpwTa']\")\n",
    "    for j in prod:\n",
    "        prod_desc.append(j.text)\n",
    "    pri=driver.find_elements_by_xpath(\"//div[@class='_25b18c']/div[1]\")\n",
    "    count=0\n",
    "    for k in pri:\n",
    "        if count<40:\n",
    "            price.append(k.text)\n",
    "            count+=1\n",
    "    next_button = driver.find_element_by_xpath(\"//a[@class='_1LKTO3']/span\")\n",
    "    next_button.click()\n",
    "    time.sleep(5)\n",
    "brand_name=brand_name[0:100]\n",
    "prod_desc=prod_desc[0:100]\n",
    "price=price[0:100]"
   ]
  },
  {
   "cell_type": "code",
   "execution_count": 111,
   "id": "5711c2ba",
   "metadata": {},
   "outputs": [
    {
     "data": {
      "text/html": [
       "<div>\n",
       "<style scoped>\n",
       "    .dataframe tbody tr th:only-of-type {\n",
       "        vertical-align: middle;\n",
       "    }\n",
       "\n",
       "    .dataframe tbody tr th {\n",
       "        vertical-align: top;\n",
       "    }\n",
       "\n",
       "    .dataframe thead th {\n",
       "        text-align: right;\n",
       "    }\n",
       "</style>\n",
       "<table border=\"1\" class=\"dataframe\">\n",
       "  <thead>\n",
       "    <tr style=\"text-align: right;\">\n",
       "      <th></th>\n",
       "      <th>Sneakers Brand Name</th>\n",
       "      <th>Production Description</th>\n",
       "      <th>Price</th>\n",
       "    </tr>\n",
       "  </thead>\n",
       "  <tbody>\n",
       "    <tr>\n",
       "      <th>0</th>\n",
       "      <td>Xylus</td>\n",
       "      <td>Training &amp; Gym &amp; Walking shoes Sneakers For Men</td>\n",
       "      <td>₹399</td>\n",
       "    </tr>\n",
       "    <tr>\n",
       "      <th>1</th>\n",
       "      <td>Arivo</td>\n",
       "      <td>Lightweight Pack Of 1 Trendy Sneakers Sneakers...</td>\n",
       "      <td>₹599</td>\n",
       "    </tr>\n",
       "    <tr>\n",
       "      <th>2</th>\n",
       "      <td>BRUTON</td>\n",
       "      <td>Sneakers For Men</td>\n",
       "      <td>₹188</td>\n",
       "    </tr>\n",
       "    <tr>\n",
       "      <th>3</th>\n",
       "      <td>Magnolia</td>\n",
       "      <td>Stylish Comfortable Lightweight, Breathable Wa...</td>\n",
       "      <td>₹374</td>\n",
       "    </tr>\n",
       "    <tr>\n",
       "      <th>4</th>\n",
       "      <td>BIRDE</td>\n",
       "      <td>Modern Trendy Sneakers Shoes Sneakers For Men</td>\n",
       "      <td>₹314</td>\n",
       "    </tr>\n",
       "    <tr>\n",
       "      <th>...</th>\n",
       "      <td>...</td>\n",
       "      <td>...</td>\n",
       "      <td>...</td>\n",
       "    </tr>\n",
       "    <tr>\n",
       "      <th>95</th>\n",
       "      <td>Kirjak</td>\n",
       "      <td>Stylish Comfortable Lightweight, Breathable Ca...</td>\n",
       "      <td>₹569</td>\n",
       "    </tr>\n",
       "    <tr>\n",
       "      <th>96</th>\n",
       "      <td>aadi</td>\n",
       "      <td>Sneakers Sneakers For Men</td>\n",
       "      <td>₹319</td>\n",
       "    </tr>\n",
       "    <tr>\n",
       "      <th>97</th>\n",
       "      <td>Robbie jones</td>\n",
       "      <td>494 Perfect Sports Shoes for Running Training ...</td>\n",
       "      <td>₹499</td>\n",
       "    </tr>\n",
       "    <tr>\n",
       "      <th>98</th>\n",
       "      <td>Dicy</td>\n",
       "      <td>PANAL Sneakers For Men</td>\n",
       "      <td>₹299</td>\n",
       "    </tr>\n",
       "    <tr>\n",
       "      <th>99</th>\n",
       "      <td>Echor</td>\n",
       "      <td>casual for men Sneakers For Men</td>\n",
       "      <td>₹598</td>\n",
       "    </tr>\n",
       "  </tbody>\n",
       "</table>\n",
       "<p>100 rows × 3 columns</p>\n",
       "</div>"
      ],
      "text/plain": [
       "   Sneakers Brand Name                             Production Description  \\\n",
       "0                Xylus    Training & Gym & Walking shoes Sneakers For Men   \n",
       "1                Arivo  Lightweight Pack Of 1 Trendy Sneakers Sneakers...   \n",
       "2               BRUTON                                   Sneakers For Men   \n",
       "3             Magnolia  Stylish Comfortable Lightweight, Breathable Wa...   \n",
       "4                BIRDE      Modern Trendy Sneakers Shoes Sneakers For Men   \n",
       "..                 ...                                                ...   \n",
       "95              Kirjak  Stylish Comfortable Lightweight, Breathable Ca...   \n",
       "96                aadi                          Sneakers Sneakers For Men   \n",
       "97        Robbie jones  494 Perfect Sports Shoes for Running Training ...   \n",
       "98                Dicy                             PANAL Sneakers For Men   \n",
       "99               Echor                    casual for men Sneakers For Men   \n",
       "\n",
       "   Price  \n",
       "0   ₹399  \n",
       "1   ₹599  \n",
       "2   ₹188  \n",
       "3   ₹374  \n",
       "4   ₹314  \n",
       "..   ...  \n",
       "95  ₹569  \n",
       "96  ₹319  \n",
       "97  ₹499  \n",
       "98  ₹299  \n",
       "99  ₹598  \n",
       "\n",
       "[100 rows x 3 columns]"
      ]
     },
     "execution_count": 111,
     "metadata": {},
     "output_type": "execute_result"
    }
   ],
   "source": [
    "df6= pd.DataFrame({'Sneakers Brand Name':brand_name,'Production Description':prod_desc,'Price':price})\n",
    "df6"
   ]
  },
  {
   "cell_type": "code",
   "execution_count": 112,
   "id": "1f089516",
   "metadata": {},
   "outputs": [],
   "source": [
    "time.sleep(5)"
   ]
  },
  {
   "cell_type": "code",
   "execution_count": 113,
   "id": "8e83e253",
   "metadata": {},
   "outputs": [],
   "source": [
    "# Answer 6.Completed."
   ]
  },
  {
   "cell_type": "code",
   "execution_count": 114,
   "id": "a3459d0a",
   "metadata": {},
   "outputs": [],
   "source": [
    "# Answer 7). Scrape First 100 shoes data."
   ]
  },
  {
   "cell_type": "code",
   "execution_count": 115,
   "id": "4ae37c1d",
   "metadata": {
    "scrolled": true
   },
   "outputs": [],
   "source": [
    "driver.get(\"https://www.myntra.com/shoes\")"
   ]
  },
  {
   "cell_type": "code",
   "execution_count": 116,
   "id": "ccb1a324",
   "metadata": {},
   "outputs": [],
   "source": [
    "price_option=driver.find_element_by_xpath(\"/html/body/div[2]/div/div[1]/main/div[3]/div[1]/section/div/div[5]/ul/li[2]/label/div\")\n",
    "price_option.click()"
   ]
  },
  {
   "cell_type": "code",
   "execution_count": 117,
   "id": "94b37ad0",
   "metadata": {},
   "outputs": [],
   "source": [
    "color_option=driver.find_element_by_xpath(\"/html/body/div[2]/div/div[1]/main/div[3]/div[1]/section/div/div[6]/ul/li[1]/label/div\")\n",
    "color_option.click()"
   ]
  },
  {
   "cell_type": "code",
   "execution_count": 118,
   "id": "3bc6c1fd",
   "metadata": {},
   "outputs": [],
   "source": [
    "brand_name7=[]\n",
    "prod_desc7=[]\n",
    "price7=[]"
   ]
  },
  {
   "cell_type": "code",
   "execution_count": 119,
   "id": "195eb5e4",
   "metadata": {},
   "outputs": [
    {
     "name": "stdout",
     "output_type": "stream",
     "text": [
      "100 100 100\n"
     ]
    }
   ],
   "source": [
    "for a in range(2):\n",
    "    brand7=driver.find_elements_by_xpath(\"//h3[@class='product-brand']\")\n",
    "    for i in brand7:\n",
    "        brand_name7.append(i.text)\n",
    "    desc7 = driver.find_elements_by_xpath(\"//h4[@class='product-product']\")\n",
    "    for j in desc7:\n",
    "        prod_desc7.append(j.text)\n",
    "    pri7=driver.find_elements_by_xpath(\"//div[@class='product-price']/span[1]\")\n",
    "    for k in pri7:\n",
    "        price7.append(k.text[0:8])\n",
    "    next_button=driver.find_element_by_xpath(\"//li[@class='pagination-next']/a\")\n",
    "    next_button.click()\n",
    "    time.sleep(5)\n",
    "print(len(brand_name7),len(prod_desc7),len(price7))"
   ]
  },
  {
   "cell_type": "code",
   "execution_count": 120,
   "id": "64bdd7a3",
   "metadata": {},
   "outputs": [],
   "source": [
    "#as somewhere strike out price is included in price, so span[1] is used here..also,k.text includes price and strike out price included in it. so, its data is sliced and first 7 digits which show exact price are used here."
   ]
  },
  {
   "cell_type": "code",
   "execution_count": 121,
   "id": "26f9fb6b",
   "metadata": {},
   "outputs": [
    {
     "data": {
      "text/html": [
       "<div>\n",
       "<style scoped>\n",
       "    .dataframe tbody tr th:only-of-type {\n",
       "        vertical-align: middle;\n",
       "    }\n",
       "\n",
       "    .dataframe tbody tr th {\n",
       "        vertical-align: top;\n",
       "    }\n",
       "\n",
       "    .dataframe thead th {\n",
       "        text-align: right;\n",
       "    }\n",
       "</style>\n",
       "<table border=\"1\" class=\"dataframe\">\n",
       "  <thead>\n",
       "    <tr style=\"text-align: right;\">\n",
       "      <th></th>\n",
       "      <th>Shoes Brand Name</th>\n",
       "      <th>Product Description</th>\n",
       "      <th>Price</th>\n",
       "    </tr>\n",
       "  </thead>\n",
       "  <tbody>\n",
       "    <tr>\n",
       "      <th>0</th>\n",
       "      <td>Skechers</td>\n",
       "      <td>Men ENIGMA Running Shoes</td>\n",
       "      <td>Rs. 7124</td>\n",
       "    </tr>\n",
       "    <tr>\n",
       "      <th>1</th>\n",
       "      <td>Skechers</td>\n",
       "      <td>Men Max Cushioning Running</td>\n",
       "      <td>Rs. 8999</td>\n",
       "    </tr>\n",
       "    <tr>\n",
       "      <th>2</th>\n",
       "      <td>Puma</td>\n",
       "      <td>Men Running Shoes</td>\n",
       "      <td>Rs. 9999</td>\n",
       "    </tr>\n",
       "    <tr>\n",
       "      <th>3</th>\n",
       "      <td>Nike</td>\n",
       "      <td>Men Zoom C Pro HC Tennis Shoes</td>\n",
       "      <td>Rs. 7116</td>\n",
       "    </tr>\n",
       "    <tr>\n",
       "      <th>4</th>\n",
       "      <td>Nike</td>\n",
       "      <td>Women Pegasus 39 Running Shoes</td>\n",
       "      <td>Rs. 8920</td>\n",
       "    </tr>\n",
       "    <tr>\n",
       "      <th>...</th>\n",
       "      <td>...</td>\n",
       "      <td>...</td>\n",
       "      <td>...</td>\n",
       "    </tr>\n",
       "    <tr>\n",
       "      <th>95</th>\n",
       "      <td>Geox</td>\n",
       "      <td>Women Open Toe Flats</td>\n",
       "      <td>Rs. 6742</td>\n",
       "    </tr>\n",
       "    <tr>\n",
       "      <th>96</th>\n",
       "      <td>DAVINCHI</td>\n",
       "      <td>Solid Leather Formal Boots</td>\n",
       "      <td>Rs. 6990</td>\n",
       "    </tr>\n",
       "    <tr>\n",
       "      <th>97</th>\n",
       "      <td>Geox</td>\n",
       "      <td>Women Ballerinas Flats</td>\n",
       "      <td>Rs. 9891</td>\n",
       "    </tr>\n",
       "    <tr>\n",
       "      <th>98</th>\n",
       "      <td>DAVINCHI</td>\n",
       "      <td>Men Solid Leather Formal Slip-On</td>\n",
       "      <td>Rs. 6990</td>\n",
       "    </tr>\n",
       "    <tr>\n",
       "      <th>99</th>\n",
       "      <td>Geox</td>\n",
       "      <td>Women Solid Leather Ballerinas</td>\n",
       "      <td>Rs. 6749</td>\n",
       "    </tr>\n",
       "  </tbody>\n",
       "</table>\n",
       "<p>100 rows × 3 columns</p>\n",
       "</div>"
      ],
      "text/plain": [
       "   Shoes Brand Name               Product Description     Price\n",
       "0          Skechers          Men ENIGMA Running Shoes  Rs. 7124\n",
       "1          Skechers        Men Max Cushioning Running  Rs. 8999\n",
       "2              Puma                 Men Running Shoes  Rs. 9999\n",
       "3              Nike    Men Zoom C Pro HC Tennis Shoes  Rs. 7116\n",
       "4              Nike    Women Pegasus 39 Running Shoes  Rs. 8920\n",
       "..              ...                               ...       ...\n",
       "95             Geox              Women Open Toe Flats  Rs. 6742\n",
       "96         DAVINCHI        Solid Leather Formal Boots  Rs. 6990\n",
       "97             Geox            Women Ballerinas Flats  Rs. 9891\n",
       "98         DAVINCHI  Men Solid Leather Formal Slip-On  Rs. 6990\n",
       "99             Geox    Women Solid Leather Ballerinas  Rs. 6749\n",
       "\n",
       "[100 rows x 3 columns]"
      ]
     },
     "execution_count": 121,
     "metadata": {},
     "output_type": "execute_result"
    }
   ],
   "source": [
    "df7=pd.DataFrame({'Shoes Brand Name':brand_name7,'Product Description':prod_desc7,'Price':price7})\n",
    "df7"
   ]
  },
  {
   "cell_type": "code",
   "execution_count": 122,
   "id": "6ca187a0",
   "metadata": {},
   "outputs": [],
   "source": [
    "driver.close()\n",
    "time.sleep(5)"
   ]
  },
  {
   "cell_type": "code",
   "execution_count": 123,
   "id": "b9850c3d",
   "metadata": {},
   "outputs": [],
   "source": [
    "# Answer 7).Completed."
   ]
  },
  {
   "cell_type": "code",
   "execution_count": 124,
   "id": "95fd419d",
   "metadata": {},
   "outputs": [],
   "source": [
    "# Answer 9).To scrape data for first 10 job results for Data Scientist Designation in Noida \n",
    "#location."
   ]
  },
  {
   "cell_type": "code",
   "execution_count": 125,
   "id": "77aea5a3",
   "metadata": {},
   "outputs": [],
   "source": [
    "driver=webdriver.Chrome(r\"C:\\Web Driver\\chromedriver.exe\")"
   ]
  },
  {
   "cell_type": "code",
   "execution_count": 126,
   "id": "f44cdce4",
   "metadata": {},
   "outputs": [],
   "source": [
    "driver.get(\" https://www.ambitionbox.com/\")"
   ]
  },
  {
   "cell_type": "code",
   "execution_count": 127,
   "id": "e3655e90",
   "metadata": {},
   "outputs": [],
   "source": [
    "jobs_option=driver.find_element_by_xpath(\"/html/body/div[1]/nav/nav/a[6]\")\n",
    "jobs_option.click()"
   ]
  },
  {
   "cell_type": "code",
   "execution_count": 128,
   "id": "d4a6e3a0",
   "metadata": {},
   "outputs": [],
   "source": [
    "enter_option=driver.find_element_by_xpath(\"/html/body/div/div/div/div[2]/div[1]/div[1]/div/div/div/div/span/input\")\n",
    "enter_option.send_keys(\"Data Scientist\")"
   ]
  },
  {
   "cell_type": "code",
   "execution_count": 129,
   "id": "acf96346",
   "metadata": {},
   "outputs": [],
   "source": [
    "search_button=driver.find_element_by_xpath(\"/html/body/div/div/div/div[2]/div[1]/div[1]/div/div/div/button\")\n",
    "search_button.click()"
   ]
  },
  {
   "cell_type": "code",
   "execution_count": 131,
   "id": "1dc87500",
   "metadata": {},
   "outputs": [],
   "source": [
    "loc_filter=driver.find_element_by_xpath(\"/html/body/div/div/div/div[2]/div[1]/div[2]/div[1]/div/div/div/div[2]/div[1]/i\")\n",
    "loc_filter.click ()"
   ]
  },
  {
   "cell_type": "code",
   "execution_count": 132,
   "id": "90c42a9d",
   "metadata": {},
   "outputs": [],
   "source": [
    "loc_input=driver.find_element_by_xpath(\"/html/body/div/div/div/div[2]/div[1]/div[2]/div[1]/div/div/div/div[2]/div[2]/div/div[2]/input\")\n",
    "loc_input.send_keys(\"Noida\")"
   ]
  },
  {
   "cell_type": "code",
   "execution_count": 133,
   "id": "ad04a661",
   "metadata": {},
   "outputs": [],
   "source": [
    "driver.find_element_by_xpath(\"/html/body/div/div/div/div[2]/div[1]/div[2]/div[1]/div/div/div/div[2]/div[2]/div/div[3]/div[1]/div[1]/div/label\").click()"
   ]
  },
  {
   "cell_type": "code",
   "execution_count": 134,
   "id": "4a77a92e",
   "metadata": {},
   "outputs": [],
   "source": [
    "comp_name9=[]\n",
    "days9=[]\n",
    "rating9=[]"
   ]
  },
  {
   "cell_type": "code",
   "execution_count": 135,
   "id": "58f8a5f9",
   "metadata": {},
   "outputs": [],
   "source": [
    "name=driver.find_elements_by_xpath(\"//div[@class='company-info']/p\")\n",
    "for i in name:\n",
    "    comp_name9.append(i.text)\n",
    "days_tags=driver.find_elements_by_xpath(\"//div[@class='other-info']/span[1]\")\n",
    "for j in days_tags:\n",
    "    days9.append(j.text)\n",
    "rating_tags=driver.find_elements_by_xpath(\"//div[@class='rating-wrapper']/a[1]\")\n",
    "for k in rating_tags:\n",
    "    rating9.append(k.text)\n",
    "comp_name9=comp_name9[1:11]\n"
   ]
  },
  {
   "cell_type": "code",
   "execution_count": 136,
   "id": "818b331c",
   "metadata": {},
   "outputs": [],
   "source": [
    "rating9=rating9[1:11]"
   ]
  },
  {
   "cell_type": "code",
   "execution_count": 137,
   "id": "ebef696a",
   "metadata": {},
   "outputs": [
    {
     "data": {
      "text/html": [
       "<div>\n",
       "<style scoped>\n",
       "    .dataframe tbody tr th:only-of-type {\n",
       "        vertical-align: middle;\n",
       "    }\n",
       "\n",
       "    .dataframe tbody tr th {\n",
       "        vertical-align: top;\n",
       "    }\n",
       "\n",
       "    .dataframe thead th {\n",
       "        text-align: right;\n",
       "    }\n",
       "</style>\n",
       "<table border=\"1\" class=\"dataframe\">\n",
       "  <thead>\n",
       "    <tr style=\"text-align: right;\">\n",
       "      <th></th>\n",
       "      <th>Company Name</th>\n",
       "      <th>No. of Days ago job posted</th>\n",
       "      <th>Rating of Company</th>\n",
       "    </tr>\n",
       "  </thead>\n",
       "  <tbody>\n",
       "    <tr>\n",
       "      <th>0</th>\n",
       "      <td>GENPACT India Private Limited</td>\n",
       "      <td>8d ago</td>\n",
       "      <td>4.0</td>\n",
       "    </tr>\n",
       "    <tr>\n",
       "      <th>1</th>\n",
       "      <td>Optum Global Solutions (India) Private Limited</td>\n",
       "      <td>16d ago</td>\n",
       "      <td>4.2</td>\n",
       "    </tr>\n",
       "    <tr>\n",
       "      <th>2</th>\n",
       "      <td>GENPACT India Private Limited</td>\n",
       "      <td>15d ago</td>\n",
       "      <td>4.0</td>\n",
       "    </tr>\n",
       "    <tr>\n",
       "      <th>3</th>\n",
       "      <td>Hcl Technologies Limited</td>\n",
       "      <td>18d ago</td>\n",
       "      <td>3.9</td>\n",
       "    </tr>\n",
       "    <tr>\n",
       "      <th>4</th>\n",
       "      <td>EXL Services.com ( I ) Pvt. Ltd.</td>\n",
       "      <td>29d ago</td>\n",
       "      <td>3.9</td>\n",
       "    </tr>\n",
       "    <tr>\n",
       "      <th>5</th>\n",
       "      <td>Paytm</td>\n",
       "      <td>11d ago</td>\n",
       "      <td>3.7</td>\n",
       "    </tr>\n",
       "    <tr>\n",
       "      <th>6</th>\n",
       "      <td>Om Software Internet Solutions Private Limited</td>\n",
       "      <td>19d ago</td>\n",
       "      <td>4.5</td>\n",
       "    </tr>\n",
       "    <tr>\n",
       "      <th>7</th>\n",
       "      <td>Paytm</td>\n",
       "      <td>29d ago</td>\n",
       "      <td>3.7</td>\n",
       "    </tr>\n",
       "    <tr>\n",
       "      <th>8</th>\n",
       "      <td>MOTHERSONSUMI INFOTECH &amp; DESIGNS LIMITED</td>\n",
       "      <td>16d ago</td>\n",
       "      <td>3.3</td>\n",
       "    </tr>\n",
       "    <tr>\n",
       "      <th>9</th>\n",
       "      <td>Ashkom Media India Private Limited</td>\n",
       "      <td>15d ago</td>\n",
       "      <td>3.5</td>\n",
       "    </tr>\n",
       "  </tbody>\n",
       "</table>\n",
       "</div>"
      ],
      "text/plain": [
       "                                     Company Name No. of Days ago job posted  \\\n",
       "0                   GENPACT India Private Limited                     8d ago   \n",
       "1  Optum Global Solutions (India) Private Limited                    16d ago   \n",
       "2                   GENPACT India Private Limited                    15d ago   \n",
       "3                        Hcl Technologies Limited                    18d ago   \n",
       "4                EXL Services.com ( I ) Pvt. Ltd.                    29d ago   \n",
       "5                                           Paytm                    11d ago   \n",
       "6  Om Software Internet Solutions Private Limited                    19d ago   \n",
       "7                                           Paytm                    29d ago   \n",
       "8        MOTHERSONSUMI INFOTECH & DESIGNS LIMITED                    16d ago   \n",
       "9              Ashkom Media India Private Limited                    15d ago   \n",
       "\n",
       "  Rating of Company  \n",
       "0               4.0  \n",
       "1               4.2  \n",
       "2               4.0  \n",
       "3               3.9  \n",
       "4               3.9  \n",
       "5               3.7  \n",
       "6               4.5  \n",
       "7               3.7  \n",
       "8               3.3  \n",
       "9               3.5  "
      ]
     },
     "execution_count": 137,
     "metadata": {},
     "output_type": "execute_result"
    }
   ],
   "source": [
    "df9=pd.DataFrame({'Company Name':comp_name9,'No. of Days ago job posted':days9,'Rating of Company':rating9})\n",
    "df9"
   ]
  },
  {
   "cell_type": "code",
   "execution_count": 138,
   "id": "fac46e0f",
   "metadata": {},
   "outputs": [],
   "source": [
    "time.sleep(5)"
   ]
  },
  {
   "cell_type": "code",
   "execution_count": 139,
   "id": "b1eb8d52",
   "metadata": {},
   "outputs": [],
   "source": [
    "# Answer 9). Completed."
   ]
  },
  {
   "cell_type": "code",
   "execution_count": 140,
   "id": "fa21b4ab",
   "metadata": {},
   "outputs": [],
   "source": [
    "# Answer 10). To scrape the salary data for Data Scientist designation."
   ]
  },
  {
   "cell_type": "code",
   "execution_count": 141,
   "id": "8eb4784c",
   "metadata": {},
   "outputs": [],
   "source": [
    "driver.get(\" https://www.ambitionbox.com/\")"
   ]
  },
  {
   "cell_type": "code",
   "execution_count": 142,
   "id": "9d13e263",
   "metadata": {},
   "outputs": [],
   "source": [
    "driver.find_element_by_xpath(\"/html/body/div[1]/nav/nav/a[4]\").click()"
   ]
  },
  {
   "cell_type": "code",
   "execution_count": 143,
   "id": "740777b5",
   "metadata": {},
   "outputs": [],
   "source": [
    "search_option=driver.find_element_by_xpath(\"/html/body/div/div/div/main/section[1]/div[2]/div[1]/span/input\")\n",
    "search_option.send_keys(\"Data Scientist\")\n",
    "search_option.click()"
   ]
  },
  {
   "cell_type": "code",
   "execution_count": 144,
   "id": "8407adda",
   "metadata": {},
   "outputs": [],
   "source": [
    "comp_name10=[]\n",
    "tot_sal10=[]\n",
    "avg_sal10=[]\n",
    "min_sal10=[]\n",
    "max_sal10=[]\n",
    "exp10=[]"
   ]
  },
  {
   "cell_type": "code",
   "execution_count": 145,
   "id": "20ff0c34",
   "metadata": {},
   "outputs": [],
   "source": [
    "name10=driver.find_elements_by_xpath(\"//div[@class='company-info-wrapper']/div\")\n",
    "for i in name10:\n",
    "    comp_name10.append(i.text.split('\\n')[0])\n",
    "    tot_sal10.append(i.text.split('\\n')[1])\n",
    "min10=driver.find_elements_by_xpath(\"//div[@class='salary-values']/div[1]\")\n",
    "for k in min10:\n",
    "    min_sal10.append(k.text)\n",
    "max10=driver.find_elements_by_xpath(\"//div[@class='salary-values']/div[2]\")\n",
    "for l in max10:\n",
    "    max_sal10.append(l.text)\n",
    "avg10=driver.find_elements_by_xpath(\"//p[@class='averageCtc']\")\n",
    "for m in avg10:\n",
    "    avg_sal10.append(m.text)\n",
    "exp_tags10=driver.find_elements_by_xpath(\"//div[@class='salaries sbold-list-header']\")\n",
    "for n in exp_tags10:\n",
    "    exp10.append(n.text.split('\\n')[2])"
   ]
  },
  {
   "cell_type": "code",
   "execution_count": 146,
   "id": "3bf502ea",
   "metadata": {},
   "outputs": [
    {
     "data": {
      "text/html": [
       "<div>\n",
       "<style scoped>\n",
       "    .dataframe tbody tr th:only-of-type {\n",
       "        vertical-align: middle;\n",
       "    }\n",
       "\n",
       "    .dataframe tbody tr th {\n",
       "        vertical-align: top;\n",
       "    }\n",
       "\n",
       "    .dataframe thead th {\n",
       "        text-align: right;\n",
       "    }\n",
       "</style>\n",
       "<table border=\"1\" class=\"dataframe\">\n",
       "  <thead>\n",
       "    <tr style=\"text-align: right;\">\n",
       "      <th></th>\n",
       "      <th>Company Name</th>\n",
       "      <th>Total salaries record</th>\n",
       "      <th>Minimum Salary Offered</th>\n",
       "      <th>Maximum Salary Offered</th>\n",
       "      <th>Average Salary Offered</th>\n",
       "      <th>Experience Required</th>\n",
       "    </tr>\n",
       "  </thead>\n",
       "  <tbody>\n",
       "    <tr>\n",
       "      <th>0</th>\n",
       "      <td>Google</td>\n",
       "      <td>based on 33 salaries</td>\n",
       "      <td>₹ 11.0L</td>\n",
       "      <td>₹ 65.0L</td>\n",
       "      <td>₹ 31.8L</td>\n",
       "      <td>1-3 yrs exp</td>\n",
       "    </tr>\n",
       "    <tr>\n",
       "      <th>1</th>\n",
       "      <td>Microsoft Corporation</td>\n",
       "      <td>based on 271 salaries</td>\n",
       "      <td>₹ 13.0L</td>\n",
       "      <td>₹ 45.0L</td>\n",
       "      <td>₹ 23.9L</td>\n",
       "      <td>1-4 yrs exp</td>\n",
       "    </tr>\n",
       "    <tr>\n",
       "      <th>2</th>\n",
       "      <td>Goldman Sachs</td>\n",
       "      <td>based on 18 salaries</td>\n",
       "      <td>₹ 12.0L</td>\n",
       "      <td>₹ 34.0L</td>\n",
       "      <td>₹ 23.0L</td>\n",
       "      <td>2 yrs exp</td>\n",
       "    </tr>\n",
       "    <tr>\n",
       "      <th>3</th>\n",
       "      <td>Tekion</td>\n",
       "      <td>based on 33 salaries</td>\n",
       "      <td>₹ 12.0L</td>\n",
       "      <td>₹ 33.0L</td>\n",
       "      <td>₹ 21.1L</td>\n",
       "      <td>2-4 yrs exp</td>\n",
       "    </tr>\n",
       "    <tr>\n",
       "      <th>4</th>\n",
       "      <td>Amazon</td>\n",
       "      <td>based on 119 salaries</td>\n",
       "      <td>₹ 8.0L</td>\n",
       "      <td>₹ 45.0L</td>\n",
       "      <td>₹ 20.9L</td>\n",
       "      <td>1-4 yrs exp</td>\n",
       "    </tr>\n",
       "    <tr>\n",
       "      <th>5</th>\n",
       "      <td>Flipkart</td>\n",
       "      <td>based on 63 salaries</td>\n",
       "      <td>₹ 7.5L</td>\n",
       "      <td>₹ 31.0L</td>\n",
       "      <td>₹ 20.6L</td>\n",
       "      <td>1-4 yrs exp</td>\n",
       "    </tr>\n",
       "    <tr>\n",
       "      <th>6</th>\n",
       "      <td>Servicenow Software Development India</td>\n",
       "      <td>based on 56 salaries</td>\n",
       "      <td>₹ 13.0L</td>\n",
       "      <td>₹ 28.0L</td>\n",
       "      <td>₹ 20.4L</td>\n",
       "      <td>2-4 yrs exp</td>\n",
       "    </tr>\n",
       "    <tr>\n",
       "      <th>7</th>\n",
       "      <td>PayPal</td>\n",
       "      <td>based on 28 salaries</td>\n",
       "      <td>₹ 12.0L</td>\n",
       "      <td>₹ 31.0L</td>\n",
       "      <td>₹ 20.1L</td>\n",
       "      <td>1-2 yrs exp</td>\n",
       "    </tr>\n",
       "    <tr>\n",
       "      <th>8</th>\n",
       "      <td>Walmart</td>\n",
       "      <td>based on 85 salaries</td>\n",
       "      <td>₹ 11.4L</td>\n",
       "      <td>₹ 32.5L</td>\n",
       "      <td>₹ 19.9L</td>\n",
       "      <td>1-4 yrs exp</td>\n",
       "    </tr>\n",
       "    <tr>\n",
       "      <th>9</th>\n",
       "      <td>Arcesium</td>\n",
       "      <td>based on 56 salaries</td>\n",
       "      <td>₹ 12.0L</td>\n",
       "      <td>₹ 34.0L</td>\n",
       "      <td>₹ 19.3L</td>\n",
       "      <td>1-2 yrs exp</td>\n",
       "    </tr>\n",
       "  </tbody>\n",
       "</table>\n",
       "</div>"
      ],
      "text/plain": [
       "                            Company Name  Total salaries record  \\\n",
       "0                                 Google   based on 33 salaries   \n",
       "1                  Microsoft Corporation  based on 271 salaries   \n",
       "2                          Goldman Sachs   based on 18 salaries   \n",
       "3                                 Tekion   based on 33 salaries   \n",
       "4                                 Amazon  based on 119 salaries   \n",
       "5                               Flipkart   based on 63 salaries   \n",
       "6  Servicenow Software Development India   based on 56 salaries   \n",
       "7                                 PayPal   based on 28 salaries   \n",
       "8                                Walmart   based on 85 salaries   \n",
       "9                               Arcesium   based on 56 salaries   \n",
       "\n",
       "  Minimum Salary Offered Maximum Salary Offered Average Salary Offered  \\\n",
       "0                ₹ 11.0L                ₹ 65.0L                ₹ 31.8L   \n",
       "1                ₹ 13.0L                ₹ 45.0L                ₹ 23.9L   \n",
       "2                ₹ 12.0L                ₹ 34.0L                ₹ 23.0L   \n",
       "3                ₹ 12.0L                ₹ 33.0L                ₹ 21.1L   \n",
       "4                 ₹ 8.0L                ₹ 45.0L                ₹ 20.9L   \n",
       "5                 ₹ 7.5L                ₹ 31.0L                ₹ 20.6L   \n",
       "6                ₹ 13.0L                ₹ 28.0L                ₹ 20.4L   \n",
       "7                ₹ 12.0L                ₹ 31.0L                ₹ 20.1L   \n",
       "8                ₹ 11.4L                ₹ 32.5L                ₹ 19.9L   \n",
       "9                ₹ 12.0L                ₹ 34.0L                ₹ 19.3L   \n",
       "\n",
       "  Experience Required  \n",
       "0         1-3 yrs exp  \n",
       "1         1-4 yrs exp  \n",
       "2           2 yrs exp  \n",
       "3         2-4 yrs exp  \n",
       "4         1-4 yrs exp  \n",
       "5         1-4 yrs exp  \n",
       "6         2-4 yrs exp  \n",
       "7         1-2 yrs exp  \n",
       "8         1-4 yrs exp  \n",
       "9         1-2 yrs exp  "
      ]
     },
     "execution_count": 146,
     "metadata": {},
     "output_type": "execute_result"
    }
   ],
   "source": [
    "df10=pd.DataFrame({'Company Name':comp_name10,'Total salaries record':tot_sal10,'Minimum Salary Offered':min_sal10,'Maximum Salary Offered':max_sal10,'Average Salary Offered':avg_sal10,'Experience Required':exp10})\n",
    "df10"
   ]
  },
  {
   "cell_type": "code",
   "execution_count": 151,
   "id": "0b3e3b39",
   "metadata": {},
   "outputs": [],
   "source": [
    "time.sleep(5)\n",
    "driver.close()"
   ]
  },
  {
   "cell_type": "code",
   "execution_count": 152,
   "id": "607938f1",
   "metadata": {},
   "outputs": [],
   "source": [
    "# Answer 10. Completed."
   ]
  },
  {
   "cell_type": "code",
   "execution_count": 153,
   "id": "f43eb7ac",
   "metadata": {},
   "outputs": [],
   "source": [
    "# Answer 5).Scrape 100 reviews data from flipkart.com for iphone11 phone."
   ]
  },
  {
   "cell_type": "code",
   "execution_count": 154,
   "id": "3d021216",
   "metadata": {},
   "outputs": [],
   "source": [
    "driver=webdriver.Chrome(r\"C:\\Web Driver\\chromedriver.exe\")"
   ]
  },
  {
   "cell_type": "code",
   "execution_count": 157,
   "id": "17a3893b",
   "metadata": {},
   "outputs": [],
   "source": [
    "driver.get(\"https://www.flipkart.com/\")"
   ]
  },
  {
   "cell_type": "code",
   "execution_count": 158,
   "id": "31502ba6",
   "metadata": {},
   "outputs": [],
   "source": [
    "search = driver.find_element_by_xpath(\"/html/body/div[1]/div/div[1]/div[1]/div[2]/div[2]/form/div/div/input\")\n",
    "search.send_keys(\"iphone 11\")"
   ]
  },
  {
   "cell_type": "code",
   "execution_count": 160,
   "id": "2a3d4376",
   "metadata": {},
   "outputs": [],
   "source": [
    "close_button=driver.find_element_by_xpath(\"/html/body/div[2]/div/div/button\")\n",
    "close_button.click()"
   ]
  },
  {
   "cell_type": "code",
   "execution_count": 161,
   "id": "4e29f171",
   "metadata": {},
   "outputs": [],
   "source": [
    "search_button=driver.find_element_by_xpath(\"/html/body/div/div/div[1]/div[1]/div[2]/div[2]/form/div/button\")\n",
    "search_button.click()"
   ]
  },
  {
   "cell_type": "code",
   "execution_count": 163,
   "id": "d1230a1c",
   "metadata": {},
   "outputs": [],
   "source": [
    "driver.find_element_by_xpath(\"/html/body/div/div/div[3]/div[1]/div[2]/div[2]/div/div/div/a/div[2]/div[1]/div[2]/span[2]/span/span[1]\").click()"
   ]
  },
  {
   "cell_type": "code",
   "execution_count": 169,
   "id": "ea93390a",
   "metadata": {},
   "outputs": [
    {
     "ename": "NoSuchElementException",
     "evalue": "Message: no such element: Unable to locate element: {\"method\":\"xpath\",\"selector\":\"//a[@href='https://www.flipkart.com/apple-iphone-11-white-128-gb/product-reviews/itme32df47ea6742?pid=MOBFWQ6B7KKRXDDS&amp;lid=LSTMOBFWQ6B7KKRXDDSMBIFYZ&amp;marketplace=FLIPKART']\"}\n  (Session info: chrome=102.0.5005.115)\nStacktrace:\nBacktrace:\n\tOrdinal0 [0x00D7D953+2414931]\n\tOrdinal0 [0x00D0F5E1+1963489]\n\tOrdinal0 [0x00BFC6B8+837304]\n\tOrdinal0 [0x00C29500+1021184]\n\tOrdinal0 [0x00C2979B+1021851]\n\tOrdinal0 [0x00C56502+1205506]\n\tOrdinal0 [0x00C444E4+1131748]\n\tOrdinal0 [0x00C54812+1198098]\n\tOrdinal0 [0x00C442B6+1131190]\n\tOrdinal0 [0x00C1E860+976992]\n\tOrdinal0 [0x00C1F756+980822]\n\tGetHandleVerifier [0x00FECC62+2510274]\n\tGetHandleVerifier [0x00FDF760+2455744]\n\tGetHandleVerifier [0x00E0EABA+551962]\n\tGetHandleVerifier [0x00E0D916+547446]\n\tOrdinal0 [0x00D15F3B+1990459]\n\tOrdinal0 [0x00D1A898+2009240]\n\tOrdinal0 [0x00D1A985+2009477]\n\tOrdinal0 [0x00D23AD1+2046673]\n\tBaseThreadInitThunk [0x748A8484+36]\n\tRtlValidSecurityDescriptor [0x77B8305A+282]\n\tRtlValidSecurityDescriptor [0x77B8302A+234]\n",
     "output_type": "error",
     "traceback": [
      "\u001b[1;31m---------------------------------------------------------------------------\u001b[0m",
      "\u001b[1;31mNoSuchElementException\u001b[0m                    Traceback (most recent call last)",
      "\u001b[1;32mC:\\Users\\GOPALP~1\\AppData\\Local\\Temp/ipykernel_13016/4146889959.py\u001b[0m in \u001b[0;36m<module>\u001b[1;34m\u001b[0m\n\u001b[1;32m----> 1\u001b[1;33m \u001b[0mopt2\u001b[0m\u001b[1;33m=\u001b[0m\u001b[0mdriver\u001b[0m\u001b[1;33m.\u001b[0m\u001b[0mfind_element_by_xpath\u001b[0m\u001b[1;33m(\u001b[0m\u001b[1;34m\"//a[@href='https://www.flipkart.com/apple-iphone-11-white-128-gb/product-reviews/itme32df47ea6742?pid=MOBFWQ6B7KKRXDDS&amp;lid=LSTMOBFWQ6B7KKRXDDSMBIFYZ&amp;marketplace=FLIPKART']\"\u001b[0m\u001b[1;33m)\u001b[0m\u001b[1;33m\u001b[0m\u001b[1;33m\u001b[0m\u001b[0m\n\u001b[0m\u001b[0;32m      2\u001b[0m \u001b[0mopt2\u001b[0m\u001b[1;33m.\u001b[0m\u001b[0mget_attribute\u001b[0m\u001b[1;33m(\u001b[0m\u001b[1;34m'href'\u001b[0m\u001b[1;33m)\u001b[0m\u001b[1;33m\u001b[0m\u001b[1;33m\u001b[0m\u001b[0m\n",
      "\u001b[1;32m~\\AppData\\Roaming\\Python\\Python39\\site-packages\\selenium\\webdriver\\remote\\webdriver.py\u001b[0m in \u001b[0;36mfind_element_by_xpath\u001b[1;34m(self, xpath)\u001b[0m\n\u001b[0;32m    524\u001b[0m             \u001b[0mstacklevel\u001b[0m\u001b[1;33m=\u001b[0m\u001b[1;36m2\u001b[0m\u001b[1;33m,\u001b[0m\u001b[1;33m\u001b[0m\u001b[1;33m\u001b[0m\u001b[0m\n\u001b[0;32m    525\u001b[0m         )\n\u001b[1;32m--> 526\u001b[1;33m         \u001b[1;32mreturn\u001b[0m \u001b[0mself\u001b[0m\u001b[1;33m.\u001b[0m\u001b[0mfind_element\u001b[0m\u001b[1;33m(\u001b[0m\u001b[0mby\u001b[0m\u001b[1;33m=\u001b[0m\u001b[0mBy\u001b[0m\u001b[1;33m.\u001b[0m\u001b[0mXPATH\u001b[0m\u001b[1;33m,\u001b[0m \u001b[0mvalue\u001b[0m\u001b[1;33m=\u001b[0m\u001b[0mxpath\u001b[0m\u001b[1;33m)\u001b[0m\u001b[1;33m\u001b[0m\u001b[1;33m\u001b[0m\u001b[0m\n\u001b[0m\u001b[0;32m    527\u001b[0m \u001b[1;33m\u001b[0m\u001b[0m\n\u001b[0;32m    528\u001b[0m     \u001b[1;32mdef\u001b[0m \u001b[0mfind_elements_by_xpath\u001b[0m\u001b[1;33m(\u001b[0m\u001b[0mself\u001b[0m\u001b[1;33m,\u001b[0m \u001b[0mxpath\u001b[0m\u001b[1;33m)\u001b[0m \u001b[1;33m->\u001b[0m \u001b[0mList\u001b[0m\u001b[1;33m[\u001b[0m\u001b[0mWebElement\u001b[0m\u001b[1;33m]\u001b[0m\u001b[1;33m:\u001b[0m\u001b[1;33m\u001b[0m\u001b[1;33m\u001b[0m\u001b[0m\n",
      "\u001b[1;32m~\\AppData\\Roaming\\Python\\Python39\\site-packages\\selenium\\webdriver\\remote\\webdriver.py\u001b[0m in \u001b[0;36mfind_element\u001b[1;34m(self, by, value)\u001b[0m\n\u001b[0;32m   1249\u001b[0m             \u001b[0mvalue\u001b[0m \u001b[1;33m=\u001b[0m \u001b[1;34m'[name=\"%s\"]'\u001b[0m \u001b[1;33m%\u001b[0m \u001b[0mvalue\u001b[0m\u001b[1;33m\u001b[0m\u001b[1;33m\u001b[0m\u001b[0m\n\u001b[0;32m   1250\u001b[0m \u001b[1;33m\u001b[0m\u001b[0m\n\u001b[1;32m-> 1251\u001b[1;33m         return self.execute(Command.FIND_ELEMENT, {\n\u001b[0m\u001b[0;32m   1252\u001b[0m             \u001b[1;34m'using'\u001b[0m\u001b[1;33m:\u001b[0m \u001b[0mby\u001b[0m\u001b[1;33m,\u001b[0m\u001b[1;33m\u001b[0m\u001b[1;33m\u001b[0m\u001b[0m\n\u001b[0;32m   1253\u001b[0m             'value': value})['value']\n",
      "\u001b[1;32m~\\AppData\\Roaming\\Python\\Python39\\site-packages\\selenium\\webdriver\\remote\\webdriver.py\u001b[0m in \u001b[0;36mexecute\u001b[1;34m(self, driver_command, params)\u001b[0m\n\u001b[0;32m    428\u001b[0m         \u001b[0mresponse\u001b[0m \u001b[1;33m=\u001b[0m \u001b[0mself\u001b[0m\u001b[1;33m.\u001b[0m\u001b[0mcommand_executor\u001b[0m\u001b[1;33m.\u001b[0m\u001b[0mexecute\u001b[0m\u001b[1;33m(\u001b[0m\u001b[0mdriver_command\u001b[0m\u001b[1;33m,\u001b[0m \u001b[0mparams\u001b[0m\u001b[1;33m)\u001b[0m\u001b[1;33m\u001b[0m\u001b[1;33m\u001b[0m\u001b[0m\n\u001b[0;32m    429\u001b[0m         \u001b[1;32mif\u001b[0m \u001b[0mresponse\u001b[0m\u001b[1;33m:\u001b[0m\u001b[1;33m\u001b[0m\u001b[1;33m\u001b[0m\u001b[0m\n\u001b[1;32m--> 430\u001b[1;33m             \u001b[0mself\u001b[0m\u001b[1;33m.\u001b[0m\u001b[0merror_handler\u001b[0m\u001b[1;33m.\u001b[0m\u001b[0mcheck_response\u001b[0m\u001b[1;33m(\u001b[0m\u001b[0mresponse\u001b[0m\u001b[1;33m)\u001b[0m\u001b[1;33m\u001b[0m\u001b[1;33m\u001b[0m\u001b[0m\n\u001b[0m\u001b[0;32m    431\u001b[0m             response['value'] = self._unwrap_value(\n\u001b[0;32m    432\u001b[0m                 response.get('value', None))\n",
      "\u001b[1;32m~\\AppData\\Roaming\\Python\\Python39\\site-packages\\selenium\\webdriver\\remote\\errorhandler.py\u001b[0m in \u001b[0;36mcheck_response\u001b[1;34m(self, response)\u001b[0m\n\u001b[0;32m    245\u001b[0m                 \u001b[0malert_text\u001b[0m \u001b[1;33m=\u001b[0m \u001b[0mvalue\u001b[0m\u001b[1;33m[\u001b[0m\u001b[1;34m'alert'\u001b[0m\u001b[1;33m]\u001b[0m\u001b[1;33m.\u001b[0m\u001b[0mget\u001b[0m\u001b[1;33m(\u001b[0m\u001b[1;34m'text'\u001b[0m\u001b[1;33m)\u001b[0m\u001b[1;33m\u001b[0m\u001b[1;33m\u001b[0m\u001b[0m\n\u001b[0;32m    246\u001b[0m             \u001b[1;32mraise\u001b[0m \u001b[0mexception_class\u001b[0m\u001b[1;33m(\u001b[0m\u001b[0mmessage\u001b[0m\u001b[1;33m,\u001b[0m \u001b[0mscreen\u001b[0m\u001b[1;33m,\u001b[0m \u001b[0mstacktrace\u001b[0m\u001b[1;33m,\u001b[0m \u001b[0malert_text\u001b[0m\u001b[1;33m)\u001b[0m  \u001b[1;31m# type: ignore[call-arg]  # mypy is not smart enough here\u001b[0m\u001b[1;33m\u001b[0m\u001b[1;33m\u001b[0m\u001b[0m\n\u001b[1;32m--> 247\u001b[1;33m         \u001b[1;32mraise\u001b[0m \u001b[0mexception_class\u001b[0m\u001b[1;33m(\u001b[0m\u001b[0mmessage\u001b[0m\u001b[1;33m,\u001b[0m \u001b[0mscreen\u001b[0m\u001b[1;33m,\u001b[0m \u001b[0mstacktrace\u001b[0m\u001b[1;33m)\u001b[0m\u001b[1;33m\u001b[0m\u001b[1;33m\u001b[0m\u001b[0m\n\u001b[0m\u001b[0;32m    248\u001b[0m \u001b[1;33m\u001b[0m\u001b[0m\n\u001b[0;32m    249\u001b[0m     \u001b[1;32mdef\u001b[0m \u001b[0m_value_or_default\u001b[0m\u001b[1;33m(\u001b[0m\u001b[0mself\u001b[0m\u001b[1;33m,\u001b[0m \u001b[0mobj\u001b[0m\u001b[1;33m:\u001b[0m \u001b[0mMapping\u001b[0m\u001b[1;33m[\u001b[0m\u001b[0m_KT\u001b[0m\u001b[1;33m,\u001b[0m \u001b[0m_VT\u001b[0m\u001b[1;33m]\u001b[0m\u001b[1;33m,\u001b[0m \u001b[0mkey\u001b[0m\u001b[1;33m:\u001b[0m \u001b[0m_KT\u001b[0m\u001b[1;33m,\u001b[0m \u001b[0mdefault\u001b[0m\u001b[1;33m:\u001b[0m \u001b[0m_VT\u001b[0m\u001b[1;33m)\u001b[0m \u001b[1;33m->\u001b[0m \u001b[0m_VT\u001b[0m\u001b[1;33m:\u001b[0m\u001b[1;33m\u001b[0m\u001b[1;33m\u001b[0m\u001b[0m\n",
      "\u001b[1;31mNoSuchElementException\u001b[0m: Message: no such element: Unable to locate element: {\"method\":\"xpath\",\"selector\":\"//a[@href='https://www.flipkart.com/apple-iphone-11-white-128-gb/product-reviews/itme32df47ea6742?pid=MOBFWQ6B7KKRXDDS&amp;lid=LSTMOBFWQ6B7KKRXDDSMBIFYZ&amp;marketplace=FLIPKART']\"}\n  (Session info: chrome=102.0.5005.115)\nStacktrace:\nBacktrace:\n\tOrdinal0 [0x00D7D953+2414931]\n\tOrdinal0 [0x00D0F5E1+1963489]\n\tOrdinal0 [0x00BFC6B8+837304]\n\tOrdinal0 [0x00C29500+1021184]\n\tOrdinal0 [0x00C2979B+1021851]\n\tOrdinal0 [0x00C56502+1205506]\n\tOrdinal0 [0x00C444E4+1131748]\n\tOrdinal0 [0x00C54812+1198098]\n\tOrdinal0 [0x00C442B6+1131190]\n\tOrdinal0 [0x00C1E860+976992]\n\tOrdinal0 [0x00C1F756+980822]\n\tGetHandleVerifier [0x00FECC62+2510274]\n\tGetHandleVerifier [0x00FDF760+2455744]\n\tGetHandleVerifier [0x00E0EABA+551962]\n\tGetHandleVerifier [0x00E0D916+547446]\n\tOrdinal0 [0x00D15F3B+1990459]\n\tOrdinal0 [0x00D1A898+2009240]\n\tOrdinal0 [0x00D1A985+2009477]\n\tOrdinal0 [0x00D23AD1+2046673]\n\tBaseThreadInitThunk [0x748A8484+36]\n\tRtlValidSecurityDescriptor [0x77B8305A+282]\n\tRtlValidSecurityDescriptor [0x77B8302A+234]\n"
     ]
    }
   ],
   "source": [
    "opt2=driver.find_element_by_xpath(\"//a[@href='https://www.flipkart.com/apple-iphone-11-white-128-gb/product-reviews/itme32df47ea6742?pid=MOBFWQ6B7KKRXDDS&amp;lid=LSTMOBFWQ6B7KKRXDDSMBIFYZ&amp;marketplace=FLIPKART']\")\n",
    "opt2.get_attribute('href')"
   ]
  },
  {
   "cell_type": "code",
   "execution_count": 170,
   "id": "effe86f9",
   "metadata": {},
   "outputs": [],
   "source": [
    "# this is the problem i encountered in this question."
   ]
  },
  {
   "cell_type": "code",
   "execution_count": 167,
   "id": "6b5089e4",
   "metadata": {},
   "outputs": [
    {
     "ename": "NoSuchElementException",
     "evalue": "Message: no such element: Unable to locate element: {\"method\":\"xpath\",\"selector\":\"/html/body/div[1]/div/div[3]/div[1]/div[2]/div[9]/div[6]/div/a/div/span\"}\n  (Session info: chrome=102.0.5005.115)\nStacktrace:\nBacktrace:\n\tOrdinal0 [0x00D7D953+2414931]\n\tOrdinal0 [0x00D0F5E1+1963489]\n\tOrdinal0 [0x00BFC6B8+837304]\n\tOrdinal0 [0x00C29500+1021184]\n\tOrdinal0 [0x00C2979B+1021851]\n\tOrdinal0 [0x00C56502+1205506]\n\tOrdinal0 [0x00C444E4+1131748]\n\tOrdinal0 [0x00C54812+1198098]\n\tOrdinal0 [0x00C442B6+1131190]\n\tOrdinal0 [0x00C1E860+976992]\n\tOrdinal0 [0x00C1F756+980822]\n\tGetHandleVerifier [0x00FECC62+2510274]\n\tGetHandleVerifier [0x00FDF760+2455744]\n\tGetHandleVerifier [0x00E0EABA+551962]\n\tGetHandleVerifier [0x00E0D916+547446]\n\tOrdinal0 [0x00D15F3B+1990459]\n\tOrdinal0 [0x00D1A898+2009240]\n\tOrdinal0 [0x00D1A985+2009477]\n\tOrdinal0 [0x00D23AD1+2046673]\n\tBaseThreadInitThunk [0x748A8484+36]\n\tRtlValidSecurityDescriptor [0x77B8305A+282]\n\tRtlValidSecurityDescriptor [0x77B8302A+234]\n",
     "output_type": "error",
     "traceback": [
      "\u001b[1;31m---------------------------------------------------------------------------\u001b[0m",
      "\u001b[1;31mNoSuchElementException\u001b[0m                    Traceback (most recent call last)",
      "\u001b[1;32mC:\\Users\\GOPALP~1\\AppData\\Local\\Temp/ipykernel_13016/2555358280.py\u001b[0m in \u001b[0;36m<module>\u001b[1;34m\u001b[0m\n\u001b[1;32m----> 1\u001b[1;33m \u001b[1;33m(\u001b[0m\u001b[0mdriver\u001b[0m\u001b[1;33m.\u001b[0m\u001b[0mfind_element_by_xpath\u001b[0m\u001b[1;33m(\u001b[0m\u001b[1;34m\"/html/body/div[1]/div/div[3]/div[1]/div[2]/div[9]/div[6]/div/a/div/span\"\u001b[0m\u001b[1;33m)\u001b[0m\u001b[1;33m)\u001b[0m\u001b[1;33m.\u001b[0m\u001b[0mclick\u001b[0m\u001b[1;33m(\u001b[0m\u001b[1;33m)\u001b[0m\u001b[1;33m\u001b[0m\u001b[1;33m\u001b[0m\u001b[0m\n\u001b[0m",
      "\u001b[1;32m~\\AppData\\Roaming\\Python\\Python39\\site-packages\\selenium\\webdriver\\remote\\webdriver.py\u001b[0m in \u001b[0;36mfind_element_by_xpath\u001b[1;34m(self, xpath)\u001b[0m\n\u001b[0;32m    524\u001b[0m             \u001b[0mstacklevel\u001b[0m\u001b[1;33m=\u001b[0m\u001b[1;36m2\u001b[0m\u001b[1;33m,\u001b[0m\u001b[1;33m\u001b[0m\u001b[1;33m\u001b[0m\u001b[0m\n\u001b[0;32m    525\u001b[0m         )\n\u001b[1;32m--> 526\u001b[1;33m         \u001b[1;32mreturn\u001b[0m \u001b[0mself\u001b[0m\u001b[1;33m.\u001b[0m\u001b[0mfind_element\u001b[0m\u001b[1;33m(\u001b[0m\u001b[0mby\u001b[0m\u001b[1;33m=\u001b[0m\u001b[0mBy\u001b[0m\u001b[1;33m.\u001b[0m\u001b[0mXPATH\u001b[0m\u001b[1;33m,\u001b[0m \u001b[0mvalue\u001b[0m\u001b[1;33m=\u001b[0m\u001b[0mxpath\u001b[0m\u001b[1;33m)\u001b[0m\u001b[1;33m\u001b[0m\u001b[1;33m\u001b[0m\u001b[0m\n\u001b[0m\u001b[0;32m    527\u001b[0m \u001b[1;33m\u001b[0m\u001b[0m\n\u001b[0;32m    528\u001b[0m     \u001b[1;32mdef\u001b[0m \u001b[0mfind_elements_by_xpath\u001b[0m\u001b[1;33m(\u001b[0m\u001b[0mself\u001b[0m\u001b[1;33m,\u001b[0m \u001b[0mxpath\u001b[0m\u001b[1;33m)\u001b[0m \u001b[1;33m->\u001b[0m \u001b[0mList\u001b[0m\u001b[1;33m[\u001b[0m\u001b[0mWebElement\u001b[0m\u001b[1;33m]\u001b[0m\u001b[1;33m:\u001b[0m\u001b[1;33m\u001b[0m\u001b[1;33m\u001b[0m\u001b[0m\n",
      "\u001b[1;32m~\\AppData\\Roaming\\Python\\Python39\\site-packages\\selenium\\webdriver\\remote\\webdriver.py\u001b[0m in \u001b[0;36mfind_element\u001b[1;34m(self, by, value)\u001b[0m\n\u001b[0;32m   1249\u001b[0m             \u001b[0mvalue\u001b[0m \u001b[1;33m=\u001b[0m \u001b[1;34m'[name=\"%s\"]'\u001b[0m \u001b[1;33m%\u001b[0m \u001b[0mvalue\u001b[0m\u001b[1;33m\u001b[0m\u001b[1;33m\u001b[0m\u001b[0m\n\u001b[0;32m   1250\u001b[0m \u001b[1;33m\u001b[0m\u001b[0m\n\u001b[1;32m-> 1251\u001b[1;33m         return self.execute(Command.FIND_ELEMENT, {\n\u001b[0m\u001b[0;32m   1252\u001b[0m             \u001b[1;34m'using'\u001b[0m\u001b[1;33m:\u001b[0m \u001b[0mby\u001b[0m\u001b[1;33m,\u001b[0m\u001b[1;33m\u001b[0m\u001b[1;33m\u001b[0m\u001b[0m\n\u001b[0;32m   1253\u001b[0m             'value': value})['value']\n",
      "\u001b[1;32m~\\AppData\\Roaming\\Python\\Python39\\site-packages\\selenium\\webdriver\\remote\\webdriver.py\u001b[0m in \u001b[0;36mexecute\u001b[1;34m(self, driver_command, params)\u001b[0m\n\u001b[0;32m    428\u001b[0m         \u001b[0mresponse\u001b[0m \u001b[1;33m=\u001b[0m \u001b[0mself\u001b[0m\u001b[1;33m.\u001b[0m\u001b[0mcommand_executor\u001b[0m\u001b[1;33m.\u001b[0m\u001b[0mexecute\u001b[0m\u001b[1;33m(\u001b[0m\u001b[0mdriver_command\u001b[0m\u001b[1;33m,\u001b[0m \u001b[0mparams\u001b[0m\u001b[1;33m)\u001b[0m\u001b[1;33m\u001b[0m\u001b[1;33m\u001b[0m\u001b[0m\n\u001b[0;32m    429\u001b[0m         \u001b[1;32mif\u001b[0m \u001b[0mresponse\u001b[0m\u001b[1;33m:\u001b[0m\u001b[1;33m\u001b[0m\u001b[1;33m\u001b[0m\u001b[0m\n\u001b[1;32m--> 430\u001b[1;33m             \u001b[0mself\u001b[0m\u001b[1;33m.\u001b[0m\u001b[0merror_handler\u001b[0m\u001b[1;33m.\u001b[0m\u001b[0mcheck_response\u001b[0m\u001b[1;33m(\u001b[0m\u001b[0mresponse\u001b[0m\u001b[1;33m)\u001b[0m\u001b[1;33m\u001b[0m\u001b[1;33m\u001b[0m\u001b[0m\n\u001b[0m\u001b[0;32m    431\u001b[0m             response['value'] = self._unwrap_value(\n\u001b[0;32m    432\u001b[0m                 response.get('value', None))\n",
      "\u001b[1;32m~\\AppData\\Roaming\\Python\\Python39\\site-packages\\selenium\\webdriver\\remote\\errorhandler.py\u001b[0m in \u001b[0;36mcheck_response\u001b[1;34m(self, response)\u001b[0m\n\u001b[0;32m    245\u001b[0m                 \u001b[0malert_text\u001b[0m \u001b[1;33m=\u001b[0m \u001b[0mvalue\u001b[0m\u001b[1;33m[\u001b[0m\u001b[1;34m'alert'\u001b[0m\u001b[1;33m]\u001b[0m\u001b[1;33m.\u001b[0m\u001b[0mget\u001b[0m\u001b[1;33m(\u001b[0m\u001b[1;34m'text'\u001b[0m\u001b[1;33m)\u001b[0m\u001b[1;33m\u001b[0m\u001b[1;33m\u001b[0m\u001b[0m\n\u001b[0;32m    246\u001b[0m             \u001b[1;32mraise\u001b[0m \u001b[0mexception_class\u001b[0m\u001b[1;33m(\u001b[0m\u001b[0mmessage\u001b[0m\u001b[1;33m,\u001b[0m \u001b[0mscreen\u001b[0m\u001b[1;33m,\u001b[0m \u001b[0mstacktrace\u001b[0m\u001b[1;33m,\u001b[0m \u001b[0malert_text\u001b[0m\u001b[1;33m)\u001b[0m  \u001b[1;31m# type: ignore[call-arg]  # mypy is not smart enough here\u001b[0m\u001b[1;33m\u001b[0m\u001b[1;33m\u001b[0m\u001b[0m\n\u001b[1;32m--> 247\u001b[1;33m         \u001b[1;32mraise\u001b[0m \u001b[0mexception_class\u001b[0m\u001b[1;33m(\u001b[0m\u001b[0mmessage\u001b[0m\u001b[1;33m,\u001b[0m \u001b[0mscreen\u001b[0m\u001b[1;33m,\u001b[0m \u001b[0mstacktrace\u001b[0m\u001b[1;33m)\u001b[0m\u001b[1;33m\u001b[0m\u001b[1;33m\u001b[0m\u001b[0m\n\u001b[0m\u001b[0;32m    248\u001b[0m \u001b[1;33m\u001b[0m\u001b[0m\n\u001b[0;32m    249\u001b[0m     \u001b[1;32mdef\u001b[0m \u001b[0m_value_or_default\u001b[0m\u001b[1;33m(\u001b[0m\u001b[0mself\u001b[0m\u001b[1;33m,\u001b[0m \u001b[0mobj\u001b[0m\u001b[1;33m:\u001b[0m \u001b[0mMapping\u001b[0m\u001b[1;33m[\u001b[0m\u001b[0m_KT\u001b[0m\u001b[1;33m,\u001b[0m \u001b[0m_VT\u001b[0m\u001b[1;33m]\u001b[0m\u001b[1;33m,\u001b[0m \u001b[0mkey\u001b[0m\u001b[1;33m:\u001b[0m \u001b[0m_KT\u001b[0m\u001b[1;33m,\u001b[0m \u001b[0mdefault\u001b[0m\u001b[1;33m:\u001b[0m \u001b[0m_VT\u001b[0m\u001b[1;33m)\u001b[0m \u001b[1;33m->\u001b[0m \u001b[0m_VT\u001b[0m\u001b[1;33m:\u001b[0m\u001b[1;33m\u001b[0m\u001b[1;33m\u001b[0m\u001b[0m\n",
      "\u001b[1;31mNoSuchElementException\u001b[0m: Message: no such element: Unable to locate element: {\"method\":\"xpath\",\"selector\":\"/html/body/div[1]/div/div[3]/div[1]/div[2]/div[9]/div[6]/div/a/div/span\"}\n  (Session info: chrome=102.0.5005.115)\nStacktrace:\nBacktrace:\n\tOrdinal0 [0x00D7D953+2414931]\n\tOrdinal0 [0x00D0F5E1+1963489]\n\tOrdinal0 [0x00BFC6B8+837304]\n\tOrdinal0 [0x00C29500+1021184]\n\tOrdinal0 [0x00C2979B+1021851]\n\tOrdinal0 [0x00C56502+1205506]\n\tOrdinal0 [0x00C444E4+1131748]\n\tOrdinal0 [0x00C54812+1198098]\n\tOrdinal0 [0x00C442B6+1131190]\n\tOrdinal0 [0x00C1E860+976992]\n\tOrdinal0 [0x00C1F756+980822]\n\tGetHandleVerifier [0x00FECC62+2510274]\n\tGetHandleVerifier [0x00FDF760+2455744]\n\tGetHandleVerifier [0x00E0EABA+551962]\n\tGetHandleVerifier [0x00E0D916+547446]\n\tOrdinal0 [0x00D15F3B+1990459]\n\tOrdinal0 [0x00D1A898+2009240]\n\tOrdinal0 [0x00D1A985+2009477]\n\tOrdinal0 [0x00D23AD1+2046673]\n\tBaseThreadInitThunk [0x748A8484+36]\n\tRtlValidSecurityDescriptor [0x77B8305A+282]\n\tRtlValidSecurityDescriptor [0x77B8302A+234]\n"
     ]
    }
   ],
   "source": [
    "(driver.find_element_by_xpath(\"/html/body/div[1]/div/div[3]/div[1]/div[2]/div[9]/div[6]/div/a/div/span\")).click()"
   ]
  },
  {
   "cell_type": "code",
   "execution_count": 171,
   "id": "43c420ac",
   "metadata": {},
   "outputs": [],
   "source": [
    "# this also didn't work."
   ]
  },
  {
   "cell_type": "code",
   "execution_count": 172,
   "id": "aa2335e2",
   "metadata": {},
   "outputs": [],
   "source": [
    "rating5=[]\n",
    "review5=[]\n",
    "review_all5=[]"
   ]
  },
  {
   "cell_type": "code",
   "execution_count": 173,
   "id": "5c0265e3",
   "metadata": {},
   "outputs": [],
   "source": [
    "rating_tags5=driver.find_elements_by_xpath(\"//div[@class='_3LWZlK _1BLPMq']\")\n",
    "for i in rating_tags5:\n",
    "    rating5.append(i.text)\n",
    "review_tags5=driver.find_elements_by_xpath(\"//p[@class='_2-N8zT']\")\n",
    "for j in review_tags5:\n",
    "    review5.append(j.text)\n",
    "review_all_tags5=driver.find_elements_by_xpath(\"//div[@class='t-ZTKy']/div[2]\")\n",
    "for k in review_all_tags5:\n",
    "    review_all5.append(k.text)\n",
    "    #more_button=driver.find_element_by_xpath(\"//span[@class='MCE--B']\")\n",
    "    #more_button.click()\n",
    "    #time.sleep(3)"
   ]
  },
  {
   "cell_type": "code",
   "execution_count": 175,
   "id": "b6be2384",
   "metadata": {},
   "outputs": [
    {
     "data": {
      "text/html": [
       "<div>\n",
       "<style scoped>\n",
       "    .dataframe tbody tr th:only-of-type {\n",
       "        vertical-align: middle;\n",
       "    }\n",
       "\n",
       "    .dataframe tbody tr th {\n",
       "        vertical-align: top;\n",
       "    }\n",
       "\n",
       "    .dataframe thead th {\n",
       "        text-align: right;\n",
       "    }\n",
       "</style>\n",
       "<table border=\"1\" class=\"dataframe\">\n",
       "  <thead>\n",
       "    <tr style=\"text-align: right;\">\n",
       "      <th></th>\n",
       "      <th>rating</th>\n",
       "      <th>review</th>\n",
       "      <th>full review</th>\n",
       "    </tr>\n",
       "  </thead>\n",
       "  <tbody>\n",
       "  </tbody>\n",
       "</table>\n",
       "</div>"
      ],
      "text/plain": [
       "Empty DataFrame\n",
       "Columns: [rating, review, full review]\n",
       "Index: []"
      ]
     },
     "execution_count": 175,
     "metadata": {},
     "output_type": "execute_result"
    }
   ],
   "source": [
    "df5 = pd.DataFrame({'rating':rating5,'review':review5,'full review':review_all5})\n",
    "df5"
   ]
  },
  {
   "cell_type": "code",
   "execution_count": 176,
   "id": "4c234cef",
   "metadata": {},
   "outputs": [],
   "source": [
    "# Answer 5). not completed. unable to click on all reviews button as for its element, everytime i m getting same error. i also raised a ticket regarding this doubt and then i tried the solution suggested to me but that also didn't work."
   ]
  },
  {
   "cell_type": "code",
   "execution_count": 177,
   "id": "a5931de5",
   "metadata": {},
   "outputs": [],
   "source": [
    "# Answer 8). To scrape first 10 laptops data."
   ]
  },
  {
   "cell_type": "code",
   "execution_count": 178,
   "id": "f14381c1",
   "metadata": {},
   "outputs": [],
   "source": [
    "driver.get(\"https://www.amazon.in/\")"
   ]
  },
  {
   "cell_type": "code",
   "execution_count": 179,
   "id": "ea1aeb14",
   "metadata": {},
   "outputs": [],
   "source": [
    "search=driver.find_element_by_xpath(\"/html/body/div[1]/header/div/div[1]/div[2]/div/form/div[2]/div[1]/input\")\n",
    "search.send_keys(\"Laptop\")"
   ]
  },
  {
   "cell_type": "code",
   "execution_count": 180,
   "id": "bb096cbc",
   "metadata": {},
   "outputs": [],
   "source": [
    "search_button=driver.find_element_by_xpath(\"/html/body/div[1]/header/div/div[1]/div[2]/div/form/div[3]/div/span/input\")\n",
    "search_button.click()"
   ]
  },
  {
   "cell_type": "code",
   "execution_count": 181,
   "id": "75873fa7",
   "metadata": {},
   "outputs": [],
   "source": [
    "cpu_filter=driver.find_element_by_xpath(\"/html/body/div[1]/div[2]/div[1]/div[2]/div/div[3]/span/div[1]/div/div/div[5]/ul[4]/li[12]/span/a/div/label/i\")\n",
    "cpu_filter.click()"
   ]
  },
  {
   "cell_type": "code",
   "execution_count": 203,
   "id": "6a46468b",
   "metadata": {},
   "outputs": [],
   "source": [
    "title8=[]\n",
    "rating8=[]\n",
    "price8=[]"
   ]
  },
  {
   "cell_type": "code",
   "execution_count": 204,
   "id": "f845f900",
   "metadata": {},
   "outputs": [],
   "source": [
    "title_tag8=driver.find_elements_by_xpath(\"//span[@class='a-size-medium a-color-base a-text-normal']\")\n",
    "for i in title_tag8:\n",
    "    title8.append(i.text)\n",
    "rating_tag8=driver.find_elements_by_xpath(\"//i[@class='a-icon a-icon-star-small a-star-small-4 aok-align-bottom']/span\")\n",
    "for j in rating_tag8:\n",
    "    rating8.append(j.text)\n",
    "price_tag8=driver.find_elements_by_xpath(\"//span[@class='a-price-whole']\")\n",
    "for k in price_tag8:\n",
    "    price8.append(k.text)\n",
    "title8=title8[0:10]\n",
    "rating8=rating8[0:10]\n",
    "price8=price8[0:10]"
   ]
  },
  {
   "cell_type": "code",
   "execution_count": 205,
   "id": "288cf36f",
   "metadata": {},
   "outputs": [
    {
     "data": {
      "text/plain": [
       "['', '', '', '', '', '', '', '', '']"
      ]
     },
     "execution_count": 205,
     "metadata": {},
     "output_type": "execute_result"
    }
   ],
   "source": [
    "rating8"
   ]
  },
  {
   "cell_type": "code",
   "execution_count": 206,
   "id": "18a7d63b",
   "metadata": {},
   "outputs": [
    {
     "data": {
      "text/plain": [
       "['Dell New Vostro 3400 Laptop, Intel i5-1135G7, Win11 + Office\\'21, 8GB GDDR4, 512GB SSD, 14\" (35.56Cms) FHD AG, Accent Black (D552256WIN9B, 1.59Kgs)',\n",
       " 'HP 15s 11th Gen Intel Core i5 15.6 inch(39.6 cm) FHD Anti-Glare Display Laptop (8GB RAM/512GB SSD Micro-Edge/Iris Xe Graphics/Backlit Keyboard/Win 11/Alexa/Dual Speakers/MSO, 15s- fq4021TU, 1.69Kg)',\n",
       " 'Lenovo ThinkBook 14 Intel Core i5 11th Gen 14\" (35.56cm) FHD IPS Thin & Light Laptop (16GB RAM/512GB SSD/Windows 11 Home/MS Office 2021/FPR/Intel Iris Xe Graphics Mineral Grey/1.4 kg), 20VDA0TLIH',\n",
       " 'Lenovo IdeaPad Slim 3 10th Gen Intel Core i5 15.6\" (39.62cm) FHD Laptop (8GB/512GB SSD/Win 11/Office 2021/2 Year Warranty/3 Month Game Pass/Platinum Grey/1.85Kg), 81WE01MYIN',\n",
       " 'ASUS TUF Gaming F15 (2021), 15.6\" (39.62 cms) FHD 144Hz, Intel Core i5-10300H 10th Gen, GTX 1650 4GB Graphics, Gaming Laptop (8GB RAM/512GB NVMe SSD/Windows 11/Black/2.30 Kg), FX506LH-HN258W',\n",
       " 'Honor MagicBook X 14, Intel Core i5-10210U 14 inch (35.56 cm) FHD IPS Anti-Glare Thin and Light Laptop (8GB/512GB PCIe SSD/Windows 10/1.38Kg), Gray, (NobleBR-WAH9E)',\n",
       " 'Lenovo IdeaPad Slim 3 10th Gen Intel Core i5 15.6\" FHD IPS Thin & Light Laptop(8GB/512GB SSD/2GB MX330 Gfx/2Yr Warranty/Win11/Office 2021/300Nits/3months Xbox Game Pass/Platinum Grey/1.7Kg),81WB01BPIN',\n",
       " '(Renewed) Lenovo ThinkPad T420 Intel 2nd Gen Core i5 14 inches Business Laptop (4 GB, 500 GB, 1366x768, LED, Windows 7, Integrated Graphics, Black, 2 Kg)',\n",
       " '(Renewed) Dell Intel 5th Gen Core i5 5300U 14-Inch (35.56 cms) Laptop (8 GB/256 GB SSD/Windows 10/Intel HD Graphics/Black/), Latitude E5450',\n",
       " 'Redmi Book Pro Intel Core i5 11th Gen H Series 15.6-inch(39.62 cms) Thin and Light Laptop (8GB/512 GB SSD/Windows 10 Home) (Charcoal Gray, 1.8 kg, with MS Office)']"
      ]
     },
     "execution_count": 206,
     "metadata": {},
     "output_type": "execute_result"
    }
   ],
   "source": [
    "title8"
   ]
  },
  {
   "cell_type": "code",
   "execution_count": 207,
   "id": "7f3f9080",
   "metadata": {},
   "outputs": [
    {
     "data": {
      "text/plain": [
       "['51,499',\n",
       " '52,990',\n",
       " '59,990',\n",
       " '45,990',\n",
       " '54,990',\n",
       " '42,990',\n",
       " '49,390',\n",
       " '18,490',\n",
       " '33,999',\n",
       " '42,990']"
      ]
     },
     "execution_count": 207,
     "metadata": {},
     "output_type": "execute_result"
    }
   ],
   "source": [
    "price8"
   ]
  },
  {
   "cell_type": "code",
   "execution_count": 185,
   "id": "d06ce88c",
   "metadata": {},
   "outputs": [
    {
     "ename": "ValueError",
     "evalue": "All arrays must be of the same length",
     "output_type": "error",
     "traceback": [
      "\u001b[1;31m---------------------------------------------------------------------------\u001b[0m",
      "\u001b[1;31mValueError\u001b[0m                                Traceback (most recent call last)",
      "\u001b[1;32mC:\\Users\\GOPALP~1\\AppData\\Local\\Temp/ipykernel_13016/1318286063.py\u001b[0m in \u001b[0;36m<module>\u001b[1;34m\u001b[0m\n\u001b[1;32m----> 1\u001b[1;33m \u001b[0mdf8\u001b[0m\u001b[1;33m=\u001b[0m\u001b[0mpd\u001b[0m\u001b[1;33m.\u001b[0m\u001b[0mDataFrame\u001b[0m\u001b[1;33m(\u001b[0m\u001b[1;33m{\u001b[0m\u001b[1;34m'Title of Laptoop'\u001b[0m\u001b[1;33m:\u001b[0m\u001b[0mtitle8\u001b[0m\u001b[1;33m,\u001b[0m\u001b[1;34m'Rating'\u001b[0m\u001b[1;33m:\u001b[0m\u001b[0mrating8\u001b[0m\u001b[1;33m,\u001b[0m\u001b[1;34m'Price'\u001b[0m\u001b[1;33m:\u001b[0m\u001b[0mprice8\u001b[0m\u001b[1;33m}\u001b[0m\u001b[1;33m)\u001b[0m\u001b[1;33m\u001b[0m\u001b[1;33m\u001b[0m\u001b[0m\n\u001b[0m\u001b[0;32m      2\u001b[0m \u001b[0mdf8\u001b[0m\u001b[1;33m\u001b[0m\u001b[1;33m\u001b[0m\u001b[0m\n",
      "\u001b[1;32mC:\\ProgramData\\Anaconda3\\lib\\site-packages\\pandas\\core\\frame.py\u001b[0m in \u001b[0;36m__init__\u001b[1;34m(self, data, index, columns, dtype, copy)\u001b[0m\n\u001b[0;32m    612\u001b[0m         \u001b[1;32melif\u001b[0m \u001b[0misinstance\u001b[0m\u001b[1;33m(\u001b[0m\u001b[0mdata\u001b[0m\u001b[1;33m,\u001b[0m \u001b[0mdict\u001b[0m\u001b[1;33m)\u001b[0m\u001b[1;33m:\u001b[0m\u001b[1;33m\u001b[0m\u001b[1;33m\u001b[0m\u001b[0m\n\u001b[0;32m    613\u001b[0m             \u001b[1;31m# GH#38939 de facto copy defaults to False only in non-dict cases\u001b[0m\u001b[1;33m\u001b[0m\u001b[1;33m\u001b[0m\u001b[0m\n\u001b[1;32m--> 614\u001b[1;33m             \u001b[0mmgr\u001b[0m \u001b[1;33m=\u001b[0m \u001b[0mdict_to_mgr\u001b[0m\u001b[1;33m(\u001b[0m\u001b[0mdata\u001b[0m\u001b[1;33m,\u001b[0m \u001b[0mindex\u001b[0m\u001b[1;33m,\u001b[0m \u001b[0mcolumns\u001b[0m\u001b[1;33m,\u001b[0m \u001b[0mdtype\u001b[0m\u001b[1;33m=\u001b[0m\u001b[0mdtype\u001b[0m\u001b[1;33m,\u001b[0m \u001b[0mcopy\u001b[0m\u001b[1;33m=\u001b[0m\u001b[0mcopy\u001b[0m\u001b[1;33m,\u001b[0m \u001b[0mtyp\u001b[0m\u001b[1;33m=\u001b[0m\u001b[0mmanager\u001b[0m\u001b[1;33m)\u001b[0m\u001b[1;33m\u001b[0m\u001b[1;33m\u001b[0m\u001b[0m\n\u001b[0m\u001b[0;32m    615\u001b[0m         \u001b[1;32melif\u001b[0m \u001b[0misinstance\u001b[0m\u001b[1;33m(\u001b[0m\u001b[0mdata\u001b[0m\u001b[1;33m,\u001b[0m \u001b[0mma\u001b[0m\u001b[1;33m.\u001b[0m\u001b[0mMaskedArray\u001b[0m\u001b[1;33m)\u001b[0m\u001b[1;33m:\u001b[0m\u001b[1;33m\u001b[0m\u001b[1;33m\u001b[0m\u001b[0m\n\u001b[0;32m    616\u001b[0m             \u001b[1;32mimport\u001b[0m \u001b[0mnumpy\u001b[0m\u001b[1;33m.\u001b[0m\u001b[0mma\u001b[0m\u001b[1;33m.\u001b[0m\u001b[0mmrecords\u001b[0m \u001b[1;32mas\u001b[0m \u001b[0mmrecords\u001b[0m\u001b[1;33m\u001b[0m\u001b[1;33m\u001b[0m\u001b[0m\n",
      "\u001b[1;32mC:\\ProgramData\\Anaconda3\\lib\\site-packages\\pandas\\core\\internals\\construction.py\u001b[0m in \u001b[0;36mdict_to_mgr\u001b[1;34m(data, index, columns, dtype, typ, copy)\u001b[0m\n\u001b[0;32m    462\u001b[0m         \u001b[1;31m# TODO: can we get rid of the dt64tz special case above?\u001b[0m\u001b[1;33m\u001b[0m\u001b[1;33m\u001b[0m\u001b[0m\n\u001b[0;32m    463\u001b[0m \u001b[1;33m\u001b[0m\u001b[0m\n\u001b[1;32m--> 464\u001b[1;33m     return arrays_to_mgr(\n\u001b[0m\u001b[0;32m    465\u001b[0m         \u001b[0marrays\u001b[0m\u001b[1;33m,\u001b[0m \u001b[0mdata_names\u001b[0m\u001b[1;33m,\u001b[0m \u001b[0mindex\u001b[0m\u001b[1;33m,\u001b[0m \u001b[0mcolumns\u001b[0m\u001b[1;33m,\u001b[0m \u001b[0mdtype\u001b[0m\u001b[1;33m=\u001b[0m\u001b[0mdtype\u001b[0m\u001b[1;33m,\u001b[0m \u001b[0mtyp\u001b[0m\u001b[1;33m=\u001b[0m\u001b[0mtyp\u001b[0m\u001b[1;33m,\u001b[0m \u001b[0mconsolidate\u001b[0m\u001b[1;33m=\u001b[0m\u001b[0mcopy\u001b[0m\u001b[1;33m\u001b[0m\u001b[1;33m\u001b[0m\u001b[0m\n\u001b[0;32m    466\u001b[0m     )\n",
      "\u001b[1;32mC:\\ProgramData\\Anaconda3\\lib\\site-packages\\pandas\\core\\internals\\construction.py\u001b[0m in \u001b[0;36marrays_to_mgr\u001b[1;34m(arrays, arr_names, index, columns, dtype, verify_integrity, typ, consolidate)\u001b[0m\n\u001b[0;32m    117\u001b[0m         \u001b[1;31m# figure out the index, if necessary\u001b[0m\u001b[1;33m\u001b[0m\u001b[1;33m\u001b[0m\u001b[0m\n\u001b[0;32m    118\u001b[0m         \u001b[1;32mif\u001b[0m \u001b[0mindex\u001b[0m \u001b[1;32mis\u001b[0m \u001b[1;32mNone\u001b[0m\u001b[1;33m:\u001b[0m\u001b[1;33m\u001b[0m\u001b[1;33m\u001b[0m\u001b[0m\n\u001b[1;32m--> 119\u001b[1;33m             \u001b[0mindex\u001b[0m \u001b[1;33m=\u001b[0m \u001b[0m_extract_index\u001b[0m\u001b[1;33m(\u001b[0m\u001b[0marrays\u001b[0m\u001b[1;33m)\u001b[0m\u001b[1;33m\u001b[0m\u001b[1;33m\u001b[0m\u001b[0m\n\u001b[0m\u001b[0;32m    120\u001b[0m         \u001b[1;32melse\u001b[0m\u001b[1;33m:\u001b[0m\u001b[1;33m\u001b[0m\u001b[1;33m\u001b[0m\u001b[0m\n\u001b[0;32m    121\u001b[0m             \u001b[0mindex\u001b[0m \u001b[1;33m=\u001b[0m \u001b[0mensure_index\u001b[0m\u001b[1;33m(\u001b[0m\u001b[0mindex\u001b[0m\u001b[1;33m)\u001b[0m\u001b[1;33m\u001b[0m\u001b[1;33m\u001b[0m\u001b[0m\n",
      "\u001b[1;32mC:\\ProgramData\\Anaconda3\\lib\\site-packages\\pandas\\core\\internals\\construction.py\u001b[0m in \u001b[0;36m_extract_index\u001b[1;34m(data)\u001b[0m\n\u001b[0;32m    633\u001b[0m             \u001b[0mlengths\u001b[0m \u001b[1;33m=\u001b[0m \u001b[0mlist\u001b[0m\u001b[1;33m(\u001b[0m\u001b[0mset\u001b[0m\u001b[1;33m(\u001b[0m\u001b[0mraw_lengths\u001b[0m\u001b[1;33m)\u001b[0m\u001b[1;33m)\u001b[0m\u001b[1;33m\u001b[0m\u001b[1;33m\u001b[0m\u001b[0m\n\u001b[0;32m    634\u001b[0m             \u001b[1;32mif\u001b[0m \u001b[0mlen\u001b[0m\u001b[1;33m(\u001b[0m\u001b[0mlengths\u001b[0m\u001b[1;33m)\u001b[0m \u001b[1;33m>\u001b[0m \u001b[1;36m1\u001b[0m\u001b[1;33m:\u001b[0m\u001b[1;33m\u001b[0m\u001b[1;33m\u001b[0m\u001b[0m\n\u001b[1;32m--> 635\u001b[1;33m                 \u001b[1;32mraise\u001b[0m \u001b[0mValueError\u001b[0m\u001b[1;33m(\u001b[0m\u001b[1;34m\"All arrays must be of the same length\"\u001b[0m\u001b[1;33m)\u001b[0m\u001b[1;33m\u001b[0m\u001b[1;33m\u001b[0m\u001b[0m\n\u001b[0m\u001b[0;32m    636\u001b[0m \u001b[1;33m\u001b[0m\u001b[0m\n\u001b[0;32m    637\u001b[0m             \u001b[1;32mif\u001b[0m \u001b[0mhave_dicts\u001b[0m\u001b[1;33m:\u001b[0m\u001b[1;33m\u001b[0m\u001b[1;33m\u001b[0m\u001b[0m\n",
      "\u001b[1;31mValueError\u001b[0m: All arrays must be of the same length"
     ]
    }
   ],
   "source": [
    "df8=pd.DataFrame({'Title of Laptoop':title8,'Rating':rating8,'Price':price8})\n",
    "df8"
   ]
  },
  {
   "cell_type": "code",
   "execution_count": 208,
   "id": "14e2003c",
   "metadata": {},
   "outputs": [],
   "source": [
    "# Answer 8). Not Completed.rating problem is not solved besides a lot of tries. i also followed what i was suggested in return of my ticket doubt but nothing worked."
   ]
  },
  {
   "cell_type": "code",
   "execution_count": 210,
   "id": "107d8982",
   "metadata": {},
   "outputs": [],
   "source": [
    "#so, except two questions Ques.5 and Ques 8., all other questions solved."
   ]
  },
  {
   "cell_type": "code",
   "execution_count": 211,
   "id": "053842df",
   "metadata": {},
   "outputs": [],
   "source": [
    "# hence, 8 answers are fully comleted and two are in doubt in this assignment."
   ]
  },
  {
   "cell_type": "code",
   "execution_count": null,
   "id": "1b2bad0e",
   "metadata": {},
   "outputs": [],
   "source": []
  }
 ],
 "metadata": {
  "kernelspec": {
   "display_name": "Python 3 (ipykernel)",
   "language": "python",
   "name": "python3"
  },
  "language_info": {
   "codemirror_mode": {
    "name": "ipython",
    "version": 3
   },
   "file_extension": ".py",
   "mimetype": "text/x-python",
   "name": "python",
   "nbconvert_exporter": "python",
   "pygments_lexer": "ipython3",
   "version": "3.9.7"
  }
 },
 "nbformat": 4,
 "nbformat_minor": 5
}
