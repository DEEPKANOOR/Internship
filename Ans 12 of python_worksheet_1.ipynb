{
 "cells": [
  {
   "cell_type": "code",
   "execution_count": 1,
   "id": "d60429c6",
   "metadata": {},
   "outputs": [],
   "source": [
    "# to find a number is prime or composite"
   ]
  },
  {
   "cell_type": "code",
   "execution_count": 14,
   "id": "47ff629c",
   "metadata": {},
   "outputs": [
    {
     "name": "stdout",
     "output_type": "stream",
     "text": [
      "enter ur number \t104729\n",
      "the entered number is Prime\n"
     ]
    }
   ],
   "source": [
    "x = int(input('enter ur number \\t'))\n",
    "for i in range(2,x,1):\n",
    "    if (x%i)!=0:\n",
    "        i+=1\n",
    "        if i == x:\n",
    "            print('the entered number is Prime')\n",
    "        else:\n",
    "            continue\n",
    "    else:\n",
    "        print('the entered number is Composite')\n",
    "        break"
   ]
  },
  {
   "cell_type": "code",
   "execution_count": null,
   "id": "3d69e72d",
   "metadata": {},
   "outputs": [],
   "source": []
  },
  {
   "cell_type": "code",
   "execution_count": null,
   "id": "c244565d",
   "metadata": {},
   "outputs": [],
   "source": []
  }
 ],
 "metadata": {
  "kernelspec": {
   "display_name": "Python 3 (ipykernel)",
   "language": "python",
   "name": "python3"
  },
  "language_info": {
   "codemirror_mode": {
    "name": "ipython",
    "version": 3
   },
   "file_extension": ".py",
   "mimetype": "text/x-python",
   "name": "python",
   "nbconvert_exporter": "python",
   "pygments_lexer": "ipython3",
   "version": "3.9.7"
  }
 },
 "nbformat": 4,
 "nbformat_minor": 5
}
