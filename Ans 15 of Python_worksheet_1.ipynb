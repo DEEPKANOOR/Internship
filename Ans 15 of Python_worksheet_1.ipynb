{
 "cells": [
  {
   "cell_type": "code",
   "execution_count": 1,
   "id": "00e6f8eb",
   "metadata": {},
   "outputs": [],
   "source": [
    "# to find the frequency of each of the characters present in a given string"
   ]
  },
  {
   "cell_type": "code",
   "execution_count": 4,
   "id": "2fbf17d8",
   "metadata": {},
   "outputs": [
    {
     "name": "stdout",
     "output_type": "stream",
     "text": [
      "enter a string \tdghgguhlkhlkhkugkhlk\n",
      "frequency of character d is 1\n",
      "frequency of character g is 4\n",
      "frequency of character h is 5\n",
      "frequency of character u is 2\n",
      "frequency of character l is 3\n",
      "frequency of character k is 5\n"
     ]
    }
   ],
   "source": [
    "while True:\n",
    "    try:\n",
    "        x = str(input('enter a string \\t'))\n",
    "    except:\n",
    "        print('enter only string data')\n",
    "    else:\n",
    "        l=[]\n",
    "        i=0\n",
    "        while i<len(x):\n",
    "            l.append(x[i])\n",
    "            i+=1\n",
    "        char=[]\n",
    "        j=0\n",
    "        while j<len(l):\n",
    "            if l[j] in char:\n",
    "                j+=1\n",
    "            else:\n",
    "                char.append(l[j])\n",
    "                j+=1\n",
    "        k=0\n",
    "        while k<len(char):\n",
    "            print('frequency of character ' +str(char[k]) + ' is ' +str(l.count(char[k])))\n",
    "            k+=1\n",
    "        break"
   ]
  },
  {
   "cell_type": "code",
   "execution_count": null,
   "id": "b7a41515",
   "metadata": {},
   "outputs": [],
   "source": []
  }
 ],
 "metadata": {
  "kernelspec": {
   "display_name": "Python 3 (ipykernel)",
   "language": "python",
   "name": "python3"
  },
  "language_info": {
   "codemirror_mode": {
    "name": "ipython",
    "version": 3
   },
   "file_extension": ".py",
   "mimetype": "text/x-python",
   "name": "python",
   "nbconvert_exporter": "python",
   "pygments_lexer": "ipython3",
   "version": "3.9.7"
  }
 },
 "nbformat": 4,
 "nbformat_minor": 5
}
